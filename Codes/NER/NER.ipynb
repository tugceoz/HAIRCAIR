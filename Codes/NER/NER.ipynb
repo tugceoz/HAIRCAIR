{
 "cells": [
  {
   "cell_type": "code",
   "execution_count": 59,
   "metadata": {},
   "outputs": [],
   "source": [
    "import spacy\n",
    "from spacy import displacy\n",
    "import pprint\n",
    "pp = pprint.PrettyPrinter(indent=4)\n",
    "from collections import Counter\n",
    "# python -m spacy download en\n",
    "import en_core_web_sm\n",
    "nlp = en_core_web_sm.load()\n",
    "import pandas as pd"
   ]
  },
  {
   "cell_type": "code",
   "execution_count": null,
   "metadata": {},
   "outputs": [],
   "source": []
  },
  {
   "cell_type": "code",
   "execution_count": 60,
   "metadata": {},
   "outputs": [],
   "source": [
    "df = pd.read_csv('/Users/tozturk/Desktop/HAIRCAIR/Codes/RedditScraper/TextData.csv')"
   ]
  },
  {
   "cell_type": "code",
   "execution_count": 61,
   "metadata": {},
   "outputs": [
    {
     "data": {
      "text/plain": [
       "Index(['Unnamed: 0', 'id', 'parentID', 'linkID', 'score', 'isSubmitter',\n",
       "       'body', 'rootFile', 'path'],\n",
       "      dtype='object')"
      ]
     },
     "execution_count": 61,
     "metadata": {},
     "output_type": "execute_result"
    }
   ],
   "source": [
    "df.columns"
   ]
  },
  {
   "cell_type": "code",
   "execution_count": 67,
   "metadata": {},
   "outputs": [
    {
     "name": "stdout",
     "output_type": "stream",
     "text": [
      "('Wtf your plop is actually cute?? I use my fiancé’s XL tees and the shoulders '\n",
      " 'always stick out at my ears so it looks like some sort of top hat/cowboy hat '\n",
      " 'hybrid when I do it 😂')\n",
      "('Sticking to CG method exactly with Shea Moisture low-poo and conditioner + '\n",
      " 'LA Looks extreme sport gel, then plopping! ')\n",
      "(\"*I've been playing with different products but this is what got me the after \"\n",
      " \"picture today! Wash day routine:-Not Your Mother's Kinky Moves Shampoo-She \"\n",
      " 'Moisture Coconut & Hibiscus Curl Conditioner-Shea Moisture Manuka Honey Deep '\n",
      " 'Conditioner every other wash-Squeeze out hair a little but and squish in Not '\n",
      " \"Your Mother's Kinky Moves Curl Defining Cream-Scrunch hair with microfiber \"\n",
      " 'towel and plop for about 5-10 minutes-Rewet ends if they are looking dry '\n",
      " 'before scrunching in Deva Curl Volumizing mousse and the Ultra Definining '\n",
      " 'Cream-Finger coil and scrunch to get those ringlets! -Put in root '\n",
      " 'clipsDiffuse on low until almost dry.Refresh:-Spray everywhere until '\n",
      " 'damp.-Wet hands under faucet and spray a few pumps Cantu Comeback Next Day '\n",
      " 'Curl Revitalizer into hands-Run over hair and section off to finger curl '\n",
      " 'areas that are getting poofy. Add more product for each section.-Run a '\n",
      " 'little more water and gel over hair to reduce frizz.-Quick diffuse and '\n",
      " \"you're good to go!\")\n",
      "('I definitely will, now off to the store to pick up fun new products '\n",
      " '😄👩🏼\\u200d\\U0001f9b1')\n",
      "('My routine:- I only wash my hair about once a week, and even then I try very '\n",
      " 'hard to wash the scalp only. I use mild, unscented shampoos. Honestly I '\n",
      " 'don’t pay attention to or have a preference for any name brands. I’ve tried '\n",
      " 'them all, cheap and expensive, in my opinion, the quality of conditioner '\n",
      " 'makes way more of a difference.-Speaking of, I use Trader Joe’s conditioner- '\n",
      " 'about 3 dollars a bottle. I buy it by the case since I have two little ones '\n",
      " 'with my same hair- we go through a lot of the stuff. I only comb my hair '\n",
      " 'while it’s wet, putting about twice as much conditioner as I need and '\n",
      " 'rinsing out half. I wring it out and wrap it in a towel for about 10 minutes '\n",
      " 'then air dry. That’s about it.- I keep a spray bottle of 3 parts water to '\n",
      " 'one part TJ’s conditioner. I add a few drops of citronella and rosemary oil '\n",
      " 'and use it as a detangling spray with my children- the oils supposedly work '\n",
      " 'as a deterrent to head lice and also smell great.- I NEVER use heat or dye '\n",
      " 'or any other products- not judging it’s just not my style. I don’t know for '\n",
      " 'sure if my hair is healthier because of this but I think so. Having Alopecia '\n",
      " 'has made me pretty paranoid about damaging what little I have left so I’m '\n",
      " 'very cautious. I hated my hair for most of my life. I grew up with my '\n",
      " '(white) mom who had no idea how to handle it. Kids teased me and I didn’t '\n",
      " 'see girls on magazines with hair like mine- aside from Ebony and Jet. Now '\n",
      " 'natural hair is widely accepted and it makes me so happy for my children. '\n",
      " 'Love this sub, too, y’all are gorgeous😍!')\n",
      "('I’m still basically on the beginners routine but I’ll include my little '\n",
      " 'changes!1. Shampooed with dippity doo curl shampoo because I have fine hair '\n",
      " 'and I find co-washing works for me about half the time and I need to shampoo '\n",
      " 'the other half of the time2. Applied rice water to my hair and wet plopped '\n",
      " 'for ten-ish minutes and rinsed3. Applied a handful of the tresseme botanical '\n",
      " 'conditioner and gently finger combed my hair to get out knots. Sometimes I '\n",
      " 'comb and repart my hair but I didn’t need to today4. Flipped my head over '\n",
      " 'and squished to condish, but then I have to flip it upright to comb a little '\n",
      " 'at the crown of my head, because otherwise I get big patchy spots lol5. '\n",
      " 'Prayer hands applied herbal essences totally twisted gel and then '\n",
      " 'scrunched6. Wrapped my hair up in a microfiber towel turban so I can use '\n",
      " 'body wash and just generally get all the hair product off my skin before '\n",
      " 'getting out of the shower7. Scrunched out as much water as possible with the '\n",
      " 'towel turban8. Diffused upside down for about ten minutes9. Air dried the '\n",
      " \"rest of the way and scrunched out the crunch!I'm only about 2 months into CG \"\n",
      " 'but the texture of my hair just looks so different than before! I laughed '\n",
      " 'when I realized it was the same outfit and a similar hairstyle!')\n",
      "('Routine: weekly cg approved shampoo (cowash every 2-3 days between). Finger '\n",
      " 'detangle. Scrunch. Air dry when possible (“towel dry” with T-shirt if in a '\n",
      " 'rush). Leave-in conditioner. Scrunch. CG approved gel. Scrunch more. Flow (:')\n",
      "('I haven’t switched to CG 100% yet. I wash my hair with shampoo every 3-4 '\n",
      " 'days and then apply conditioner. I detangle with my fingers in the shower '\n",
      " 'and let it sit for few minutes, then rinse out most conditioner.I apply Shea '\n",
      " 'moistures coconut and hibiscus smoothie cream with praying hands, Shea '\n",
      " 'moistures coconut oil leave in conditioner, and deva curl light defining '\n",
      " 'gel. Plop for 15 minutes then diffuse it to 90% dry. Air dry then scrunch!I '\n",
      " 'also received a hair cut last week specifically to encourage my curl pattern '\n",
      " 'with layers.I am shocked at how much definition my curls have now as opposed '\n",
      " 'to frizzy waviness I had before. As I said earlier, I haven’t switched '\n",
      " 'completely to this routine. I’m adding products in as budget allows.My next '\n",
      " 'focuses will be to buy a cowash and move away from shampooing so often. As '\n",
      " 'well as finding ways to refresh my curls following wash days.Overall I am '\n",
      " 'stoked at this change in the last three weeks! I can’t wait to see how else '\n",
      " 'my hair will change!')\n",
      "('I think I have the same curl type as you! I use Cantu curl activating cream '\n",
      " 'and love it, it leaves my hair so soft. ')\n",
      "('Routine:1. Shampoo with NYM Naturals Tahitian Gardenia Flower and Mango '\n",
      " 'Butter or V05 Herbal Escapes Kiwi Lime Squeeze2. Condition with V05 Moisture '\n",
      " 'Milks Passion Fruit Smoothie, detangle with wide tooth comb and rinse out3. '\n",
      " 'Use about 1 teaspoon of Cantu Shea Butter Leave In Conditioning Repair '\n",
      " 'Cream. Finger comb through hair and briefly stand under shower to distribute '\n",
      " 'product some more then turn water off4. Plop with T-shirt for like 15 '\n",
      " 'minutes (idk I’ve never timed it)5. Use SheaMoisture Fruit Fusion Coconut '\n",
      " 'Water weightless texture spray all over6. Aussie Instant Freeze Gel '\n",
      " 'scrunched into /smoothed over hair7. Scrunch some more with microfiber '\n",
      " 'towel8. Shake a lil bit to find a part and clip/bobby pin the wonky pieces '\n",
      " 'in front9. Air dry for ~3 hours then SOTC and shake hair out10. Finish air '\n",
      " 'drying')\n",
      "('Sorry y’all!My hair is super picky. Sometimes it’s dry. Sometimes it’s '\n",
      " 'hydrated. So, sometimes I use a cleansing shampoo and a deep conditioner. '\n",
      " '(Herbal essensces grapefruit and mosa mint) I have a few different '\n",
      " 'conditioners. A Moroccan oil, and Elvive deep repair Or a medium hydrating '\n",
      " 'shampoo+conditioner (garnier grow strong)Squish to condish was the biggest '\n",
      " 'difference for me. Leave in sprayPlop Then la looks gel (still figuring out '\n",
      " 'how much to use)Diffusing is hit or miss for me. ')\n",
      "('1. Co-wash with NYM Naturals Tahitian Gardenia Flower conditioner. Once a '\n",
      " 'week use NYM Blonde Moment for my color2. Condition with the same product, '\n",
      " 'detangle, and S2C 3. While dripping wet, add Deva Curl Ultra Defining gel '\n",
      " 'and plop for 20-30 mins4. Diffuse for 20 mins 5. Air dry and SOTC 😊')\n",
      "'It looks great! Your hair looks like mine- just bought the products to try! :)'\n",
      "('I just started using the CG beginner routine and I’m thinking of starting to '\n",
      " 'use devacurl products. I’m new to all this so some advice is welcomed. ')\n",
      "('I bought my first dryer at Ulta with a gift card I got. I used the diffuser '\n",
      " \"that came with the dryer and I'm loving it! I use to air dry so sometimes I \"\n",
      " 'would just go to sleep with it wet lol... My hair is super thick, so even '\n",
      " \"with the dryer I couldn't get it completely dry. This is like 90-80 percent \"\n",
      " \"dry here.I usually use a wide tooth comb in the shower, but lately I've been \"\n",
      " \"using a paddle wet brush. It's been awesome! I clarified with **VO5 \"\n",
      " 'Strawberries and Cream** using a scalp massager. Rinsed it out and '\n",
      " 'conditioned with **Tresemme Botanique Nourish and Replenish with coconut '\n",
      " 'milk and aloe vera**. I brushed my hair with the conditioner in it and '\n",
      " 'rinsed it all out.I stepped out of the shower, flipped my head upside down '\n",
      " 'and did another brush through. I stayed upside down during this entire '\n",
      " 'process! I used a microfiber cloth to squeeze out most of the water (like '\n",
      " 'squish to cornish motion) and then used a glob of **Shea Moistures Coconut '\n",
      " 'and Hibiscus Curl Enhancing Smoothie**. I first use praying hands to smooth '\n",
      " 'it out on my hair and the used the brush again to get it all over my hair. '\n",
      " \"(I've noticed at this point my brush has made my hair look really springy \"\n",
      " 'compared to the wide tooth comb!) I took my micro fiber towel again and '\n",
      " 'squeezed the excess out.Then I applied **LA Looks Extreme Sport** (Blue '\n",
      " 'bottle!) With praying hands, quick brush, and then did the squish to condish '\n",
      " \"motion. I think my hair would've kept more curls if I hadn't used the brush \"\n",
      " '(I was just so excited lol), but it still turned out well! Then it was time '\n",
      " 'to diffuse!!! I worked slowly and tried to not touch my hair. Once it was '\n",
      " 'getting mostly dry I flipped my head back up and my hair to the side. I '\n",
      " 'gently flipped my hair side to side while diffusing at this point. I '\n",
      " \"normally flip my hair around throughout the day lol And here it is!! I don't \"\n",
      " \"think I put enough gel in my hair for a good gel cast because I didn't \"\n",
      " 'really get one.')\n",
      "('Routine (sorry for formatting, on mobile)Step 1: get hair soaking wet and '\n",
      " 'co-wash scalp with Tresemmé Botanique with Shea Butter and HibiscusStep 2: '\n",
      " 'use a handful of conditioner and brush hair with wet brush, then use more '\n",
      " 'conditioner until all hair is tangle free and saturated with product, set in '\n",
      " 'loose bun with scruncci, finish showerStep 3: flip upside down and detangle '\n",
      " 'with wide toothed comb, S2C, squish in Kinky Curly Knot Today leave-in '\n",
      " 'conditioner, squish in ungodly amounts of LA Looks Sport Xtreme Gel, '\n",
      " 'squeezing out water as I doStep 4: Lightly dry with a tshirt, then plop for '\n",
      " '30 mins. Air dry, pineapple my hair and sleep on a satin pillowcase, then '\n",
      " 'SOTC in the morning')\n",
      "('This is my first day so still figuring out a routine. haahha I did a final '\n",
      " 'shampoo with J&J baby shampoo and then rinsed with ACV.  Today, I used '\n",
      " 'tresemme undone and squished it into my hair in the shower and lightly '\n",
      " \"rinsed it. Then fructis clean gel and that's it. Forgot to do that plop \"\n",
      " 'thing and letting it air dry. ')\n",
      "('Our hot water heater is broken and I think having to do weird things '\n",
      " 'actually made my hair better!&#x200B;Routine: SUPER frigid water, low-poo '\n",
      " 'with a generic shampoo (only because I had a TON of dry shampoo in my hair), '\n",
      " 'S2C with maui curly conditioner, detangle with comb and some Not Your '\n",
      " \"Mother's Naturals curly detangler, rinse with water so cold your head hurts. \"\n",
      " 'Tresemme Botanicals for some leave in. Praying hands, roping method and '\n",
      " 'squish in Aussie Freezing gel, repeat process for a bit. Scrunch out all '\n",
      " 'remaining water. Plop in a t-shirt over night. In the morning my hair was '\n",
      " 'still kind of wet, but no crunch, so I scrunched with some Aussie curl oil, '\n",
      " 'and let air dry on my way to work. SOTC about 2 hours later.')\n",
      "('routine is pretty basic at the moment; Garnier Banana Hair Food conditioner, '\n",
      " 'detangle with head upside down. Wash out after 5 mins but leave quite a lot '\n",
      " 'in.  Shot of cold water before getting out of shower. Plop for as long as i '\n",
      " 'feel necessary or as long as it takes for me to do my make up. Add Herbal '\n",
      " 'Essences Tousle me Softly mousse and scrunch through hair. leave to air dry '\n",
      " 'and avoid touching!')\n",
      "('I co-wash with tresemme botanique. Let it sit while I take care of the rest '\n",
      " 'of myself in the shower. Rinse completely. Add a small drop of conditioner '\n",
      " 'to my ends, squish. Dry with a shirt. Add Shea moisture curl smoothie '\n",
      " 'liberally. Squish. Teeeeny amount of shea moisture max hold gel. Squish '\n",
      " 'avoiding roots. Dry naturally. ')\n",
      "(' ➰co wash with as I am coconut cowash using my cool little vibrating scalp '\n",
      " 'brush thing  ➰squish to condish with garnier avocado one minute mask (left '\n",
      " 'it in my hair long enough to shave) then rinsed it out completely   ➰turned '\n",
      " 'off the water and scrunched out extra water and raked diva curl wave maker   '\n",
      " '➰used praying hands/scrunched in 3 huge handfuls if biotera gel   ➰plopped '\n",
      " 'for about 3 minutes   ➰used the pixie method to diffuse with my orchid '\n",
      " 'diffuser on low until 90% dry! ')\n",
      "('Routine: instead of using v05 for the reset I used ogx charcoal clarifying '\n",
      " 'shampoo. I used the tresemme coconut and aloe conditioner as co-wash and '\n",
      " 'conditioner, detangled my hair with a wide tooth comb, use a tshirt to dry '\n",
      " \"it, and then I implied a handful of Mark Anthony's strictly curls lotion.I \"\n",
      " \"need to say that my hair wasn't really bad before this and my other routine \"\n",
      " 'was mostly the same except for the reset part. Anyway, today after using the '\n",
      " 'method I notice that I had a little bit more volume in the roots and more '\n",
      " 'coil in general.')\n",
      "('i used the aphogee 2 minute reconstructor and i LOVE the results! i had to '\n",
      " 'use a lot to coat all of my hair, though. i washed my hair and then put the '\n",
      " 'treatment on my damp hair and left it on for 5 minutes. then i rinsed it out '\n",
      " 'completely and used conditioner and rinsed the conditioner out.  normal '\n",
      " 'routine: -kinky curly come clean shampoo-DC one condition original '\n",
      " 'conditioner, comb thru with wide tooth comb, rinse out and put hair in a '\n",
      " 'hair clip -finish shower -out of shower, rewet hair with spray bottle of '\n",
      " 'water-apply 1-2 pump of devacurl regular styling cream using prayer hands '\n",
      " '-apply an outrageous amount of LA looks sport gel using prayer hands, then '\n",
      " 'scrunch -now more sparingly, use devacurl arc angel gel on just the ends (i '\n",
      " 'like how it covers up the smell of the LA gel, and idk why but this combo '\n",
      " 'works best for me, and i like saving $$ on arc angel by using sparingly and '\n",
      " 'using the cheaper option all over) -air dry WITHOUT plopping (plopping '\n",
      " 'messes up my curls for some reason) and periodically scrunch out moisture w '\n",
      " 'devatowel-if feeling fancy, diffuse periodically between sessions of air '\n",
      " 'drying -scrunch out crunch! edit: typos and clarity ')\n",
      "('This just happened for me the other day too! Took a chance on a protein '\n",
      " \"treatment (Curl Junkie Repair Me!) and my hair felt amazing after, and it's \"\n",
      " 'still looking softer and better. Going to use it once a month and hopefully '\n",
      " 'will keep having good results.')\n",
      "('We’ve been doing this for a week. Before this wouldn’t dare send my daughter '\n",
      " 'to school with her hair down let alone sleep with it that way before now. '\n",
      " 'End goal: Achieve healthier hair by following less damaging hair care '\n",
      " 'routine. Less time getting my daughters hair ready for school in the '\n",
      " 'morning. Embracing her curls instead to fighting them. It’s only been a week '\n",
      " 'and I’ve noticed a huge difference in her hair.Shampoo & conditioner 1x '\n",
      " 'weekCo-wash 2x week1. Washed with Garnier curl nourish conditioner detangled '\n",
      " 'with conditioner in using a wide tooth comb. 2. Let sit for a few minutes '\n",
      " 'and rinse. 3. Lightly pat dry with towel to remove excess water. While hair '\n",
      " 'is still wet, using finger tips gently applied a little Jamaican Black '\n",
      " 'castor oil to scalp to ends. Followed by with Cantu care kids curling cream. '\n",
      " 'Followed up with Softee super freeze protein styling gel. 4. Blow dried '\n",
      " 'using diffuser attachment on low heat. 5.Scrunch out the crunch. ')\n",
      "('Current routine:NYM Tahitian Gardenia and Mango Butter Shampoo, rinse out '\n",
      " 'with cool water.NYM Tahitian Gardenia and Mango Butter Conditioner, rinse '\n",
      " 'with cool water, head flipped upside down.turn off shower and comb NYM '\n",
      " 'Tahitian Gardenia and Mango Butter combing cream through hair.With hair '\n",
      " 'still soaking wet using praying hands, put generous amounts of Curl Keeper '\n",
      " 'Original in hair and scrunch till water no longer drips out.Keeping head '\n",
      " 'upside down, squeeze out excess water with a t-shirt. Let air dry My biggest '\n",
      " 'problem is having beautiful ringlets on bottom but it falls flat so fast on '\n",
      " 'top that I have to end up pulling it halfway back. Also in the back where it '\n",
      " \"is shorter, it doesn't curl as much. I'm trying so hard to embrace what \"\n",
      " 'nature gave me but I hate feeling like I have a mop on my head. The products '\n",
      " 'I am currently using have given me pretty good results and my hair seems to '\n",
      " 'be reacting well to it. I have also been sulfate free a while now but '\n",
      " \"silicone free is something I'm generally new to. So will it take a while for \"\n",
      " 'my hair to \"transform\" after quitting silicones?My hair is not very damaged '\n",
      " \"because I rarely straighten it anymore. At least it doesn't feel like it and \"\n",
      " \"visually I can't see any damage.My goal is to be able to wear my hair down \"\n",
      " 'all the way! Any advice would be greatly appreciated.')\n",
      "('I have fine 2b/2c low porosity waves and use the nym cream, but only a teeny '\n",
      " 'tiny amount on top of a leave in conditioner (usually kinky curly knot '\n",
      " 'today). It gets too heavy for fine hair really fast, a little goes a long '\n",
      " 'way. I’ve had good results using it with mop top custard and jessicurl gel, '\n",
      " 'combined they give a pretty good hold and I can actually let it mostly air '\n",
      " 'dry without losing too much definition, though it will be a little longer '\n",
      " 'and looser (that’s also just my winter weather reality though so works for '\n",
      " 'me). If I want tighter/springier waves I’ll use a harder hold gel like '\n",
      " 'Aussie instant freeze with it and diffuse. I do really like the cream, it’s '\n",
      " 'definitely the best frizz control product I use, but it took a while to '\n",
      " 'figure out how little I needed to use for good results. Hope this helps!')\n",
      "('Shea Moisture makes shampoo and conditioner especially for low porosity hair '\n",
      " 'that you could look into. If your hair is easily weighed down you might also '\n",
      " 'look into using a mousse or light gel instead of heavy creams. For volume on '\n",
      " 'top you could try plopping for 10 to 15 minutes or so and then air dry or '\n",
      " 'defuse part of the way then air dry and then scrunch out the crunch for '\n",
      " 'definition. Hope this helps! ')\n",
      "(\"I'd say 2B.  I am 2C and my curls are a bit tighter (more ringlet-y).  It's \"\n",
      " 'possible that you are 2C but just need to tweak your products (some can '\n",
      " 'weigh down the curls to give the appearance of less curl/more wave). Your '\n",
      " 'hair looks gorgeous though! If you have low porosity hair (I do), you may '\n",
      " 'want to consider NYM Blue Sea Kale and Pure Coconut Water.  Someone else on '\n",
      " 'Reddit suggested it for me and my curls are even tighter now! I wish I would '\n",
      " 'have found this a long time ago.  This line has mild sulfates for the '\n",
      " 'shampoo (which can be good for us LP girls) but no silicones in either the S '\n",
      " \"or C.  I think you'd really like it.  And they smell amaaaaazing.\")\n",
      "('I think that combing cream you listed might be too heavy for your hair, try '\n",
      " 'a lighter leave in. I use as I am leave in, and I think it works well even '\n",
      " 'with the large amount I use. ')\n",
      "(\"You mentioned that you've been sulphate free for a while but not silicone \"\n",
      " 'free? If this is the case you would need to do a clarifying wash - one of '\n",
      " 'the reasons to cut out silicones in CG is that they can **only** be removed '\n",
      " 'by a sulphate shampoo, so you possibly have build up from any silicones in '\n",
      " 'products you were using. It might also be the butters in the products you '\n",
      " 'are using? They can be too much for low porosity/fine hair sometimes. You '\n",
      " 'could try watering it down a bit and see if your curls last longer?')\n",
      "('No fancy treatment, and my hair is naturally dead straight, but I sport my '\n",
      " 'hair like this for a couple of days after taking out braids. I use friendly '\n",
      " 'shampoo and conditioner, air dry then braid without product. Five days later '\n",
      " 'then vavavoom.')\n",
      "('I pretty much just followed the basic method. I feel wrong using so much '\n",
      " 'conditioner')\n",
      "('Routine: Co-Wash with Organix OG coconut conditioner while fingercombing, '\n",
      " 'then heavily squish and conditioner using same and put up. After showering '\n",
      " 'completed, squish to apply leave-in conditioner and comb using VERY '\n",
      " 'wide-tooth comb to pull out tangles already formed just from being put '\n",
      " 'up.After toweling body, apply palm of soft gel via scrunching gently. Let '\n",
      " 'dry for ~3 hours and then ruffle and rub gently to break gel mold. Kill '\n",
      " \"me.If anyone has any advice I'd love to hear it.E2: [This is closer to the \"\n",
      " 'good hair days I had before starting CG.] (https://i.imgur.com/sobSymM.jpg) ')\n",
      "('Honestly thank you!! Even with cg I have had undefined frizzy or stringy '\n",
      " \"curls and today was the first day I've felt genuinely happyI can't find your \"\n",
      " 'post, but i hope you see this! You changed my life today 😂RoutineArgan oil '\n",
      " 'Morocco conditioner stc in showerLittle angels leave in immediately '\n",
      " 'afterPraying hands eco style olive oil gelPlop 5 minsDiffuse until 60% '\n",
      " 'dryPraying hands gel again and scrunch up the endsLeave till 100% dry and '\n",
      " 'sotc')\n",
      "('Just a week ago I was super bummed with my results. Today is a game changer! '\n",
      " 'I added a leave in and bought a diffuser. Routine today: Wash with shea '\n",
      " 'moisture argan oil & almond milk shampoo, squish to condish with bounce curl '\n",
      " 'super smooth cream conditioner, apply giovanni leave in conditioner with '\n",
      " 'rope and pulse method, scrunch in kinky curly curling custard, squeeze the '\n",
      " 'ever living daylights out of my hair to get all water out, plop for 15 min '\n",
      " 'and diffuse 90%, air dry then scrunch the crunch. ')\n",
      "('I wash my hair at night with Shea Moisture coconut & hibiscus shampoo. '\n",
      " 'Detangle with Maui Moisture conditioner, the hydration one in a blue bottle. '\n",
      " 'Shea Moisture curl defining cream in coconut and hibiscus, French braid and '\n",
      " 'go to bed. Wake up, take out braids, soak hair in the sink. Scrunch with '\n",
      " 'enough LA Looks sport gel to kill a man, and plop for 20 minuets. After '\n",
      " 'plop, scrunch with microfiber towel and air dry. My reset wash is tea tree '\n",
      " 'oil shampoo!')\n",
      "('Routine (breaks a few CG rules...)-wash with small amount of L’Oréal curly '\n",
      " 'shampoo-condition with tresseme, leave in for 10ish minutes-comb with '\n",
      " 'conditioner in hair with wire tooth comb-S2C-apply Cantu curl defining cream '\n",
      " 'immediately after shower like scrunching -plop 10 minutes -Air dry!')\n",
      "('Following the CG method would help you reduce frizz and improve curl '\n",
      " \"definition, there's a great [beginner's routine and \"\n",
      " 'guide](https://www.reddit.com/r/curlyhair/comments/8klm9t/new_curlies_start_here/) '\n",
      " 'in this sub, there is also an [infographic '\n",
      " 'version!](https://i.imgur.com/FA7kPST.png) This means you would have to '\n",
      " 'ditch the Perfecte Krul and look for products that contain no sulphates, '\n",
      " 'silicones etc (you check this by pasting the ingredient list in the '\n",
      " '[Curlsbot](https://www.curlsbot.com)).   Blow drying with a diffuser '\n",
      " \"attachment on low speed and low/medium heat is a good idea if you'd like to \"\n",
      " 'speed up the drying process.There are plenty of techniques and curly hair '\n",
      " \"care tips out there so it's easy to get overwhelmed if you're just starting \"\n",
      " 'out!')\n",
      "(\"Are you using conditioner?  if not, that's probably the first step.  And \"\n",
      " \"then either mousse or gel to add definition.  Don't worry if your hair gets \"\n",
      " \"'crunchy' after putting in your products, you will scrunch that out once \"\n",
      " \"it's dry!\")\n",
      "('I really only wash it every few days and put in this stuff: '\n",
      " 'https://www.internetdrogisterij.nl/p/andrelon-creme-perfecte-krul-200ml-856434.html?gclid=Cj0KCQiA7briBRD7ARIsABhX8aC9x5PbjTObVebyr2yOERYc5FW4N6A8tZ55jYFOnS7oZAUvn3gRtEAaAgKaEALw_wcBWould '\n",
      " \"blow drying be any good? I'd like to increase my curl definition and not \"\n",
      " \"have it be so fluffy all the time. I'm of Guyanese descent, if it matters.\")\n",
      "('I used Selsun blue anti dandruff for my clarifying wash. it has sulfates but '\n",
      " 'no silicones, and has been working for my dandruff. I bought a silicon hair '\n",
      " 'scrub for co-washing and to remove dirt and oil from my scalp. it really '\n",
      " 'helps, instead of just using my fingers to scrub my scalp. I used shea '\n",
      " \"moisture coconut and hibiscus conditioner for day 2's co-wash and \"\n",
      " \"conditioning and day 3's co-wash, and l'oreal botanicals camellina masque \"\n",
      " \"for day 3's conditioning. hope you can see the difference in my curls in my \"\n",
      " 'dark hair! and hopefully my hair stays like this tmr morning after my sleep!')\n",
      "('I don’t really have advice for the straight pieces as I have similar issues, '\n",
      " 'but would be concerned that longterm your hair will sustain damage from not '\n",
      " 'conditioning and using a harsh shampoo. Have you tried some of the lighter '\n",
      " 'conditioners?')\n",
      "('Routine: Aveda blue malva shampoo as clarifying shampoo (left over from the '\n",
      " \"bleach blonde era)No conditioner because it kills my curlsJessie's \"\n",
      " 'multicultural curlsSea salt volumizing sprayDiffuse&#x200B;Grown out from a '\n",
      " 'buzzcut and currently a hot mess')\n",
      "('Routine: wash and condition weekly with Aussie moist, deep condition with '\n",
      " 'tgin honey hair mask, leave in is Mielle pomegranate and honey leave in, I '\n",
      " 'oil my hair with a mix of castor and olive oil, then seal it with Shea '\n",
      " 'butter')\n",
      "('Hi everyone this is my first Reddit post. I have been using the CGM for a '\n",
      " 'couple of weeks now. My hair always looks nice the first two days or so but '\n",
      " 'this is what happens by the 3rd day. It’s really flat and greasy looking on '\n",
      " 'top. I have been only using conditioner and the recommended blue LA looks '\n",
      " 'gel. With a watered down gel spray as a refresh. I cowash my hair at night '\n",
      " 'and then after using product on soaked hair use 3 large clips to put my hair '\n",
      " 'up overnight. Then in the morning I only need to diffuse for about 5 '\n",
      " 'minutes.  I used to always use hairspray but have stopped. Can anyone offer '\n",
      " 'me any help or tips to help? I am also curious to know what curl type I '\n",
      " 'have. Thanks in advance! ')\n",
      "('Oh funny, I was going to say the opposite! Some of the finer haired or '\n",
      " 'looser curl types can get overloaded with moisturizing product. I do a light '\n",
      " 'sudsy shampoo once a week with Giovanni 50/50 and I don’t co-wash. Instead I '\n",
      " 'just give my hair a water rinse and squish in some leave in conditioner. '\n",
      " 'Hope you find something that works!')\n",
      "('saw a post like this on instagram and i had to try it out! FULL routine as '\n",
      " 'follows: wash- cowash with tresemme undone waves, condition with the same.  '\n",
      " 'detangle in shower with wide tooth comb, squish to condishstyle- apply '\n",
      " 'garnier 1 min mask with praying hands, comb thru, scrunch  apply DC b’leave '\n",
      " 'in with praying hands, scrunch  apply ouidad heat & humidity gel with '\n",
      " 'praying hands, scrunch  apply curls blueberry bliss gel with praying hands, '\n",
      " 'scrunch  then i scrunch for something like 7-10 mins per side. it helps to '\n",
      " 'watch youtube videos while i do this to pass the time😂ill usually let it air '\n",
      " 'dry for 10-15 min,  scrunch with tshirt   low power, low heat diffuse    & '\n",
      " 'finish off with pantene air spray hold #2 ')\n",
      "('A silk scarf seems like it would better serve its purpose on dry hair, I '\n",
      " 'personally don’t see it having any benefit on wet hair. Someone tell me if '\n",
      " 'I’m wrong! But the microfiber towel seems good, anything should work as long '\n",
      " 'as it’s not something abrasive like terry cloth 😊 is there a reason why you '\n",
      " 'prefer not to use a t-shirt?')\n",
      "('I just started plopping to dry my curls a week ago - so far I think I like '\n",
      " \"it! Still trial-and-error-ing right now but I'd agree that 20ish minutes in \"\n",
      " \"a very soft t-shirt is accurate. I have a tshirt that's like a super soft \"\n",
      " 'stretchy cotton and it works. Have also tried \"Turbie Twist\" towels '\n",
      " \"(microfiber) and they're fine but not the same.\")\n",
      "('your hair looks totally beautiful and girl it gets better! maybe if you’re '\n",
      " 'not seeing the results that you want then the products just aren’t for your '\n",
      " 'hair! ')\n",
      "('Washed with As I Am conditioner, plopped, scrunched in some gel and '\n",
      " 'diffused. My issue is that although my hair is kinky and VERY frizzy this '\n",
      " \"isn't translating into nice defined waves with CGM. Maybe I'm using the \"\n",
      " 'wrong gel? ')\n",
      "(\"There is nothing magic about Deva products. In fact, they don't work for \"\n",
      " \"everyone. I know when I get a Deva cut I can't wait to get home and wash the \"\n",
      " \"products out of my hair. IMO it's more important to really understand your \"\n",
      " \"hair's characteristics (porosity is key) and what it likes and doesn't like \"\n",
      " 'and find the products that fit it. The easiest way to do that is to start '\n",
      " 'cheap and minimal. ')\n",
      "('If you want to try some Deva products, Ulta carries the small sizes. Maybe '\n",
      " 'try two or three and see what you like!')\n",
      "'I’m wondering the same thing; is it worth it to buy DevaCurl?'\n",
      "('As a senior in nursing school, I have really let my curls go. I’m using the '\n",
      " 'cheapest products I can find and my poor curls (pun intended) are really '\n",
      " 'starting to suffer. I’m ready to pamper them! ')\n",
      "(\"I've noticed that if I go to bed with wet hair that I can wake up with some \"\n",
      " \"waves/slight curls, but it's mostly the hair at the back of my head. About 6 \"\n",
      " 'or 7 years ago I was able to get great waves/curls with cheap gel and a '\n",
      " 'diffuser but now that just makes a frizzy mess. Is there any hope for '\n",
      " 'getting nice hair again? In this picture I had just woken up and showered '\n",
      " 'the night before (did a co-wash for the first time...thinking I may have '\n",
      " 'done it wrong because my roots looked super greasy this morning). Thanks in '\n",
      " 'advance for the help!')\n",
      "('Let me add this first: Yes, I went for quite a chop in between, too! '\n",
      " 'Definitely adds to it!Routine:Wash with Nature Box Avocado Oil Shampoo, '\n",
      " 'condition with Alverde Sensitiv Spülung Bio-Echinacea Bio-Jojoba. Detangle '\n",
      " 'with fingers, use wide-tooth, non-static comb if necessary. Flip hair over, '\n",
      " 'rinse and detangle again.Squish out a little water with bare hands, apply '\n",
      " 'fridge-free flaxseed gel (I use the one from the blog justtryingtomom and '\n",
      " 'love it, I make it with Alverde Styling Gel Bio-Lotusblüte Bio-Violetter '\n",
      " 'Reis) and immediately plop with a microfiber towel for 30-45 mins. Let air '\n",
      " 'dry and SOTC when fully dry.')\n",
      "('I brush my hair out with a wide tooth comb before showering, wet the hair '\n",
      " 'with cool water, cowash with tresemme expert botanique with coconut milk and '\n",
      " 'aloe vera, rinse with cold water. Then I squeeze the excess water out with '\n",
      " 'my hands. I put in about half a teaspoon of cantu coconut curling cream as '\n",
      " 'my leave in starting from the ends of my hair and working it to just at the '\n",
      " 'root. Then I use the same comb as before showering to get out any tangles '\n",
      " 'and to part my hair. Then I separate my bangs and blow dry and straighten '\n",
      " 'them. Then I use about a tablespoon of family dollars version of the Xtreme '\n",
      " 'sport gel. I scrunch my hair from the ends up to my roots using my hands, '\n",
      " 'then I let it air dry. I am so excited that my hair is looking so much '\n",
      " 'better since starting this routine! I only \"wash\" my hair twice a week, same '\n",
      " 'as before starting with CG approved products. ')\n",
      "('I use both a curl cream and gel in cooler months.  In summer just gel.    '\n",
      " 'Find the curl cream too heavy in the summer and not effective.  I have been '\n",
      " 'wanting to try a mousse but have not yet.')\n",
      "('I use both. I use the cantu coconut curling creme for hydration and a bit of '\n",
      " 'hold. And the gel for defining  and hold. ')\n",
      "('Routine:-cowash with Tresemme Botanique, comb with wide tooth comb, '\n",
      " 'S2C-rinse out as much conditioner as possible-squeeze out enough water so '\n",
      " \"it's not dripping, squeeze out a bit more with cotton t-shirt-apply \"\n",
      " 'light/medium amounts of Shea Moisture Strengthen & Restore Leave-In (amount '\n",
      " 'usually depends on how the humidity is that day) by raking and then prayer '\n",
      " 'hands-rake in a light amount of KCCC while head is upside-down, flip back '\n",
      " 'up, let hair decide where my side part will be that day-finger style some of '\n",
      " \"the curls that don't want to cooperate-airdry, SOTC once it is mostly \"\n",
      " 'dry-get compliments daily 😏I have been having HUGE issues with the LA Looks '\n",
      " 'gel and just thought I was doing all the wrong things. I was plopping my '\n",
      " 'hair but kept getting frizz so I cut that out. My hair is curly enough as it '\n",
      " 'is, plopping made them turn into shrinky-dink curls that had frizz. I needed '\n",
      " \"none of that! I'm still working on trying to get my curls to clump just a \"\n",
      " 'touch more without turning into huge tendrils, but this is such an '\n",
      " 'improvement already!Edit: damn you mobile formatting!!! ')\n",
      "('I have protein sensitive hair. My stats: Latina Curls are 3b when wet or '\n",
      " 'moist After air drying in Bantu knots and brushing, my hair is 2b/2cHair '\n",
      " 'strand texture is mixed between straight strands and brittle “bumpy” '\n",
      " 'strandsHow my hair reacts to protein: Products with keratin make my hair dry '\n",
      " 'or don’t have an effect at all (depends on concentration of keratin) '\n",
      " 'Products with “silk” protein: Products with this protein make my hair extra '\n",
      " 'frizzyAll in all being protein sensitive just means the added protein will '\n",
      " 'dry out your hair. If you use a protein product on your daughters hair and '\n",
      " 'is she protein sensitive, the worst that will happen is that she will have a '\n",
      " 'really bad hair day! LolAlso watch out for coconut oil! A lot of protein '\n",
      " 'sensitive people also say coconut oil doesn’t agree with them. Personally '\n",
      " 'coconut oil makes my hair and skin dry. ')\n",
      "('Routine: Shampoo once a week, co wash every 3 days, mist in water mixed with '\n",
      " 'a small amount of conditioner in the mornings occasionally adding Cantu curl '\n",
      " 'cream.')\n",
      "('I feel like my hair maybe comes out better when not applying gel to sopping '\n",
      " \"wet hair. I'm still experimenting, but I think I may get more coverage when \"\n",
      " \"it's been squeezed/scrunched out a bit first. Although the more I do that, \"\n",
      " 'the more I seem to invite frizz.')\n",
      "('Squeezing out some water before applying gel is pretty common for low '\n",
      " 'porosity folks, so go ahead and try it!  ')\n",
      "('This is my problem right now too. I have put gel in wet and damp but somehow '\n",
      " 'not in every section. I put gel in my dry hair today to compensate but I’m '\n",
      " 'guessing that’s why there’s white dandruff looking flakes comping from my '\n",
      " 'ends. IDK, will be following to see what people say though.')\n",
      "('I wanted to try CG to get some extra volume, and help keep my hair from '\n",
      " 'flattening down by the roots without causing too much damage from blow '\n",
      " 'drying every day. Also my hair was feeling dry, and would get greasy after a '\n",
      " 'day, so my curls would only last 24 hours. I like the added volume so far, '\n",
      " \"but am not sure about the texture?? I wasn't able to crunch out cleanly and \"\n",
      " 'prefer the natural shape/texture of my natural spirals more. This is my '\n",
      " 'first time using gel.   Routine, Day 1:  Suave Clarifying Shampoo wash,  As '\n",
      " 'I Am Coconut Cowash, and then I conditioned with the same again and let it '\n",
      " 'set. Rinsed out 80%, and then plopped for about 15 minutes once out of the '\n",
      " 'shower. Tried the LA Extreme Sports  Gel (ahhh, nervous about noodle hair), '\n",
      " \"then diffused on low until mostly dry. Let air dry for the rest. Didn't end \"\n",
      " 'up scrunching out until lunch to be SURE it was totally dry.   So far I am '\n",
      " 'happy with the volume (especially with a center part, but not keep on the '\n",
      " 'texture yet). With try for a few more days, but might want to use a styling '\n",
      " 'mouse instead of the gel? Not sure what my hair texture is, and if that '\n",
      " 'might be better.')\n",
      "(\"i haven't used it personally, but I think it supposed to be light to medium \"\n",
      " 'hold.  If your hair is easily weighed down, you could try using a mousse by '\n",
      " 'itself.  Innersense foam, I Create Lift is a good high end one, but you '\n",
      " 'could go for Pantene Curls or herbal essences totally twisted mousse too.  '\n",
      " 'You have to be a little more generous with mouse to get better hold, but '\n",
      " \"it's a nice light product that won't weigh you down.    The nice thing about \"\n",
      " \"the flax seed gel is you can make it yourself and it's cheap, so make it, \"\n",
      " \"try it. if it's not good at least you're only out a few bucks.\")\n",
      "('Finding out your porosity will help you determine which products are too '\n",
      " \"heavy for your hair. Curl type really doesn't matter. Porosity makes the \"\n",
      " 'biggest difference! 😊')\n",
      "('Today I washed with shea moisture for low porosity. Conditioned with shea '\n",
      " 'moisture fir low porosity, quick rinse, flip upside down and add more '\n",
      " 'conditioner and squish to condish. Rinse upside down but kept '\n",
      " \"pumping/squishing. Today I tried miss jessie's jelly soft curls. Plopped for \"\n",
      " '15 min. Diffused for 5 min or so.I get the same results with devacurl low '\n",
      " \"poo, one condition and light defining gel. With la looks blue gel.  There's \"\n",
      " \"a step or a product I'm missing and I need help figuring it out....I've \"\n",
      " 'tried cowash and it hasnt worked...yet.  plus I often have to use a solution '\n",
      " 'on my scalp at night for serious itchiness so its good to wash it out in the '\n",
      " 'morning.')\n",
      "(\"I'm only on day 2 of the CG method, but my hair is already so frizzy again! \"\n",
      " \"It was great the first day, but I'm not sure why my hair is so dry/ \"\n",
      " 'frizzy.Routine: I cleansed and then conditioned with the recommended '\n",
      " 'tresemme conditioner. Then I scrunched in heaps of hair gel into my wet '\n",
      " 'hair. Dried with a cotton tshirt. ')\n",
      "(\"So first off, diffuse on cool or warm and you should be fine! If it's not \"\n",
      " \"too hot for your skin, it's probably not too hot for your hair (so if warm \"\n",
      " 'is a little too warm for your hands or head, do cool.) Second, the '\n",
      " \"ingredient in heat protectants that protects your hair is silicones, I've \"\n",
      " 'yet to hear of any other ingredient that can effectively protect the hair '\n",
      " \"from heat damage. I diffuse pretty frequently on warm or cool and I haven't \"\n",
      " 'noticed any problems at all. I hope this helps!')\n",
      "('I dealt with some degree of pyramid for most of my life until I started '\n",
      " 'getting Deva cuts. \"Regular\" hairstylists just don\\'t get it, and even if '\n",
      " \"they say they do, they still cut it exactly the same way they'd cut straight \"\n",
      " \"hair. Curl by curl cutting is the only way to go, IMO. If you're brave, I \"\n",
      " 'know a lot of people have had success cutting their own with the unicorn '\n",
      " 'method on YouTube. ')\n",
      "('Routine -Wash once a week with Shea moisture shampoo, otherwise conditioner '\n",
      " 'only when i shower.-Then soak with matching shea moisture conditioner while '\n",
      " \"finishing up in the shower (I'm currently rotating through all the different \"\n",
      " 'sets to see what works best, i have wicked dandruff 😥!) -squeeze/scrunch out '\n",
      " 'excess water-rake/praying hands/scrunch in Design Essentials Natural Curl '\n",
      " 'Enhancing Mousse(3 pumps) mixed with a dollop of Eco Argan oil Gel-plop '\n",
      " 'until just hardly damp in a Jersey tshirt-seal with amika blowout spray, '\n",
      " 'occasionally diffuse with The Curly Co. Diffuser but most often i air dry-To '\n",
      " 'revitalize second,  third, ect day hair; rehydrate and deflatten with a '\n",
      " 'diluted sea salt hair spray using a misting spray bottle and scrunching')\n",
      "(\"The part that isn't getting a cast might not be getting as much gel as the \"\n",
      " \"rest. Although if you're happy with the hold after SOTC etc, then I wouldn't \"\n",
      " 'worry about it. If it gets frizzier than the rest, try a different '\n",
      " 'application technique I used to struggle to get even gel coverage, I started '\n",
      " 'applying it in sections a little at a time, moving my head into different '\n",
      " 'positions and pulsing it in. That seems to help. ')\n",
      "('according to the [holy grail '\n",
      " 'list](https://docs.google.com/document/d/1Dlc52yoWdMo4p7RWcVERJS_Lo5NSeDCtV2gWyTBllAw/edit), '\n",
      " \"both those gels contain a water-soluble silicone (it's up to you whether you \"\n",
      " 'consider that acceptable). in the future, you can put ingredients lists '\n",
      " 'through [curlsbot](https://www.curlsbot.com/) and/or '\n",
      " \"[isitcg](http://www.isitcg.com/) and they will tell you whether it's CG \"\n",
      " \"approved!however, i've personally never used them so i have no idea if they \"\n",
      " 'are any good')\n",
      "('I use totally twisted gel to embrace my natural curls. It’s not amazing for '\n",
      " 'the “apply a gallon to your head, diffuse, and sotc” method, as it is '\n",
      " 'lighter and not as extreme as others. It really brings out my natural thin '\n",
      " 'curls when I let it air dry. ')\n",
      "('First week of really embracing my natural hair... so still trying to get '\n",
      " \"down a routine that works, but here's what I did!\\\\- Shampoo that has ALS \"\n",
      " 'which I know is not totally CG, but has been good for my hair for clarifying '\n",
      " '(Blousey by Lush)  \\\\- Squish to condish with Garnier Fructic HydraPurify '\n",
      " '(silicone free)\\\\- Hair moisturizer - R&B (Lush) for my ends, and Hair '\n",
      " 'Custard (Lush) scrunched in.\\\\- Today was the first day I plopped - about an '\n",
      " \"hour, and what a difference!Next I'm going to experiment with gels, as with \"\n",
      " \"the above the waves/curls don't super last. &#x200B;My hair is also quite \"\n",
      " 'thin- as you can see in the second photo with the back of my head, and is '\n",
      " 'also quite evident in my \"before\" photo... this is due to an autoimmune '\n",
      " \"condition, and is definitely something I've been struggling with so I'm \"\n",
      " \"hopeful with healthier hair, it'll make a difference :)[before \"\n",
      " 'hair](https://imgur.com/a/PXf9GWH)')\n",
      "('Do you oil your scalp at all? I try to massage oil into my scalp and roots '\n",
      " 'at least once every few days. ')\n",
      "('I’m using the products from the quick start routine, VO5 to clarify (and '\n",
      " 'wash build up every couple of weeks, co-poo with tresseme, and blue la looks '\n",
      " 'gels). I co-poo every 2-3 days upside down and squish to condish. While '\n",
      " 'still in the shower with soaking wet hair, I squish in Eden Bodyworks '\n",
      " 'coconut Shea leave-in conditioner (bought it on markdown but it is CG '\n",
      " 'friendly) and the gel. I plop for about 15-30 minutes in a t-shirt and then '\n",
      " 'diffuse until about 80-90% dry. Once it’s fully dry, I scrunch out the '\n",
      " 'crunch. ')\n",
      "('I was so excited to try the LUS Love Ur Curls products! I followed the '\n",
      " 'instructions exactly, used the shampoo and conditioner in the shower and '\n",
      " 'rinsed it all out. I applied the Curly All in One styler in sections with a '\n",
      " 'squirt bottle of water, as the company demonstrates online. Then I let air '\n",
      " 'dry.I was VERY happy with the results...At first. But as you can see, 4 '\n",
      " \"hours later I had lost pretty much all of it. I didn't even go outside or do \"\n",
      " \"anything strenuous! I didn't lay down or smush it, either.Any ideas on what \"\n",
      " 'I could do to KEEP the results in my \"before\" picture?')\n",
      "'Maybe add a gel on top?'\n",
      "('Do you have fine hair by any chance? The same thing happens to me no matter '\n",
      " 'what I use and even if I later products. My hair is super fine and within '\n",
      " 'hours it just drops the curl. I’m currently trying to figure it out (it’s '\n",
      " 'extremely frustrating). I’m wondering if my conditioner is too heavy. ')\n",
      "('I was gifted no poo for Christmas and my hair gets greasy after 2 days, when '\n",
      " \"before I could go a week without getting greasy between washes. Clearly I'm \"\n",
      " \"going to keep using it because it's great otherwise, but what I do is mix in \"\n",
      " 'a bit of shea moisture shampoo to add some suds and help it lather. Still '\n",
      " 'not perfect, greasy around day 4, but by then I usually am washing it '\n",
      " 'anyway. ')\n",
      "('Current routine: Deva curl wash and conditioner, Deva curl gel and Maui '\n",
      " 'moisture curl smoothie. I usually wash in the morning and plop while I get '\n",
      " 'ready for work. I’m hoping this will let me go more than my usual two days '\n",
      " 'without washing! ')\n",
      "('How long has it been since you switched products? I know my curls don’t like '\n",
      " 'product changes and sometimes it takes a month or so for my hair to get used '\n",
      " 'to things. If I use something and my hair still doesn’t like it after a '\n",
      " 'month then I determine the product isn’t for me.')\n",
      "('People on this sub often clarify once or twice a month, but after going into '\n",
      " 'shea moisture products, I noticed my hair not as curly/wavy as well. I '\n",
      " 'started clarifying once a week and it helped me TREMENDOUSLY. I know it’s '\n",
      " 'not traditionally done that way, but you could have build up since those '\n",
      " 'products are slightly heavier and it might just be build up. I clarified the '\n",
      " 'first time and my hair reacted well. When it started going back to the way '\n",
      " 'it was again after two washes, thought what the heck and clarified again and '\n",
      " 'my hair was back to normal. Doesn’t hurt to try. ')\n",
      "('Your shampoo and conditioner, and how you style have everything to do with '\n",
      " 'this cat.Deva Curl, no poo shampoo, and deva curl one conditioner. I only '\n",
      " 'wash my hair every 4 days or so, but I use the conditioner (and leave it in) '\n",
      " 'every day. I also use the styling cream, which does wonders. I also use an '\n",
      " 'old t-shirt to help dry my hair. The curly girl method works for either '\n",
      " 'gender, so use that.I started taking better care of my hair the last couple '\n",
      " 'of years, and get compliments on it almost every day. The girls love the '\n",
      " 'curls cat, take care of that shit.')\n",
      "('I use the Black Orchid Diffuser with a DevaDryer. I did have to buy a '\n",
      " '\"Fernco P1059-150 1 1/2 inch by 1 1/2 inch Rubber Flexible Coupling Repair '\n",
      " 'Fitting\" at Amazon to get it to work. The end of the diffuser is too large '\n",
      " 'without some kind of adapter. ')\n",
      "(\"I think you'd pull off bangs! Also I think pastel pink or silver-blue wild \"\n",
      " 'look super good')\n",
      "'Looks great! And whatever styling product you put in it looks awesome too '\n",
      "'What hair product do u use'\n",
      "('It sounds like you accidentally plopped your hair. Plopping is what curly '\n",
      " 'haired folks do to get intense, long lasting curl definition without frizz. '\n",
      " 'It works by sort of incubating your hair in the warmth of your scalp, slowly '\n",
      " 'absorbing excess water and product so that hair stays hydrated while product '\n",
      " 'infuses deep into the hair strands. Women normally do this with a t-shirt or '\n",
      " 'microfiber towels, but a lot of guys get great results from beanies like '\n",
      " \"yours. What's your hair texture like? I wonder if you would benefit from the \"\n",
      " 'rest of the curly hair method.')\n",
      "('How necessary it is really depends on your hair type, but if you have the '\n",
      " \"option always use conditioner.I have fairly dry hair, so sometimes I'll skip \"\n",
      " 'shampooing and just do a thorough rinse and condition.')\n",
      "('It depends on your hair type but conditioner gives you a noticeable '\n",
      " 'difference in how your hair feels and looks. A good shampoo and conditioner '\n",
      " 'that’s sulfate free doesn’t have to be expensive. For example Costco’s '\n",
      " 'Kirkland Signature Salon line is known to be pretty much if not exactly '\n",
      " 'Pureology. Also if you aren’t a member there, OGX brand is very reasonable '\n",
      " 'and sulfate free. This can be found at Target.')\n",
      "('still use conditioner.  moisturizing shampoo helps with keep moisture in the '\n",
      " 'hair, though may contain silicones that essentially just coat the hair and '\n",
      " 'feels like it is moisturized.  any shampoo strips the oils from the hair and '\n",
      " 'and you need the conditioner to replace those oils back in the hair.costco '\n",
      " 'brand is good like above commenter said.')\n",
      "('I know you said that you’d miss the length on top but length on top does not '\n",
      " 'equal volume. This is kind of counter intuitive but it makes sense in that '\n",
      " 'length weighs down your hair. A reasonably conservative amount of volume '\n",
      " 'will give you a more slender and less round facial appearance. Get something '\n",
      " 'that tapers on the sides (I wouldn’t do something as tight a skin fade), and '\n",
      " 'then something shorter and textured on top where you blow dry up. Blow '\n",
      " 'drying and a paste would work wonders. Here’s an example of what I am '\n",
      " 'thinking. [This would look great on you.](https://goo.gl/images/WVrYja) ')\n",
      "('it can definitely cause dandruff. usually dandruff is caused by your scalp '\n",
      " 'being too oily rather than dry though. it may just not be doing as good a '\n",
      " 'job as your scalp is used to at removing oils')\n",
      "('To make this haircut work, a barber or stylist will need to translate this '\n",
      " 'cut to fit your bone structure. My assumption is that your bone structure '\n",
      " 'and hair type is different from the picture. I’d focus more on taking '\n",
      " 'inspiration from this image than trying to “copy and paste” this haircut.Is '\n",
      " 'there a barber or stylist in your area that’s putting out this kind of work? '\n",
      " 'In my experience in, salons like Great Clips are awesome for guys that '\n",
      " 'aren’t picky about the outcome of their hair. Ten dollar chop shops are all '\n",
      " 'about quantity over quality. This doesn’t mean that everyone that cuts hair '\n",
      " 'at a lower price point won’t give you a good haircut. Do some research, ask '\n",
      " 'around and find someone specific you can trust with your hair. Let me know '\n",
      " 'if I can help further!Source: I’ve specialized in men’s grooming for 15 '\n",
      " 'years. ')\n"
     ]
    }
   ],
   "source": [
    "for i in df.body[0:100]:\n",
    "    i = i.replace('\\n','')\n",
    "    i = i.replace('\\t','')\n",
    "    pp.pprint(i)"
   ]
  },
  {
   "cell_type": "code",
   "execution_count": 68,
   "metadata": {},
   "outputs": [
    {
     "data": {
      "text/html": [
       "<div class=\"entities\" style=\"line-height: 2.5\">[Wtf your plop is actually cute??, I use my fiancé’s \n",
       "<mark class=\"entity\" style=\"background: #aa9cfc; padding: 0.45em 0.6em; margin: 0 0.25em; line-height: 1; border-radius: 0.35em; box-decoration-break: clone; -webkit-box-decoration-break: clone\">\n",
       "    XL\n",
       "    <span style=\"font-size: 0.8em; font-weight: bold; line-height: 1; border-radius: 0.35em; text-transform: uppercase; vertical-align: middle; margin-left: 0.5rem\">PERSON</span>\n",
       "</mark>\n",
       " tees and the shoulders always stick out at my ears, so it looks like some sort of top hat/cowboy hat hybrid when I do it, 😂]</div>"
      ],
      "text/plain": [
       "<IPython.core.display.HTML object>"
      ]
     },
     "metadata": {},
     "output_type": "display_data"
    },
    {
     "data": {
      "text/html": [
       "<div class=\"entities\" style=\"line-height: 2.5\">[Sticking to CG method exactly with \n",
       "<mark class=\"entity\" style=\"background: linear-gradient(90deg, #aa9cfc, #fc9ce7); padding: 0.45em 0.6em; margin: 0 0.25em; line-height: 1; border-radius: 0.35em; box-decoration-break: clone; -webkit-box-decoration-break: clone\">\n",
       "    Shea Moisture\n",
       "    <span style=\"font-size: 0.8em; font-weight: bold; line-height: 1; border-radius: 0.35em; text-transform: uppercase; vertical-align: middle; margin-left: 0.5rem\">ORG</span>\n",
       "</mark>\n",
       " low-poo and conditioner + \n",
       "<mark class=\"entity\" style=\"background: #aa9cfc; padding: 0.45em 0.6em; margin: 0 0.25em; line-height: 1; border-radius: 0.35em; box-decoration-break: clone; -webkit-box-decoration-break: clone\">\n",
       "    LA Looks\n",
       "    <span style=\"font-size: 0.8em; font-weight: bold; line-height: 1; border-radius: 0.35em; text-transform: uppercase; vertical-align: middle; margin-left: 0.5rem\">PERSON</span>\n",
       "</mark>\n",
       " extreme sport gel, then plopping!]</div>"
      ],
      "text/plain": [
       "<IPython.core.display.HTML object>"
      ]
     },
     "metadata": {},
     "output_type": "display_data"
    },
    {
     "data": {
      "text/html": [
       "<div class=\"entities\" style=\"line-height: 2.5\">[*I've been playing with different products but this is what got me the after picture today! \n",
       "<mark class=\"entity\" style=\"background: #aa9cfc; padding: 0.45em 0.6em; margin: 0 0.25em; line-height: 1; border-radius: 0.35em; box-decoration-break: clone; -webkit-box-decoration-break: clone\">\n",
       "    \n",
       "\n",
       "\n",
       "    <span style=\"font-size: 0.8em; font-weight: bold; line-height: 1; border-radius: 0.35em; text-transform: uppercase; vertical-align: middle; margin-left: 0.5rem\">PERSON</span>\n",
       "</mark>\n",
       ", \n",
       "<mark class=\"entity\" style=\"background: #aa9cfc; padding: 0.45em 0.6em; margin: 0 0.25em; line-height: 1; border-radius: 0.35em; box-decoration-break: clone; -webkit-box-decoration-break: clone\">\n",
       "    Wash\n",
       "    <span style=\"font-size: 0.8em; font-weight: bold; line-height: 1; border-radius: 0.35em; text-transform: uppercase; vertical-align: middle; margin-left: 0.5rem\">PERSON</span>\n",
       "</mark>\n",
       " day routine:\n",
       "-Not, Your Mother's \n",
       "<mark class=\"entity\" style=\"background: linear-gradient(90deg, #aa9cfc, #fc9ce7); padding: 0.45em 0.6em; margin: 0 0.25em; line-height: 1; border-radius: 0.35em; box-decoration-break: clone; -webkit-box-decoration-break: clone\">\n",
       "    Kinky Moves Shampoo\n",
       "-She\n",
       "    <span style=\"font-size: 0.8em; font-weight: bold; line-height: 1; border-radius: 0.35em; text-transform: uppercase; vertical-align: middle; margin-left: 0.5rem\">ORG</span>\n",
       "</mark>\n",
       " \n",
       "<mark class=\"entity\" style=\"background: linear-gradient(90deg, #aa9cfc, #fc9ce7); padding: 0.45em 0.6em; margin: 0 0.25em; line-height: 1; border-radius: 0.35em; box-decoration-break: clone; -webkit-box-decoration-break: clone\">\n",
       "    Moisture Coconut & Hibiscus\n",
       "    <span style=\"font-size: 0.8em; font-weight: bold; line-height: 1; border-radius: 0.35em; text-transform: uppercase; vertical-align: middle; margin-left: 0.5rem\">ORG</span>\n",
       "</mark>\n",
       " Curl Conditioner\n",
       "-Shea, Moisture Manuka \n",
       "<mark class=\"entity\" style=\"background: #aa9cfc; padding: 0.45em 0.6em; margin: 0 0.25em; line-height: 1; border-radius: 0.35em; box-decoration-break: clone; -webkit-box-decoration-break: clone\">\n",
       "    Honey Deep Conditioner\n",
       "    <span style=\"font-size: 0.8em; font-weight: bold; line-height: 1; border-radius: 0.35em; text-transform: uppercase; vertical-align: middle; margin-left: 0.5rem\">PERSON</span>\n",
       "</mark>\n",
       " every other wash\n",
       "-Squeeze out hair a little but and squish in Not Your Mother's Kinky Moves Curl Defining Cream</br>-Scrunch hair with microfiber towel and plop for about 5-10 minutes\n",
       "-Rewet ends if they are looking dry before scrunching in Deva Curl Volumizing mousse and \n",
       "<mark class=\"entity\" style=\"background: linear-gradient(90deg, #aa9cfc, #fc9ce7); padding: 0.45em 0.6em; margin: 0 0.25em; line-height: 1; border-radius: 0.35em; box-decoration-break: clone; -webkit-box-decoration-break: clone\">\n",
       "    the Ultra Definining Cream\n",
       "\n",
       "    <span style=\"font-size: 0.8em; font-weight: bold; line-height: 1; border-radius: 0.35em; text-transform: uppercase; vertical-align: middle; margin-left: 0.5rem\">ORG</span>\n",
       "</mark>\n",
       "-Finger coil and scrunch to get those ringlets! \n",
       ", -Put in root clips\n",
       "Diffuse on low until almost dry.</br></br>, Refresh:</br>-Spray everywhere until damp.\n",
       ", -Wet hands under faucet and spray a few pumps \n",
       "<mark class=\"entity\" style=\"background: #aa9cfc; padding: 0.45em 0.6em; margin: 0 0.25em; line-height: 1; border-radius: 0.35em; box-decoration-break: clone; -webkit-box-decoration-break: clone\">\n",
       "    Cantu Comeback\n",
       "    <span style=\"font-size: 0.8em; font-weight: bold; line-height: 1; border-radius: 0.35em; text-transform: uppercase; vertical-align: middle; margin-left: 0.5rem\">PERSON</span>\n",
       "</mark>\n",
       ", Next Day Curl Revitalizer into hands\n",
       "<mark class=\"entity\" style=\"background: linear-gradient(90deg, #aa9cfc, #fc9ce7); padding: 0.45em 0.6em; margin: 0 0.25em; line-height: 1; border-radius: 0.35em; box-decoration-break: clone; -webkit-box-decoration-break: clone\">\n",
       "    \n",
       "-Run\n",
       "    <span style=\"font-size: 0.8em; font-weight: bold; line-height: 1; border-radius: 0.35em; text-transform: uppercase; vertical-align: middle; margin-left: 0.5rem\">ORG</span>\n",
       "</mark>\n",
       " over hair and section off to finger curl areas that are getting poofy., Add more product for each section.\n",
       ", -Run a little more water and gel over hair to reduce frizz.\n",
       ", -Quick diffuse and you're good to go!\n",
       "\n",
       "]</div>"
      ],
      "text/plain": [
       "<IPython.core.display.HTML object>"
      ]
     },
     "metadata": {},
     "output_type": "display_data"
    },
    {
     "data": {
      "text/html": [
       "<div class=\"entities\" style=\"line-height: 2.5\">[I definitely will, now off to the store to pick up fun new products 😄, 👩\n",
       "<mark class=\"entity\" style=\"background: linear-gradient(90deg, #aa9cfc, #fc9ce7); padding: 0.45em 0.6em; margin: 0 0.25em; line-height: 1; border-radius: 0.35em; box-decoration-break: clone; -webkit-box-decoration-break: clone\">\n",
       "    🏼‍🦱\n",
       "    <span style=\"font-size: 0.8em; font-weight: bold; line-height: 1; border-radius: 0.35em; text-transform: uppercase; vertical-align: middle; margin-left: 0.5rem\">ORG</span>\n",
       "</mark>\n",
       "]</div>"
      ],
      "text/plain": [
       "<IPython.core.display.HTML object>"
      ]
     },
     "metadata": {},
     "output_type": "display_data"
    },
    {
     "data": {
      "text/html": [
       "<div class=\"entities\" style=\"line-height: 2.5\">[My routine:</br></br>- I only wash my hair about once a week, and even then I try very hard to wash the scalp only., I use mild, unscented shampoos., Honestly I don’t pay attention to or have a preference for any name brands., I’ve tried them all, cheap and expensive, in my opinion, the quality of conditioner makes way more of a difference.</br></br>, -Speaking of, , I use \n",
       "<mark class=\"entity\" style=\"background: #aa9cfc; padding: 0.45em 0.6em; margin: 0 0.25em; line-height: 1; border-radius: 0.35em; box-decoration-break: clone; -webkit-box-decoration-break: clone\">\n",
       "    Trader Joe’s\n",
       "    <span style=\"font-size: 0.8em; font-weight: bold; line-height: 1; border-radius: 0.35em; text-transform: uppercase; vertical-align: middle; margin-left: 0.5rem\">PERSON</span>\n",
       "</mark>\n",
       " conditioner- about 3 dollars a bottle., I buy it by the case, since I have two little ones with my same hair- we go through a lot of the stuff., I only comb my hair while it’s wet, putting about twice as much conditioner as I need and rinsing out half., I wring it out and wrap it in a towel for about 10 minutes then air dry., That’s about it.</br></br>, - I keep a spray bottle of 3 parts water to one part TJ’s conditioner., I add a few drops of citronella and rosemary oil and use it as a detangling spray with my children- the oils supposedly work as a deterrent to head lice and also smell great.</br></br>, - I NEVER use heat or dye or any other products- not judging it’s just not my style., I don’t know for sure if my hair is healthier because of this, but I think so., \n",
       "<mark class=\"entity\" style=\"background: #aa9cfc; padding: 0.45em 0.6em; margin: 0 0.25em; line-height: 1; border-radius: 0.35em; box-decoration-break: clone; -webkit-box-decoration-break: clone\">\n",
       "    Having Alopecia\n",
       "    <span style=\"font-size: 0.8em; font-weight: bold; line-height: 1; border-radius: 0.35em; text-transform: uppercase; vertical-align: middle; margin-left: 0.5rem\">PERSON</span>\n",
       "</mark>\n",
       " has made me pretty paranoid about damaging what little I have left so I’m very cautious. </br></br>, I hated my hair for most of my life., I grew up with my (white) mom who had no idea how to handle it., Kids teased me and I didn’t see girls on magazines with hair like mine- aside from \n",
       "<mark class=\"entity\" style=\"background: linear-gradient(90deg, #aa9cfc, #fc9ce7); padding: 0.45em 0.6em; margin: 0 0.25em; line-height: 1; border-radius: 0.35em; box-decoration-break: clone; -webkit-box-decoration-break: clone\">\n",
       "    Ebony and Jet\n",
       "    <span style=\"font-size: 0.8em; font-weight: bold; line-height: 1; border-radius: 0.35em; text-transform: uppercase; vertical-align: middle; margin-left: 0.5rem\">ORG</span>\n",
       "</mark>\n",
       ". </br></br>, Now natural hair is widely accepted and it makes me so happy for my children., Love this sub, too, y’all are gorgeous😍!]</div>"
      ],
      "text/plain": [
       "<IPython.core.display.HTML object>"
      ]
     },
     "metadata": {},
     "output_type": "display_data"
    },
    {
     "data": {
      "text/html": [
       "<div class=\"entities\" style=\"line-height: 2.5\">[I’m still basically on the beginners routine, but I’ll include my little changes!</br></br>, 1., \n",
       "<mark class=\"entity\" style=\"background: linear-gradient(90deg, #aa9cfc, #fc9ce7); padding: 0.45em 0.6em; margin: 0 0.25em; line-height: 1; border-radius: 0.35em; box-decoration-break: clone; -webkit-box-decoration-break: clone\">\n",
       "    Shampooed\n",
       "    <span style=\"font-size: 0.8em; font-weight: bold; line-height: 1; border-radius: 0.35em; text-transform: uppercase; vertical-align: middle; margin-left: 0.5rem\">ORG</span>\n",
       "</mark>\n",
       " with dippity doo curl shampoo because I have fine hair, and I find co-washing works for me about half the time, and I need to shampoo the other half of the time\n",
       "2., \n",
       "<mark class=\"entity\" style=\"background: #aa9cfc; padding: 0.45em 0.6em; margin: 0 0.25em; line-height: 1; border-radius: 0.35em; box-decoration-break: clone; -webkit-box-decoration-break: clone\">\n",
       "    Applied\n",
       "    <span style=\"font-size: 0.8em; font-weight: bold; line-height: 1; border-radius: 0.35em; text-transform: uppercase; vertical-align: middle; margin-left: 0.5rem\">PERSON</span>\n",
       "</mark>\n",
       " rice water to my hair and wet plopped for ten-ish minutes and rinsed\n",
       "3., Applied a handful of the tresseme botanical conditioner and gently finger combed my hair to get out knots., Sometimes I comb and repart my hair, but I didn’t need to today</br>4., Flipped my head over and squished to condish, but then I have to flip it upright to comb a little at the crown of my head, because otherwise I get big patchy spots lol\n",
       "5., Prayer hands applied herbal essences totally twisted gel and then scrunched\n",
       "6., Wrapped my hair up in a microfiber towel turban so I can use body wash and just generally get all the hair product off my skin before getting out of the shower\n",
       "7., Scrunched out as much water as possible with the towel turban\n",
       "8., Diffused upside down for about ten minutes</br>9., \n",
       "<mark class=\"entity\" style=\"background: linear-gradient(90deg, #aa9cfc, #fc9ce7); padding: 0.45em 0.6em; margin: 0 0.25em; line-height: 1; border-radius: 0.35em; box-decoration-break: clone; -webkit-box-decoration-break: clone\">\n",
       "    Air\n",
       "    <span style=\"font-size: 0.8em; font-weight: bold; line-height: 1; border-radius: 0.35em; text-transform: uppercase; vertical-align: middle; margin-left: 0.5rem\">ORG</span>\n",
       "</mark>\n",
       " dried the rest of the way and scrunched out the crunch!</br></br>, I'm only about 2 months into CG but the texture of my hair just looks so different than before!, I laughed when I realized it was the same outfit and a similar hairstyle!]</div>"
      ],
      "text/plain": [
       "<IPython.core.display.HTML object>"
      ]
     },
     "metadata": {},
     "output_type": "display_data"
    },
    {
     "data": {
      "text/html": [
       "<div class=\"entities\" style=\"line-height: 2.5\">[Routine: weekly cg approved shampoo (cowash every 2-3 days between)., \n",
       "<mark class=\"entity\" style=\"background: linear-gradient(90deg, #aa9cfc, #fc9ce7); padding: 0.45em 0.6em; margin: 0 0.25em; line-height: 1; border-radius: 0.35em; box-decoration-break: clone; -webkit-box-decoration-break: clone\">\n",
       "    Finger\n",
       "    <span style=\"font-size: 0.8em; font-weight: bold; line-height: 1; border-radius: 0.35em; text-transform: uppercase; vertical-align: middle; margin-left: 0.5rem\">ORG</span>\n",
       "</mark>\n",
       " detangle., \n",
       "<mark class=\"entity\" style=\"background: linear-gradient(90deg, #aa9cfc, #fc9ce7); padding: 0.45em 0.6em; margin: 0 0.25em; line-height: 1; border-radius: 0.35em; box-decoration-break: clone; -webkit-box-decoration-break: clone\">\n",
       "    Scrunch\n",
       "    <span style=\"font-size: 0.8em; font-weight: bold; line-height: 1; border-radius: 0.35em; text-transform: uppercase; vertical-align: middle; margin-left: 0.5rem\">ORG</span>\n",
       "</mark>\n",
       "., Air dry when possible (“towel dry” with T-shirt if in a rush)., Leave-in conditioner., Scrunch., CG approved gel., Scrunch more., \n",
       "<mark class=\"entity\" style=\"background: #aa9cfc; padding: 0.45em 0.6em; margin: 0 0.25em; line-height: 1; border-radius: 0.35em; box-decoration-break: clone; -webkit-box-decoration-break: clone\">\n",
       "    Flow\n",
       "    <span style=\"font-size: 0.8em; font-weight: bold; line-height: 1; border-radius: 0.35em; text-transform: uppercase; vertical-align: middle; margin-left: 0.5rem\">PERSON</span>\n",
       "</mark>\n",
       " (:]</div>"
      ],
      "text/plain": [
       "<IPython.core.display.HTML object>"
      ]
     },
     "metadata": {},
     "output_type": "display_data"
    },
    {
     "data": {
      "text/html": [
       "<div class=\"entities\" style=\"line-height: 2.5\">[I haven’t switched to CG 100% yet., I wash my hair with shampoo every 3-4 days and then apply conditioner., I detangle with my fingers in the shower and let it sit for few minutes, then rinse out most conditioner.</br></br>, I apply \n",
       "<mark class=\"entity\" style=\"background: #aa9cfc; padding: 0.45em 0.6em; margin: 0 0.25em; line-height: 1; border-radius: 0.35em; box-decoration-break: clone; -webkit-box-decoration-break: clone\">\n",
       "    Shea\n",
       "    <span style=\"font-size: 0.8em; font-weight: bold; line-height: 1; border-radius: 0.35em; text-transform: uppercase; vertical-align: middle; margin-left: 0.5rem\">PERSON</span>\n",
       "</mark>\n",
       " moistures coconut and hibiscus smoothie cream with praying hands,, \n",
       "<mark class=\"entity\" style=\"background: linear-gradient(90deg, #aa9cfc, #fc9ce7); padding: 0.45em 0.6em; margin: 0 0.25em; line-height: 1; border-radius: 0.35em; box-decoration-break: clone; -webkit-box-decoration-break: clone\">\n",
       "    Shea\n",
       "    <span style=\"font-size: 0.8em; font-weight: bold; line-height: 1; border-radius: 0.35em; text-transform: uppercase; vertical-align: middle; margin-left: 0.5rem\">ORG</span>\n",
       "</mark>\n",
       " moistures coconut oil leave in conditioner, and deva curl light defining gel., \n",
       "<mark class=\"entity\" style=\"background: #aa9cfc; padding: 0.45em 0.6em; margin: 0 0.25em; line-height: 1; border-radius: 0.35em; box-decoration-break: clone; -webkit-box-decoration-break: clone\">\n",
       "    Plop\n",
       "    <span style=\"font-size: 0.8em; font-weight: bold; line-height: 1; border-radius: 0.35em; text-transform: uppercase; vertical-align: middle; margin-left: 0.5rem\">PERSON</span>\n",
       "</mark>\n",
       " for 15 minutes then diffuse it to 90% dry., Air dry then scrunch!\n",
       ", I also received a hair cut last week specifically to encourage my curl pattern with layers.</br></br>, I am shocked at how much definition my curls have now as opposed to frizzy waviness I had before., As I said earlier, I haven’t switched completely to this routine., I’m adding products in as budget allows.\n",
       ", My next focuses will be to buy a cowash and move away from shampooing so often., As well as finding ways to refresh my curls following wash days.\n",
       ", Overall I am stoked at this change in the last three weeks!, I can’t wait to see how else my hair will change!]</div>"
      ],
      "text/plain": [
       "<IPython.core.display.HTML object>"
      ]
     },
     "metadata": {},
     "output_type": "display_data"
    },
    {
     "name": "stderr",
     "output_type": "stream",
     "text": [
      "/Users/tozturk/anaconda3/lib/python3.6/runpy.py:193: UserWarning: [W006] No entities to visualize found in Doc object. If this is surprising to you, make sure the Doc was processed using a model that supports named entity recognition, and check the `doc.ents` property manually if necessary.\n",
      "  \"__main__\", mod_spec)\n"
     ]
    },
    {
     "data": {
      "text/html": [
       "<div class=\"entities\" style=\"line-height: 2.5\">[I think I have the same curl type as you!, I use Cantu curl activating cream and love it, it leaves my hair so soft.]</div>"
      ],
      "text/plain": [
       "<IPython.core.display.HTML object>"
      ]
     },
     "metadata": {},
     "output_type": "display_data"
    },
    {
     "data": {
      "text/html": [
       "<div class=\"entities\" style=\"line-height: 2.5\">[Routine:\n",
       ", 1., \n",
       "<mark class=\"entity\" style=\"background: linear-gradient(90deg, #aa9cfc, #fc9ce7); padding: 0.45em 0.6em; margin: 0 0.25em; line-height: 1; border-radius: 0.35em; box-decoration-break: clone; -webkit-box-decoration-break: clone\">\n",
       "    Shampoo\n",
       "    <span style=\"font-size: 0.8em; font-weight: bold; line-height: 1; border-radius: 0.35em; text-transform: uppercase; vertical-align: middle; margin-left: 0.5rem\">ORG</span>\n",
       "</mark>\n",
       " with \n",
       "<mark class=\"entity\" style=\"background: linear-gradient(90deg, #aa9cfc, #fc9ce7); padding: 0.45em 0.6em; margin: 0 0.25em; line-height: 1; border-radius: 0.35em; box-decoration-break: clone; -webkit-box-decoration-break: clone\">\n",
       "    NYM\n",
       "    <span style=\"font-size: 0.8em; font-weight: bold; line-height: 1; border-radius: 0.35em; text-transform: uppercase; vertical-align: middle; margin-left: 0.5rem\">ORG</span>\n",
       "</mark>\n",
       " \n",
       "<mark class=\"entity\" style=\"background: linear-gradient(90deg, #aa9cfc, #fc9ce7); padding: 0.45em 0.6em; margin: 0 0.25em; line-height: 1; border-radius: 0.35em; box-decoration-break: clone; -webkit-box-decoration-break: clone\">\n",
       "    Naturals Tahitian Gardenia Flower\n",
       "    <span style=\"font-size: 0.8em; font-weight: bold; line-height: 1; border-radius: 0.35em; text-transform: uppercase; vertical-align: middle; margin-left: 0.5rem\">ORG</span>\n",
       "</mark>\n",
       " and \n",
       "<mark class=\"entity\" style=\"background: #aa9cfc; padding: 0.45em 0.6em; margin: 0 0.25em; line-height: 1; border-radius: 0.35em; box-decoration-break: clone; -webkit-box-decoration-break: clone\">\n",
       "    Mango Butter\n",
       "    <span style=\"font-size: 0.8em; font-weight: bold; line-height: 1; border-radius: 0.35em; text-transform: uppercase; vertical-align: middle; margin-left: 0.5rem\">PERSON</span>\n",
       "</mark>\n",
       " or \n",
       "<mark class=\"entity\" style=\"background: #aa9cfc; padding: 0.45em 0.6em; margin: 0 0.25em; line-height: 1; border-radius: 0.35em; box-decoration-break: clone; -webkit-box-decoration-break: clone\">\n",
       "    V05 Herbal Escapes Kiwi\n",
       "    <span style=\"font-size: 0.8em; font-weight: bold; line-height: 1; border-radius: 0.35em; text-transform: uppercase; vertical-align: middle; margin-left: 0.5rem\">PERSON</span>\n",
       "</mark>\n",
       " Lime Squeeze</br>2., Condition with \n",
       "<mark class=\"entity\" style=\"background: linear-gradient(90deg, #aa9cfc, #fc9ce7); padding: 0.45em 0.6em; margin: 0 0.25em; line-height: 1; border-radius: 0.35em; box-decoration-break: clone; -webkit-box-decoration-break: clone\">\n",
       "    V05 Moisture Milks Passion Fruit Smoothie\n",
       "    <span style=\"font-size: 0.8em; font-weight: bold; line-height: 1; border-radius: 0.35em; text-transform: uppercase; vertical-align: middle; margin-left: 0.5rem\">ORG</span>\n",
       "</mark>\n",
       ", detangle with wide tooth comb and rinse out\n",
       "3., Use about 1 teaspoon of Cantu \n",
       "<mark class=\"entity\" style=\"background: linear-gradient(90deg, #aa9cfc, #fc9ce7); padding: 0.45em 0.6em; margin: 0 0.25em; line-height: 1; border-radius: 0.35em; box-decoration-break: clone; -webkit-box-decoration-break: clone\">\n",
       "    Shea Butter\n",
       "    <span style=\"font-size: 0.8em; font-weight: bold; line-height: 1; border-radius: 0.35em; text-transform: uppercase; vertical-align: middle; margin-left: 0.5rem\">ORG</span>\n",
       "</mark>\n",
       ", Leave, In Conditioning Repair Cream., \n",
       "<mark class=\"entity\" style=\"background: linear-gradient(90deg, #aa9cfc, #fc9ce7); padding: 0.45em 0.6em; margin: 0 0.25em; line-height: 1; border-radius: 0.35em; box-decoration-break: clone; -webkit-box-decoration-break: clone\">\n",
       "    Finger\n",
       "    <span style=\"font-size: 0.8em; font-weight: bold; line-height: 1; border-radius: 0.35em; text-transform: uppercase; vertical-align: middle; margin-left: 0.5rem\">ORG</span>\n",
       "</mark>\n",
       " comb through hair and briefly stand under shower to distribute product some more then turn water off\n",
       "4., \n",
       "<mark class=\"entity\" style=\"background: #aa9cfc; padding: 0.45em 0.6em; margin: 0 0.25em; line-height: 1; border-radius: 0.35em; box-decoration-break: clone; -webkit-box-decoration-break: clone\">\n",
       "    Plop\n",
       "    <span style=\"font-size: 0.8em; font-weight: bold; line-height: 1; border-radius: 0.35em; text-transform: uppercase; vertical-align: middle; margin-left: 0.5rem\">PERSON</span>\n",
       "</mark>\n",
       " with T-shirt for like 15 minutes (idk I’ve never timed it)\n",
       ", 5., Use \n",
       "<mark class=\"entity\" style=\"background: linear-gradient(90deg, #aa9cfc, #fc9ce7); padding: 0.45em 0.6em; margin: 0 0.25em; line-height: 1; border-radius: 0.35em; box-decoration-break: clone; -webkit-box-decoration-break: clone\">\n",
       "    SheaMoisture Fruit Fusion Coconut Water\n",
       "    <span style=\"font-size: 0.8em; font-weight: bold; line-height: 1; border-radius: 0.35em; text-transform: uppercase; vertical-align: middle; margin-left: 0.5rem\">ORG</span>\n",
       "</mark>\n",
       " weightless texture spray all over\n",
       "6., \n",
       "<mark class=\"entity\" style=\"background: #aa9cfc; padding: 0.45em 0.6em; margin: 0 0.25em; line-height: 1; border-radius: 0.35em; box-decoration-break: clone; -webkit-box-decoration-break: clone\">\n",
       "    Aussie Instant Freeze Gel\n",
       "    <span style=\"font-size: 0.8em; font-weight: bold; line-height: 1; border-radius: 0.35em; text-transform: uppercase; vertical-align: middle; margin-left: 0.5rem\">PERSON</span>\n",
       "</mark>\n",
       " scrunched into /smoothed over hair\n",
       "7., Scrunch some more with microfiber towel\n",
       "8., Shake a lil bit to find a part and clip/bobby pin the wonky pieces in front\n",
       "9., Air dry for ~3 hours, then \n",
       "<mark class=\"entity\" style=\"background: linear-gradient(90deg, #aa9cfc, #fc9ce7); padding: 0.45em 0.6em; margin: 0 0.25em; line-height: 1; border-radius: 0.35em; box-decoration-break: clone; -webkit-box-decoration-break: clone\">\n",
       "    SOTC\n",
       "    <span style=\"font-size: 0.8em; font-weight: bold; line-height: 1; border-radius: 0.35em; text-transform: uppercase; vertical-align: middle; margin-left: 0.5rem\">ORG</span>\n",
       "</mark>\n",
       " and shake hair out\n",
       "<mark class=\"entity\" style=\"background: linear-gradient(90deg, #aa9cfc, #fc9ce7); padding: 0.45em 0.6em; margin: 0 0.25em; line-height: 1; border-radius: 0.35em; box-decoration-break: clone; -webkit-box-decoration-break: clone\">\n",
       "    \n",
       "10\n",
       "    <span style=\"font-size: 0.8em; font-weight: bold; line-height: 1; border-radius: 0.35em; text-transform: uppercase; vertical-align: middle; margin-left: 0.5rem\">ORG</span>\n",
       "</mark>\n",
       "., Finish air drying]</div>"
      ],
      "text/plain": [
       "<IPython.core.display.HTML object>"
      ]
     },
     "metadata": {},
     "output_type": "display_data"
    },
    {
     "data": {
      "text/html": [
       "<div class=\"entities\" style=\"line-height: 2.5\">[Sorry y’all!</br></br>, My hair is super picky., Sometimes it’s dry., Sometimes it’s hydrated. </br></br>, So, sometimes I use a cleansing shampoo and a deep conditioner. \n",
       ", (\n",
       "<mark class=\"entity\" style=\"background: linear-gradient(90deg, #aa9cfc, #fc9ce7); padding: 0.45em 0.6em; margin: 0 0.25em; line-height: 1; border-radius: 0.35em; box-decoration-break: clone; -webkit-box-decoration-break: clone\">\n",
       "    Herbal\n",
       "    <span style=\"font-size: 0.8em; font-weight: bold; line-height: 1; border-radius: 0.35em; text-transform: uppercase; vertical-align: middle; margin-left: 0.5rem\">ORG</span>\n",
       "</mark>\n",
       " essensces grapefruit and mosa mint) \n",
       ", I have a few different conditioners., A Moroccan oil, and \n",
       "<mark class=\"entity\" style=\"background: linear-gradient(90deg, #aa9cfc, #fc9ce7); padding: 0.45em 0.6em; margin: 0 0.25em; line-height: 1; border-radius: 0.35em; box-decoration-break: clone; -webkit-box-decoration-break: clone\">\n",
       "    Elvive\n",
       "    <span style=\"font-size: 0.8em; font-weight: bold; line-height: 1; border-radius: 0.35em; text-transform: uppercase; vertical-align: middle; margin-left: 0.5rem\">ORG</span>\n",
       "</mark>\n",
       " deep repair </br></br>Or a medium hydrating shampoo+conditioner (garnier grow strong)</br></br>Squish to condish was the biggest difference for me. </br></br>, Leave in spray\n",
       "Plop </br></br>, Then la looks gel (still figuring out how much to use)\n",
       "<mark class=\"entity\" style=\"background: #aa9cfc; padding: 0.45em 0.6em; margin: 0 0.25em; line-height: 1; border-radius: 0.35em; box-decoration-break: clone; -webkit-box-decoration-break: clone\">\n",
       "    \n",
       "\n",
       "Diffusing\n",
       "    <span style=\"font-size: 0.8em; font-weight: bold; line-height: 1; border-radius: 0.35em; text-transform: uppercase; vertical-align: middle; margin-left: 0.5rem\">PERSON</span>\n",
       "</mark>\n",
       " is hit or miss for me.]</div>"
      ],
      "text/plain": [
       "<IPython.core.display.HTML object>"
      ]
     },
     "metadata": {},
     "output_type": "display_data"
    },
    {
     "data": {
      "text/html": [
       "<div class=\"entities\" style=\"line-height: 2.5\">[1. Co-wash with \n",
       "<mark class=\"entity\" style=\"background: linear-gradient(90deg, #aa9cfc, #fc9ce7); padding: 0.45em 0.6em; margin: 0 0.25em; line-height: 1; border-radius: 0.35em; box-decoration-break: clone; -webkit-box-decoration-break: clone\">\n",
       "    NYM\n",
       "    <span style=\"font-size: 0.8em; font-weight: bold; line-height: 1; border-radius: 0.35em; text-transform: uppercase; vertical-align: middle; margin-left: 0.5rem\">ORG</span>\n",
       "</mark>\n",
       " \n",
       "<mark class=\"entity\" style=\"background: linear-gradient(90deg, #aa9cfc, #fc9ce7); padding: 0.45em 0.6em; margin: 0 0.25em; line-height: 1; border-radius: 0.35em; box-decoration-break: clone; -webkit-box-decoration-break: clone\">\n",
       "    Naturals Tahitian Gardenia Flower\n",
       "    <span style=\"font-size: 0.8em; font-weight: bold; line-height: 1; border-radius: 0.35em; text-transform: uppercase; vertical-align: middle; margin-left: 0.5rem\">ORG</span>\n",
       "</mark>\n",
       " conditioner., Once a week use \n",
       "<mark class=\"entity\" style=\"background: linear-gradient(90deg, #aa9cfc, #fc9ce7); padding: 0.45em 0.6em; margin: 0 0.25em; line-height: 1; border-radius: 0.35em; box-decoration-break: clone; -webkit-box-decoration-break: clone\">\n",
       "    NYM\n",
       "    <span style=\"font-size: 0.8em; font-weight: bold; line-height: 1; border-radius: 0.35em; text-transform: uppercase; vertical-align: middle; margin-left: 0.5rem\">ORG</span>\n",
       "</mark>\n",
       " \n",
       "<mark class=\"entity\" style=\"background: #aa9cfc; padding: 0.45em 0.6em; margin: 0 0.25em; line-height: 1; border-radius: 0.35em; box-decoration-break: clone; -webkit-box-decoration-break: clone\">\n",
       "    Blonde Moment\n",
       "    <span style=\"font-size: 0.8em; font-weight: bold; line-height: 1; border-radius: 0.35em; text-transform: uppercase; vertical-align: middle; margin-left: 0.5rem\">PERSON</span>\n",
       "</mark>\n",
       " for my color\n",
       "2., Condition with the same product, detangle, and S2C \n",
       "3., While dripping wet, add \n",
       "<mark class=\"entity\" style=\"background: #aa9cfc; padding: 0.45em 0.6em; margin: 0 0.25em; line-height: 1; border-radius: 0.35em; box-decoration-break: clone; -webkit-box-decoration-break: clone\">\n",
       "    Deva Curl Ultra Defining\n",
       "    <span style=\"font-size: 0.8em; font-weight: bold; line-height: 1; border-radius: 0.35em; text-transform: uppercase; vertical-align: middle; margin-left: 0.5rem\">PERSON</span>\n",
       "</mark>\n",
       " gel and plop for 20-30 mins\n",
       "4., Diffuse for 20 mins \n",
       "5., Air dry and \n",
       "<mark class=\"entity\" style=\"background: linear-gradient(90deg, #aa9cfc, #fc9ce7); padding: 0.45em 0.6em; margin: 0 0.25em; line-height: 1; border-radius: 0.35em; box-decoration-break: clone; -webkit-box-decoration-break: clone\">\n",
       "    SOTC 😊\n",
       "    <span style=\"font-size: 0.8em; font-weight: bold; line-height: 1; border-radius: 0.35em; text-transform: uppercase; vertical-align: middle; margin-left: 0.5rem\">ORG</span>\n",
       "</mark>\n",
       "]</div>"
      ],
      "text/plain": [
       "<IPython.core.display.HTML object>"
      ]
     },
     "metadata": {},
     "output_type": "display_data"
    },
    {
     "name": "stderr",
     "output_type": "stream",
     "text": [
      "/Users/tozturk/anaconda3/lib/python3.6/runpy.py:193: UserWarning: [W006] No entities to visualize found in Doc object. If this is surprising to you, make sure the Doc was processed using a model that supports named entity recognition, and check the `doc.ents` property manually if necessary.\n",
      "  \"__main__\", mod_spec)\n"
     ]
    },
    {
     "data": {
      "text/html": [
       "<div class=\"entities\" style=\"line-height: 2.5\">[It looks great!, Your hair looks like mine- just bought the products to try! :)]</div>"
      ],
      "text/plain": [
       "<IPython.core.display.HTML object>"
      ]
     },
     "metadata": {},
     "output_type": "display_data"
    },
    {
     "data": {
      "text/html": [
       "<div class=\"entities\" style=\"line-height: 2.5\">[I just started using the CG beginner routine and I’m thinking of starting to use devacurl products., I’m new to all this so some advice is welcomed.]</div>"
      ],
      "text/plain": [
       "<IPython.core.display.HTML object>"
      ]
     },
     "metadata": {},
     "output_type": "display_data"
    },
    {
     "data": {
      "text/html": [
       "<div class=\"entities\" style=\"line-height: 2.5\">[I bought my first dryer at \n",
       "<mark class=\"entity\" style=\"background: linear-gradient(90deg, #aa9cfc, #fc9ce7); padding: 0.45em 0.6em; margin: 0 0.25em; line-height: 1; border-radius: 0.35em; box-decoration-break: clone; -webkit-box-decoration-break: clone\">\n",
       "    Ulta\n",
       "    <span style=\"font-size: 0.8em; font-weight: bold; line-height: 1; border-radius: 0.35em; text-transform: uppercase; vertical-align: middle; margin-left: 0.5rem\">ORG</span>\n",
       "</mark>\n",
       " with a gift card I got., I used the diffuser that came with the dryer and I'm loving it!, I use to air dry, so sometimes I would just go to sleep with it wet lol..., My hair is super thick, so even with the dryer I couldn't get it completely dry., This is like 90-80 percent dry here.</br></br>, I usually use a wide tooth comb in the shower, but lately I've been using a paddle wet brush., It's been awesome!, I clarified with **VO5 Strawberries and Cream, ** using a scalp massager., Rinsed it out and conditioned with **\n",
       "<mark class=\"entity\" style=\"background: #aa9cfc; padding: 0.45em 0.6em; margin: 0 0.25em; line-height: 1; border-radius: 0.35em; box-decoration-break: clone; -webkit-box-decoration-break: clone\">\n",
       "    Tresemme Botanique\n",
       "    <span style=\"font-size: 0.8em; font-weight: bold; line-height: 1; border-radius: 0.35em; text-transform: uppercase; vertical-align: middle; margin-left: 0.5rem\">PERSON</span>\n",
       "</mark>\n",
       " Nourish and Replenish with coconut milk and aloe vera**., I brushed my hair with the conditioner in it and rinsed it all out.</br></br>, I stepped out of the shower, flipped my head upside down and did another brush through., I stayed upside down during this entire process!, I used a microfiber cloth to squeeze out most of the water (like squish to cornish motion) and then used a glob of **\n",
       "<mark class=\"entity\" style=\"background: #aa9cfc; padding: 0.45em 0.6em; margin: 0 0.25em; line-height: 1; border-radius: 0.35em; box-decoration-break: clone; -webkit-box-decoration-break: clone\">\n",
       "    Shea Moistures Coconut\n",
       "    <span style=\"font-size: 0.8em; font-weight: bold; line-height: 1; border-radius: 0.35em; text-transform: uppercase; vertical-align: middle; margin-left: 0.5rem\">PERSON</span>\n",
       "</mark>\n",
       " and \n",
       "<mark class=\"entity\" style=\"background: #aa9cfc; padding: 0.45em 0.6em; margin: 0 0.25em; line-height: 1; border-radius: 0.35em; box-decoration-break: clone; -webkit-box-decoration-break: clone\">\n",
       "    Hibiscus Curl Enhancing Smoothie**.\n",
       "    <span style=\"font-size: 0.8em; font-weight: bold; line-height: 1; border-radius: 0.35em; text-transform: uppercase; vertical-align: middle; margin-left: 0.5rem\">PERSON</span>\n",
       "</mark>\n",
       ", I first use praying hands to smooth it out on my hair and the used the brush again to get it all over my hair., (I've noticed at this point my brush has made my hair look really springy compared to the wide tooth comb!), I took my micro fiber towel again and squeezed the excess out.</br></br>, Then I applied *, *\n",
       "<mark class=\"entity\" style=\"background: linear-gradient(90deg, #aa9cfc, #fc9ce7); padding: 0.45em 0.6em; margin: 0 0.25em; line-height: 1; border-radius: 0.35em; box-decoration-break: clone; -webkit-box-decoration-break: clone\">\n",
       "    LA Looks Extreme Sport\n",
       "    <span style=\"font-size: 0.8em; font-weight: bold; line-height: 1; border-radius: 0.35em; text-transform: uppercase; vertical-align: middle; margin-left: 0.5rem\">ORG</span>\n",
       "</mark>\n",
       ", *, * (Blue bottle!), With praying hands, quick brush, and then did the squish to condish motion., I think my hair would've kept more curls if I hadn't used the brush (I was just so excited lol), but it still turned out well! </br></br>, Then it was time to diffuse!!!, I worked slowly and tried to not touch my hair., Once it was getting mostly dry I flipped my head back up and my hair to the side., I gently flipped my hair side to side while diffusing at this point., I normally flip my hair around throughout the day lol </br></br>, And here it is!!, I don't think I put enough gel in my hair for a good gel cast because I didn't really get one.]</div>"
      ],
      "text/plain": [
       "<IPython.core.display.HTML object>"
      ]
     },
     "metadata": {},
     "output_type": "display_data"
    },
    {
     "data": {
      "text/html": [
       "<div class=\"entities\" style=\"line-height: 2.5\">[Routine, (sorry for formatting, on mobile)</br></br>Step 1:, get hair soaking wet and co-wash scalp with \n",
       "<mark class=\"entity\" style=\"background: linear-gradient(90deg, #aa9cfc, #fc9ce7); padding: 0.45em 0.6em; margin: 0 0.25em; line-height: 1; border-radius: 0.35em; box-decoration-break: clone; -webkit-box-decoration-break: clone\">\n",
       "    Tresemmé Botanique\n",
       "    <span style=\"font-size: 0.8em; font-weight: bold; line-height: 1; border-radius: 0.35em; text-transform: uppercase; vertical-align: middle; margin-left: 0.5rem\">ORG</span>\n",
       "</mark>\n",
       " with \n",
       "<mark class=\"entity\" style=\"background: linear-gradient(90deg, #aa9cfc, #fc9ce7); padding: 0.45em 0.6em; margin: 0 0.25em; line-height: 1; border-radius: 0.35em; box-decoration-break: clone; -webkit-box-decoration-break: clone\">\n",
       "    Shea Butter\n",
       "    <span style=\"font-size: 0.8em; font-weight: bold; line-height: 1; border-radius: 0.35em; text-transform: uppercase; vertical-align: middle; margin-left: 0.5rem\">ORG</span>\n",
       "</mark>\n",
       " and Hibiscus</br></br>Step 2: use a handful of conditioner and brush hair with wet brush, then use more conditioner until all hair is tangle free and saturated with product, set in loose bun with scruncci, finish shower</br></br>Step 3: flip upside down and detangle with wide toothed comb, S2C, squish in \n",
       "<mark class=\"entity\" style=\"background: linear-gradient(90deg, #aa9cfc, #fc9ce7); padding: 0.45em 0.6em; margin: 0 0.25em; line-height: 1; border-radius: 0.35em; box-decoration-break: clone; -webkit-box-decoration-break: clone\">\n",
       "    Kinky Curly Knot\n",
       "    <span style=\"font-size: 0.8em; font-weight: bold; line-height: 1; border-radius: 0.35em; text-transform: uppercase; vertical-align: middle; margin-left: 0.5rem\">ORG</span>\n",
       "</mark>\n",
       ", Today leave-in conditioner, squish in ungodly amounts of \n",
       "<mark class=\"entity\" style=\"background: linear-gradient(90deg, #aa9cfc, #fc9ce7); padding: 0.45em 0.6em; margin: 0 0.25em; line-height: 1; border-radius: 0.35em; box-decoration-break: clone; -webkit-box-decoration-break: clone\">\n",
       "    LA Looks Sport Xtreme Gel\n",
       "    <span style=\"font-size: 0.8em; font-weight: bold; line-height: 1; border-radius: 0.35em; text-transform: uppercase; vertical-align: middle; margin-left: 0.5rem\">ORG</span>\n",
       "</mark>\n",
       ", squeezing out water as I do</br></br>Step 4: Lightly dry with a tshirt, then plop for 30 mins., Air dry, pineapple my hair and sleep on a satin pillowcase, , then \n",
       "<mark class=\"entity\" style=\"background: linear-gradient(90deg, #aa9cfc, #fc9ce7); padding: 0.45em 0.6em; margin: 0 0.25em; line-height: 1; border-radius: 0.35em; box-decoration-break: clone; -webkit-box-decoration-break: clone\">\n",
       "    SOTC\n",
       "    <span style=\"font-size: 0.8em; font-weight: bold; line-height: 1; border-radius: 0.35em; text-transform: uppercase; vertical-align: middle; margin-left: 0.5rem\">ORG</span>\n",
       "</mark>\n",
       " in the morning]</div>"
      ],
      "text/plain": [
       "<IPython.core.display.HTML object>"
      ]
     },
     "metadata": {},
     "output_type": "display_data"
    },
    {
     "data": {
      "text/html": [
       "<div class=\"entities\" style=\"line-height: 2.5\">[This is my first day so still figuring out a routine., haahha, I did a final shampoo with J&J baby shampoo and then rinsed with \n",
       "<mark class=\"entity\" style=\"background: linear-gradient(90deg, #aa9cfc, #fc9ce7); padding: 0.45em 0.6em; margin: 0 0.25em; line-height: 1; border-radius: 0.35em; box-decoration-break: clone; -webkit-box-decoration-break: clone\">\n",
       "    ACV\n",
       "    <span style=\"font-size: 0.8em; font-weight: bold; line-height: 1; border-radius: 0.35em; text-transform: uppercase; vertical-align: middle; margin-left: 0.5rem\">ORG</span>\n",
       "</mark>\n",
       ". \n",
       "<mark class=\"entity\" style=\"background: linear-gradient(90deg, #aa9cfc, #fc9ce7); padding: 0.45em 0.6em; margin: 0 0.25em; line-height: 1; border-radius: 0.35em; box-decoration-break: clone; -webkit-box-decoration-break: clone\">\n",
       "     \n",
       "    <span style=\"font-size: 0.8em; font-weight: bold; line-height: 1; border-radius: 0.35em; text-transform: uppercase; vertical-align: middle; margin-left: 0.5rem\">ORG</span>\n",
       "</mark>\n",
       ", Today, I used tresemme undone and squished it into my hair in the shower and lightly rinsed it., Then fructis clean gel and that's it., Forgot to do that plop thing and letting it air dry.]</div>"
      ],
      "text/plain": [
       "<IPython.core.display.HTML object>"
      ]
     },
     "metadata": {},
     "output_type": "display_data"
    },
    {
     "data": {
      "text/html": [
       "<div class=\"entities\" style=\"line-height: 2.5\">[Our hot water heater is broken and I think having to do weird things actually made my hair better!</br></br>, &#x200B;\n",
       "<mark class=\"entity\" style=\"background: #aa9cfc; padding: 0.45em 0.6em; margin: 0 0.25em; line-height: 1; border-radius: 0.35em; box-decoration-break: clone; -webkit-box-decoration-break: clone\">\n",
       "    \n",
       "\n",
       "Routine\n",
       "    <span style=\"font-size: 0.8em; font-weight: bold; line-height: 1; border-radius: 0.35em; text-transform: uppercase; vertical-align: middle; margin-left: 0.5rem\">PERSON</span>\n",
       "</mark>\n",
       ":, \n",
       "<mark class=\"entity\" style=\"background: linear-gradient(90deg, #aa9cfc, #fc9ce7); padding: 0.45em 0.6em; margin: 0 0.25em; line-height: 1; border-radius: 0.35em; box-decoration-break: clone; -webkit-box-decoration-break: clone\">\n",
       "    SUPER\n",
       "    <span style=\"font-size: 0.8em; font-weight: bold; line-height: 1; border-radius: 0.35em; text-transform: uppercase; vertical-align: middle; margin-left: 0.5rem\">ORG</span>\n",
       "</mark>\n",
       " frigid water, low-poo with a generic shampoo (only because I had a TON of dry shampoo in my hair), S2C with maui curly conditioner, detangle with comb and some Not Your Mother's \n",
       "<mark class=\"entity\" style=\"background: #aa9cfc; padding: 0.45em 0.6em; margin: 0 0.25em; line-height: 1; border-radius: 0.35em; box-decoration-break: clone; -webkit-box-decoration-break: clone\">\n",
       "    Naturals\n",
       "    <span style=\"font-size: 0.8em; font-weight: bold; line-height: 1; border-radius: 0.35em; text-transform: uppercase; vertical-align: middle; margin-left: 0.5rem\">PERSON</span>\n",
       "</mark>\n",
       " curly detangler, rinse with water so cold your head hurts., \n",
       "<mark class=\"entity\" style=\"background: linear-gradient(90deg, #aa9cfc, #fc9ce7); padding: 0.45em 0.6em; margin: 0 0.25em; line-height: 1; border-radius: 0.35em; box-decoration-break: clone; -webkit-box-decoration-break: clone\">\n",
       "    Tresemme Botanicals\n",
       "    <span style=\"font-size: 0.8em; font-weight: bold; line-height: 1; border-radius: 0.35em; text-transform: uppercase; vertical-align: middle; margin-left: 0.5rem\">ORG</span>\n",
       "</mark>\n",
       " for some leave in., Praying hands, roping method and squish in Aussie Freezing gel, repeat process for a bit., Scrunch out all remaining water., \n",
       "<mark class=\"entity\" style=\"background: #aa9cfc; padding: 0.45em 0.6em; margin: 0 0.25em; line-height: 1; border-radius: 0.35em; box-decoration-break: clone; -webkit-box-decoration-break: clone\">\n",
       "    Plop\n",
       "    <span style=\"font-size: 0.8em; font-weight: bold; line-height: 1; border-radius: 0.35em; text-transform: uppercase; vertical-align: middle; margin-left: 0.5rem\">PERSON</span>\n",
       "</mark>\n",
       " in a t-shirt over night., In the morning my hair was still kind of wet, but no crunch, so I scrunched with some \n",
       "<mark class=\"entity\" style=\"background: #aa9cfc; padding: 0.45em 0.6em; margin: 0 0.25em; line-height: 1; border-radius: 0.35em; box-decoration-break: clone; -webkit-box-decoration-break: clone\">\n",
       "    Aussie\n",
       "    <span style=\"font-size: 0.8em; font-weight: bold; line-height: 1; border-radius: 0.35em; text-transform: uppercase; vertical-align: middle; margin-left: 0.5rem\">PERSON</span>\n",
       "</mark>\n",
       " curl oil, and let air dry on my way to work., SOTC about 2 hours later.]</div>"
      ],
      "text/plain": [
       "<IPython.core.display.HTML object>"
      ]
     },
     "metadata": {},
     "output_type": "display_data"
    },
    {
     "data": {
      "text/html": [
       "<div class=\"entities\" style=\"line-height: 2.5\">[routine is pretty basic at the moment; \n",
       "\n",
       "<mark class=\"entity\" style=\"background: linear-gradient(90deg, #aa9cfc, #fc9ce7); padding: 0.45em 0.6em; margin: 0 0.25em; line-height: 1; border-radius: 0.35em; box-decoration-break: clone; -webkit-box-decoration-break: clone\">\n",
       "    Garnier Banana Hair Food\n",
       "    <span style=\"font-size: 0.8em; font-weight: bold; line-height: 1; border-radius: 0.35em; text-transform: uppercase; vertical-align: middle; margin-left: 0.5rem\">ORG</span>\n",
       "</mark>\n",
       " conditioner, detangle with head upside down., \n",
       "<mark class=\"entity\" style=\"background: #aa9cfc; padding: 0.45em 0.6em; margin: 0 0.25em; line-height: 1; border-radius: 0.35em; box-decoration-break: clone; -webkit-box-decoration-break: clone\">\n",
       "    Wash\n",
       "    <span style=\"font-size: 0.8em; font-weight: bold; line-height: 1; border-radius: 0.35em; text-transform: uppercase; vertical-align: middle; margin-left: 0.5rem\">PERSON</span>\n",
       "</mark>\n",
       " out after 5 mins but leave quite a lot in.  , Shot of cold water before getting out of shower. </br></br>, \n",
       "<mark class=\"entity\" style=\"background: #aa9cfc; padding: 0.45em 0.6em; margin: 0 0.25em; line-height: 1; border-radius: 0.35em; box-decoration-break: clone; -webkit-box-decoration-break: clone\">\n",
       "    Plop\n",
       "    <span style=\"font-size: 0.8em; font-weight: bold; line-height: 1; border-radius: 0.35em; text-transform: uppercase; vertical-align: middle; margin-left: 0.5rem\">PERSON</span>\n",
       "</mark>\n",
       " for as long as i feel necessary or as long as it takes for me to do my make up., Add \n",
       "<mark class=\"entity\" style=\"background: linear-gradient(90deg, #aa9cfc, #fc9ce7); padding: 0.45em 0.6em; margin: 0 0.25em; line-height: 1; border-radius: 0.35em; box-decoration-break: clone; -webkit-box-decoration-break: clone\">\n",
       "    Herbal Essences Tousle\n",
       "    <span style=\"font-size: 0.8em; font-weight: bold; line-height: 1; border-radius: 0.35em; text-transform: uppercase; vertical-align: middle; margin-left: 0.5rem\">ORG</span>\n",
       "</mark>\n",
       ", me, Softly mousse and scrunch through hair. \n",
       "\n",
       ", leave to air dry and avoid touching!]</div>"
      ],
      "text/plain": [
       "<IPython.core.display.HTML object>"
      ]
     },
     "metadata": {},
     "output_type": "display_data"
    },
    {
     "data": {
      "text/html": [
       "<div class=\"entities\" style=\"line-height: 2.5\">[I co-wash with tresemme botanique., Let it sit while I take care of the rest of myself in the shower., Rinse completely., Add a small drop of conditioner to my ends, squish., \n",
       "<mark class=\"entity\" style=\"background: #aa9cfc; padding: 0.45em 0.6em; margin: 0 0.25em; line-height: 1; border-radius: 0.35em; box-decoration-break: clone; -webkit-box-decoration-break: clone\">\n",
       "    Dry\n",
       "    <span style=\"font-size: 0.8em; font-weight: bold; line-height: 1; border-radius: 0.35em; text-transform: uppercase; vertical-align: middle; margin-left: 0.5rem\">PERSON</span>\n",
       "</mark>\n",
       " with a shirt., \n",
       "<mark class=\"entity\" style=\"background: #aa9cfc; padding: 0.45em 0.6em; margin: 0 0.25em; line-height: 1; border-radius: 0.35em; box-decoration-break: clone; -webkit-box-decoration-break: clone\">\n",
       "    Add Shea\n",
       "    <span style=\"font-size: 0.8em; font-weight: bold; line-height: 1; border-radius: 0.35em; text-transform: uppercase; vertical-align: middle; margin-left: 0.5rem\">PERSON</span>\n",
       "</mark>\n",
       " moisture curl smoothie liberally., Squish., \n",
       "<mark class=\"entity\" style=\"background: linear-gradient(90deg, #aa9cfc, #fc9ce7); padding: 0.45em 0.6em; margin: 0 0.25em; line-height: 1; border-radius: 0.35em; box-decoration-break: clone; -webkit-box-decoration-break: clone\">\n",
       "    Teeeeny\n",
       "    <span style=\"font-size: 0.8em; font-weight: bold; line-height: 1; border-radius: 0.35em; text-transform: uppercase; vertical-align: middle; margin-left: 0.5rem\">ORG</span>\n",
       "</mark>\n",
       " amount of shea moisture max hold gel., Squish avoiding roots., \n",
       "<mark class=\"entity\" style=\"background: #aa9cfc; padding: 0.45em 0.6em; margin: 0 0.25em; line-height: 1; border-radius: 0.35em; box-decoration-break: clone; -webkit-box-decoration-break: clone\">\n",
       "    Dry\n",
       "    <span style=\"font-size: 0.8em; font-weight: bold; line-height: 1; border-radius: 0.35em; text-transform: uppercase; vertical-align: middle; margin-left: 0.5rem\">PERSON</span>\n",
       "</mark>\n",
       " naturally.]</div>"
      ],
      "text/plain": [
       "<IPython.core.display.HTML object>"
      ]
     },
     "metadata": {},
     "output_type": "display_data"
    },
    {
     "data": {
      "text/html": [
       "<div class=\"entities\" style=\"line-height: 2.5\">[ ➰co wash with as I am coconut cowash using my cool little vibrating scalp brush thing  </br>➰squish to condish with garnier avocado one minute mask (left it in my hair long enough to shave) then rinsed it out completely   \n",
       "➰turned off the water and scrunched out extra water and raked diva curl wave maker \n",
       "<mark class=\"entity\" style=\"background: linear-gradient(90deg, #aa9cfc, #fc9ce7); padding: 0.45em 0.6em; margin: 0 0.25em; line-height: 1; border-radius: 0.35em; box-decoration-break: clone; -webkit-box-decoration-break: clone\">\n",
       "      \n",
       "\n",
       "    <span style=\"font-size: 0.8em; font-weight: bold; line-height: 1; border-radius: 0.35em; text-transform: uppercase; vertical-align: middle; margin-left: 0.5rem\">ORG</span>\n",
       "</mark>\n",
       "➰used praying hands/scrunched in 3 huge handfuls if biotera gel   \n",
       "➰plopped for about 3 minutes   </br>➰used the pixie method to diffuse with my orchid diffuser on low until 90% dry!]</div>"
      ],
      "text/plain": [
       "<IPython.core.display.HTML object>"
      ]
     },
     "metadata": {},
     "output_type": "display_data"
    },
    {
     "data": {
      "text/html": [
       "<div class=\"entities\" style=\"line-height: 2.5\">[Routine: instead of using v05 for the reset I used ogx charcoal clarifying shampoo., I used the tresemme coconut and aloe conditioner as co-wash and conditioner, detangled my hair with a wide tooth comb, use a tshirt to dry it, and then I implied a handful of \n",
       "<mark class=\"entity\" style=\"background: #aa9cfc; padding: 0.45em 0.6em; margin: 0 0.25em; line-height: 1; border-radius: 0.35em; box-decoration-break: clone; -webkit-box-decoration-break: clone\">\n",
       "    Mark Anthony's\n",
       "    <span style=\"font-size: 0.8em; font-weight: bold; line-height: 1; border-radius: 0.35em; text-transform: uppercase; vertical-align: middle; margin-left: 0.5rem\">PERSON</span>\n",
       "</mark>\n",
       " strictly curls lotion.</br></br>, I need to say that my hair wasn't really bad before this and my other routine was mostly the same except for the reset part., Anyway, today after using the method I notice that I had a little bit more volume in the roots and more coil in general.]</div>"
      ],
      "text/plain": [
       "<IPython.core.display.HTML object>"
      ]
     },
     "metadata": {},
     "output_type": "display_data"
    },
    {
     "data": {
      "text/html": [
       "<div class=\"entities\" style=\"line-height: 2.5\">[i used the aphogee 2 minute reconstructor and i LOVE the results!, i had to use a lot to coat all of my hair, though., i washed my hair and then put the treatment on my damp hair and left it on for 5 minutes., then i rinsed it out completely and used conditioner and rinsed the conditioner out. </br></br> , normal routine, : \n",
       "-kinky curly come clean shampoo\n",
       "-DC one condition original conditioner, comb thru with wide tooth comb, rinse out and put hair in a hair clip \n",
       "-finish, shower \n",
       "-out of shower, rewet hair with spray bottle of water\n",
       ", -apply 1-2 pump of devacurl regular styling cream using prayer hands \n",
       "-apply an outrageous amount of LA looks sport gel using prayer hands, then scrunch \n",
       "-now more sparingly, use devacurl arc angel gel on just the ends (i like how it covers up the smell of the LA gel, and idk why but this combo works best for me, and i like saving $$ on arc angel by using sparingly and using the cheaper option all over) \n",
       "-air dry \n",
       "<mark class=\"entity\" style=\"background: linear-gradient(90deg, #aa9cfc, #fc9ce7); padding: 0.45em 0.6em; margin: 0 0.25em; line-height: 1; border-radius: 0.35em; box-decoration-break: clone; -webkit-box-decoration-break: clone\">\n",
       "    WITHOUT\n",
       "    <span style=\"font-size: 0.8em; font-weight: bold; line-height: 1; border-radius: 0.35em; text-transform: uppercase; vertical-align: middle; margin-left: 0.5rem\">ORG</span>\n",
       "</mark>\n",
       " plopping (plopping messes up my curls for some reason) and periodically scrunch out moisture w devatowel\n",
       "-if feeling fancy, diffuse periodically between sessions of air drying \n",
       "-scrunch out crunch! \n",
       "\n",
       ", edit: typos and clarity]</div>"
      ],
      "text/plain": [
       "<IPython.core.display.HTML object>"
      ]
     },
     "metadata": {},
     "output_type": "display_data"
    },
    {
     "name": "stderr",
     "output_type": "stream",
     "text": [
      "/Users/tozturk/anaconda3/lib/python3.6/runpy.py:193: UserWarning: [W006] No entities to visualize found in Doc object. If this is surprising to you, make sure the Doc was processed using a model that supports named entity recognition, and check the `doc.ents` property manually if necessary.\n",
      "  \"__main__\", mod_spec)\n"
     ]
    },
    {
     "data": {
      "text/html": [
       "<div class=\"entities\" style=\"line-height: 2.5\">[This just happened for me the other day too!, Took a chance on a protein treatment (Curl Junkie Repair Me!), and my hair felt amazing after, and it's still looking softer and better., Going to use it once a month and hopefully will keep having good results.]</div>"
      ],
      "text/plain": [
       "<IPython.core.display.HTML object>"
      ]
     },
     "metadata": {},
     "output_type": "display_data"
    },
    {
     "data": {
      "text/html": [
       "<div class=\"entities\" style=\"line-height: 2.5\">[We’ve been doing this for a week., Before this wouldn’t dare send my daughter to school with her hair down let alone sleep with it that way before now., End goal:, \n",
       "<mark class=\"entity\" style=\"background: #aa9cfc; padding: 0.45em 0.6em; margin: 0 0.25em; line-height: 1; border-radius: 0.35em; box-decoration-break: clone; -webkit-box-decoration-break: clone\">\n",
       "    Achieve\n",
       "    <span style=\"font-size: 0.8em; font-weight: bold; line-height: 1; border-radius: 0.35em; text-transform: uppercase; vertical-align: middle; margin-left: 0.5rem\">PERSON</span>\n",
       "</mark>\n",
       " healthier hair by following less damaging hair care routine., Less time getting my daughters hair ready for school in the morning., Embracing her curls instead to fighting them., It’s only been a week and I’ve noticed a huge difference in her hair.</br></br>, \n",
       "<mark class=\"entity\" style=\"background: linear-gradient(90deg, #aa9cfc, #fc9ce7); padding: 0.45em 0.6em; margin: 0 0.25em; line-height: 1; border-radius: 0.35em; box-decoration-break: clone; -webkit-box-decoration-break: clone\">\n",
       "    Shampoo &\n",
       "    <span style=\"font-size: 0.8em; font-weight: bold; line-height: 1; border-radius: 0.35em; text-transform: uppercase; vertical-align: middle; margin-left: 0.5rem\">ORG</span>\n",
       "</mark>\n",
       " conditioner 1x week\n",
       ", Co-wash 2x week\n",
       "\n",
       "1., Washed with \n",
       "<mark class=\"entity\" style=\"background: linear-gradient(90deg, #aa9cfc, #fc9ce7); padding: 0.45em 0.6em; margin: 0 0.25em; line-height: 1; border-radius: 0.35em; box-decoration-break: clone; -webkit-box-decoration-break: clone\">\n",
       "    Garnier\n",
       "    <span style=\"font-size: 0.8em; font-weight: bold; line-height: 1; border-radius: 0.35em; text-transform: uppercase; vertical-align: middle; margin-left: 0.5rem\">ORG</span>\n",
       "</mark>\n",
       " curl nourish conditioner detangled with conditioner in using a wide tooth comb., 2., Let sit for a few minutes and rinse., 3., Lightly pat dry with towel to remove excess water., While hair is still wet, using finger tips gently applied a little \n",
       "<mark class=\"entity\" style=\"background: linear-gradient(90deg, #aa9cfc, #fc9ce7); padding: 0.45em 0.6em; margin: 0 0.25em; line-height: 1; border-radius: 0.35em; box-decoration-break: clone; -webkit-box-decoration-break: clone\">\n",
       "    Jamaican Black\n",
       "    <span style=\"font-size: 0.8em; font-weight: bold; line-height: 1; border-radius: 0.35em; text-transform: uppercase; vertical-align: middle; margin-left: 0.5rem\">ORG</span>\n",
       "</mark>\n",
       " castor oil to scalp to ends., \n",
       "<mark class=\"entity\" style=\"background: #aa9cfc; padding: 0.45em 0.6em; margin: 0 0.25em; line-height: 1; border-radius: 0.35em; box-decoration-break: clone; -webkit-box-decoration-break: clone\">\n",
       "    Followed\n",
       "    <span style=\"font-size: 0.8em; font-weight: bold; line-height: 1; border-radius: 0.35em; text-transform: uppercase; vertical-align: middle; margin-left: 0.5rem\">PERSON</span>\n",
       "</mark>\n",
       " by with Cantu care kids curling cream., \n",
       "<mark class=\"entity\" style=\"background: #aa9cfc; padding: 0.45em 0.6em; margin: 0 0.25em; line-height: 1; border-radius: 0.35em; box-decoration-break: clone; -webkit-box-decoration-break: clone\">\n",
       "    Followed\n",
       "    <span style=\"font-size: 0.8em; font-weight: bold; line-height: 1; border-radius: 0.35em; text-transform: uppercase; vertical-align: middle; margin-left: 0.5rem\">PERSON</span>\n",
       "</mark>\n",
       " up with \n",
       "<mark class=\"entity\" style=\"background: linear-gradient(90deg, #aa9cfc, #fc9ce7); padding: 0.45em 0.6em; margin: 0 0.25em; line-height: 1; border-radius: 0.35em; box-decoration-break: clone; -webkit-box-decoration-break: clone\">\n",
       "    Softee\n",
       "    <span style=\"font-size: 0.8em; font-weight: bold; line-height: 1; border-radius: 0.35em; text-transform: uppercase; vertical-align: middle; margin-left: 0.5rem\">ORG</span>\n",
       "</mark>\n",
       " super freeze protein styling gel., 4., Blow dried using diffuser attachment on low heat., 5.Scrunch out the crunch. \n",
       "\n",
       "\n",
       "]</div>"
      ],
      "text/plain": [
       "<IPython.core.display.HTML object>"
      ]
     },
     "metadata": {},
     "output_type": "display_data"
    },
    {
     "data": {
      "text/html": [
       "<div class=\"entities\" style=\"line-height: 2.5\">[Current routine:\n",
       "\n",
       "<mark class=\"entity\" style=\"background: linear-gradient(90deg, #aa9cfc, #fc9ce7); padding: 0.45em 0.6em; margin: 0 0.25em; line-height: 1; border-radius: 0.35em; box-decoration-break: clone; -webkit-box-decoration-break: clone\">\n",
       "    NYM\n",
       "    <span style=\"font-size: 0.8em; font-weight: bold; line-height: 1; border-radius: 0.35em; text-transform: uppercase; vertical-align: middle; margin-left: 0.5rem\">ORG</span>\n",
       "</mark>\n",
       " \n",
       "<mark class=\"entity\" style=\"background: #aa9cfc; padding: 0.45em 0.6em; margin: 0 0.25em; line-height: 1; border-radius: 0.35em; box-decoration-break: clone; -webkit-box-decoration-break: clone\">\n",
       "    Tahitian Gardenia\n",
       "    <span style=\"font-size: 0.8em; font-weight: bold; line-height: 1; border-radius: 0.35em; text-transform: uppercase; vertical-align: middle; margin-left: 0.5rem\">PERSON</span>\n",
       "</mark>\n",
       " and \n",
       "<mark class=\"entity\" style=\"background: linear-gradient(90deg, #aa9cfc, #fc9ce7); padding: 0.45em 0.6em; margin: 0 0.25em; line-height: 1; border-radius: 0.35em; box-decoration-break: clone; -webkit-box-decoration-break: clone\">\n",
       "    Mango Butter Shampoo\n",
       "    <span style=\"font-size: 0.8em; font-weight: bold; line-height: 1; border-radius: 0.35em; text-transform: uppercase; vertical-align: middle; margin-left: 0.5rem\">ORG</span>\n",
       "</mark>\n",
       ", rinse out with cool water.\n",
       ", \n",
       "<mark class=\"entity\" style=\"background: linear-gradient(90deg, #aa9cfc, #fc9ce7); padding: 0.45em 0.6em; margin: 0 0.25em; line-height: 1; border-radius: 0.35em; box-decoration-break: clone; -webkit-box-decoration-break: clone\">\n",
       "    NYM\n",
       "    <span style=\"font-size: 0.8em; font-weight: bold; line-height: 1; border-radius: 0.35em; text-transform: uppercase; vertical-align: middle; margin-left: 0.5rem\">ORG</span>\n",
       "</mark>\n",
       " Tahitian Gardenia and Mango \n",
       "<mark class=\"entity\" style=\"background: #aa9cfc; padding: 0.45em 0.6em; margin: 0 0.25em; line-height: 1; border-radius: 0.35em; box-decoration-break: clone; -webkit-box-decoration-break: clone\">\n",
       "    Butter Conditioner\n",
       "    <span style=\"font-size: 0.8em; font-weight: bold; line-height: 1; border-radius: 0.35em; text-transform: uppercase; vertical-align: middle; margin-left: 0.5rem\">PERSON</span>\n",
       "</mark>\n",
       ", rinse with cool water, head flipped upside down.\n",
       "turn off shower and comb \n",
       "<mark class=\"entity\" style=\"background: linear-gradient(90deg, #aa9cfc, #fc9ce7); padding: 0.45em 0.6em; margin: 0 0.25em; line-height: 1; border-radius: 0.35em; box-decoration-break: clone; -webkit-box-decoration-break: clone\">\n",
       "    NYM\n",
       "    <span style=\"font-size: 0.8em; font-weight: bold; line-height: 1; border-radius: 0.35em; text-transform: uppercase; vertical-align: middle; margin-left: 0.5rem\">ORG</span>\n",
       "</mark>\n",
       " Tahitian Gardenia and \n",
       "<mark class=\"entity\" style=\"background: #aa9cfc; padding: 0.45em 0.6em; margin: 0 0.25em; line-height: 1; border-radius: 0.35em; box-decoration-break: clone; -webkit-box-decoration-break: clone\">\n",
       "    Mango Butter\n",
       "    <span style=\"font-size: 0.8em; font-weight: bold; line-height: 1; border-radius: 0.35em; text-transform: uppercase; vertical-align: middle; margin-left: 0.5rem\">PERSON</span>\n",
       "</mark>\n",
       " combing cream through hair.\n",
       ", With hair still soaking wet using praying hands, put generous amounts of Curl Keeper Original in hair and scrunch till water no longer drips out.\n",
       ", Keeping head upside down, squeeze out excess water with a t-shirt. \n",
       ", Let air dry </br></br>, My biggest problem is having beautiful ringlets on bottom but it falls flat so fast on top that I have to end up pulling it halfway back., Also in the back where it is shorter, it doesn't curl as much., I'm trying so hard to embrace what nature gave me, but I hate feeling like I have a mop on my head. </br></br>, The products I am currently using have given me pretty good results and my hair seems to be reacting well to it., I have also been sulfate free a while now but silicone free is something I'm generally new to., So will it take a while for my hair to \"transform\" after quitting silicones?\n",
       ", My hair is not very damaged because I rarely straighten it anymore., At least it doesn't feel like it and visually I can't see any damage.\n",
       "\n",
       ", My goal is to be able to wear my hair down all the way!, Any advice would be greatly appreciated.]</div>"
      ],
      "text/plain": [
       "<IPython.core.display.HTML object>"
      ]
     },
     "metadata": {},
     "output_type": "display_data"
    },
    {
     "data": {
      "text/html": [
       "<div class=\"entities\" style=\"line-height: 2.5\">[I have fine 2b/2c low porosity waves and use the nym cream, but only a teeny tiny amount on top of a leave in conditioner (usually kinky curly knot today)., It gets too heavy for fine hair really fast, a little goes a long way., I’ve had good results using it with mop top custard and jessicurl gel, combined they give a pretty good hold, and I can actually let it mostly air dry without losing too much definition, though it will be a little longer and looser, (that’s also just my winter weather reality though so works for me)., If I want tighter/springier waves I’ll use a harder hold gel like \n",
       "<mark class=\"entity\" style=\"background: #aa9cfc; padding: 0.45em 0.6em; margin: 0 0.25em; line-height: 1; border-radius: 0.35em; box-decoration-break: clone; -webkit-box-decoration-break: clone\">\n",
       "    Aussie\n",
       "    <span style=\"font-size: 0.8em; font-weight: bold; line-height: 1; border-radius: 0.35em; text-transform: uppercase; vertical-align: middle; margin-left: 0.5rem\">PERSON</span>\n",
       "</mark>\n",
       " instant freeze with it and diffuse., I do really like the cream, , it’s definitely the best frizz control product I use, but it took a while to figure out how little I needed to use for good results., Hope this helps!]</div>"
      ],
      "text/plain": [
       "<IPython.core.display.HTML object>"
      ]
     },
     "metadata": {},
     "output_type": "display_data"
    },
    {
     "data": {
      "text/html": [
       "<div class=\"entities\" style=\"line-height: 2.5\">[\n",
       "<mark class=\"entity\" style=\"background: linear-gradient(90deg, #aa9cfc, #fc9ce7); padding: 0.45em 0.6em; margin: 0 0.25em; line-height: 1; border-radius: 0.35em; box-decoration-break: clone; -webkit-box-decoration-break: clone\">\n",
       "    Shea Moisture\n",
       "    <span style=\"font-size: 0.8em; font-weight: bold; line-height: 1; border-radius: 0.35em; text-transform: uppercase; vertical-align: middle; margin-left: 0.5rem\">ORG</span>\n",
       "</mark>\n",
       " makes shampoo and conditioner especially for low porosity hair that you could look into., If your hair is easily weighed down you might also look into using a mousse or light gel instead of heavy creams., For volume on top you could try plopping for 10 to 15 minutes or so and then air dry or defuse part of the way then air dry and then scrunch out the crunch for definition., Hope this helps!]</div>"
      ],
      "text/plain": [
       "<IPython.core.display.HTML object>"
      ]
     },
     "metadata": {},
     "output_type": "display_data"
    },
    {
     "data": {
      "text/html": [
       "<div class=\"entities\" style=\"line-height: 2.5\">[I'd say 2B.  , I am 2C and my curls are a bit tighter (more ringlet-y).  , It's possible that you are 2C but just need to tweak your products, (some can weigh down the curls to give the appearance of less curl/more wave)., Your hair looks gorgeous though!, If you have low porosity hair (I do), you may want to consider \n",
       "<mark class=\"entity\" style=\"background: #bfeeb7; padding: 0.45em 0.6em; margin: 0 0.25em; line-height: 1; border-radius: 0.35em; box-decoration-break: clone; -webkit-box-decoration-break: clone\">\n",
       "    NYM Blue Sea Kale\n",
       "    <span style=\"font-size: 0.8em; font-weight: bold; line-height: 1; border-radius: 0.35em; text-transform: uppercase; vertical-align: middle; margin-left: 0.5rem\">PRODUCT</span>\n",
       "</mark>\n",
       " and \n",
       "<mark class=\"entity\" style=\"background: #bfeeb7; padding: 0.45em 0.6em; margin: 0 0.25em; line-height: 1; border-radius: 0.35em; box-decoration-break: clone; -webkit-box-decoration-break: clone\">\n",
       "    Pure Coconut Water\n",
       "    <span style=\"font-size: 0.8em; font-weight: bold; line-height: 1; border-radius: 0.35em; text-transform: uppercase; vertical-align: middle; margin-left: 0.5rem\">PRODUCT</span>\n",
       "</mark>\n",
       ".  , Someone else on \n",
       "<mark class=\"entity\" style=\"background: linear-gradient(90deg, #aa9cfc, #fc9ce7); padding: 0.45em 0.6em; margin: 0 0.25em; line-height: 1; border-radius: 0.35em; box-decoration-break: clone; -webkit-box-decoration-break: clone\">\n",
       "    Reddit\n",
       "    <span style=\"font-size: 0.8em; font-weight: bold; line-height: 1; border-radius: 0.35em; text-transform: uppercase; vertical-align: middle; margin-left: 0.5rem\">ORG</span>\n",
       "</mark>\n",
       " suggested it for me and my curls are even tighter now!, I wish I would have found this a long time ago. \n",
       "<mark class=\"entity\" style=\"background: linear-gradient(90deg, #aa9cfc, #fc9ce7); padding: 0.45em 0.6em; margin: 0 0.25em; line-height: 1; border-radius: 0.35em; box-decoration-break: clone; -webkit-box-decoration-break: clone\">\n",
       "     \n",
       "    <span style=\"font-size: 0.8em; font-weight: bold; line-height: 1; border-radius: 0.35em; text-transform: uppercase; vertical-align: middle; margin-left: 0.5rem\">ORG</span>\n",
       "</mark>\n",
       ", This line has mild sulfates for the shampoo (which can be good for us LP girls) but no silicones in, either \n",
       "<mark class=\"entity\" style=\"background: linear-gradient(90deg, #aa9cfc, #fc9ce7); padding: 0.45em 0.6em; margin: 0 0.25em; line-height: 1; border-radius: 0.35em; box-decoration-break: clone; -webkit-box-decoration-break: clone\">\n",
       "    the S or C.  \n",
       "    <span style=\"font-size: 0.8em; font-weight: bold; line-height: 1; border-radius: 0.35em; text-transform: uppercase; vertical-align: middle; margin-left: 0.5rem\">ORG</span>\n",
       "</mark>\n",
       "I think you'd really like it.  , And they smell amaaaaazing.]</div>"
      ],
      "text/plain": [
       "<IPython.core.display.HTML object>"
      ]
     },
     "metadata": {},
     "output_type": "display_data"
    },
    {
     "name": "stderr",
     "output_type": "stream",
     "text": [
      "/Users/tozturk/anaconda3/lib/python3.6/runpy.py:193: UserWarning: [W006] No entities to visualize found in Doc object. If this is surprising to you, make sure the Doc was processed using a model that supports named entity recognition, and check the `doc.ents` property manually if necessary.\n",
      "  \"__main__\", mod_spec)\n"
     ]
    },
    {
     "data": {
      "text/html": [
       "<div class=\"entities\" style=\"line-height: 2.5\">[I think that combing cream you listed might be too heavy for your hair, try a lighter leave in., I use as I am leave in, and I think it works well even with the large amount I use.]</div>"
      ],
      "text/plain": [
       "<IPython.core.display.HTML object>"
      ]
     },
     "metadata": {},
     "output_type": "display_data"
    },
    {
     "data": {
      "text/html": [
       "<div class=\"entities\" style=\"line-height: 2.5\">[You mentioned that you've been sulphate free for a while but not silicone free?, If this is the case you would need to do a clarifying wash - one of the reasons to cut out silicones in CG is that they can, *, *only** be removed by a sulphate shampoo, so you possibly have build up from any silicones in products you were using., It might also be the butters in the products you are using?, They can be too much for low porosity/fine hair sometimes., You could try watering it down a bit and see if your curls last longer?]</div>"
      ],
      "text/plain": [
       "<IPython.core.display.HTML object>"
      ]
     },
     "metadata": {},
     "output_type": "display_data"
    },
    {
     "data": {
      "text/html": [
       "<div class=\"entities\" style=\"line-height: 2.5\">[No fancy treatment, and my hair is naturally dead straight, but I sport my hair like this for a couple of days after taking out braids., I use friendly shampoo and conditioner, air dry then braid without product., Five days later then vavavoom.]</div>"
      ],
      "text/plain": [
       "<IPython.core.display.HTML object>"
      ]
     },
     "metadata": {},
     "output_type": "display_data"
    },
    {
     "name": "stderr",
     "output_type": "stream",
     "text": [
      "/Users/tozturk/anaconda3/lib/python3.6/runpy.py:193: UserWarning: [W006] No entities to visualize found in Doc object. If this is surprising to you, make sure the Doc was processed using a model that supports named entity recognition, and check the `doc.ents` property manually if necessary.\n",
      "  \"__main__\", mod_spec)\n"
     ]
    },
    {
     "data": {
      "text/html": [
       "<div class=\"entities\" style=\"line-height: 2.5\">[I pretty much just followed the basic method., I feel wrong using so much conditioner]</div>"
      ],
      "text/plain": [
       "<IPython.core.display.HTML object>"
      ]
     },
     "metadata": {},
     "output_type": "display_data"
    },
    {
     "data": {
      "text/html": [
       "<div class=\"entities\" style=\"line-height: 2.5\">[Routine:, Co-Wash with, \n",
       "<mark class=\"entity\" style=\"background: linear-gradient(90deg, #aa9cfc, #fc9ce7); padding: 0.45em 0.6em; margin: 0 0.25em; line-height: 1; border-radius: 0.35em; box-decoration-break: clone; -webkit-box-decoration-break: clone\">\n",
       "    Organix OG\n",
       "    <span style=\"font-size: 0.8em; font-weight: bold; line-height: 1; border-radius: 0.35em; text-transform: uppercase; vertical-align: middle; margin-left: 0.5rem\">ORG</span>\n",
       "</mark>\n",
       " coconut conditioner while fingercombing, then heavily squish and conditioner using same and put up. </br></br>, After showering completed, squish to apply leave-in conditioner and comb using VERY wide-tooth comb to pull out tangles already formed just from being put up.</br></br>, After toweling body, apply palm of soft gel via scrunching gently., Let dry for ~3 hours and then ruffle and rub gently to break gel mold., \n",
       "<mark class=\"entity\" style=\"background: #aa9cfc; padding: 0.45em 0.6em; margin: 0 0.25em; line-height: 1; border-radius: 0.35em; box-decoration-break: clone; -webkit-box-decoration-break: clone\">\n",
       "    Kill\n",
       "    <span style=\"font-size: 0.8em; font-weight: bold; line-height: 1; border-radius: 0.35em; text-transform: uppercase; vertical-align: middle; margin-left: 0.5rem\">PERSON</span>\n",
       "</mark>\n",
       " me.</br></br>, If anyone has any advice I'd love to hear it.</br></br>, \n",
       "<mark class=\"entity\" style=\"background: linear-gradient(90deg, #aa9cfc, #fc9ce7); padding: 0.45em 0.6em; margin: 0 0.25em; line-height: 1; border-radius: 0.35em; box-decoration-break: clone; -webkit-box-decoration-break: clone\">\n",
       "    E2\n",
       "    <span style=\"font-size: 0.8em; font-weight: bold; line-height: 1; border-radius: 0.35em; text-transform: uppercase; vertical-align: middle; margin-left: 0.5rem\">ORG</span>\n",
       "</mark>\n",
       ":, [This is closer to the good hair days I had before starting CG.], (https://i.imgur.com/sobSymM.jpg)]</div>"
      ],
      "text/plain": [
       "<IPython.core.display.HTML object>"
      ]
     },
     "metadata": {},
     "output_type": "display_data"
    },
    {
     "data": {
      "text/html": [
       "<div class=\"entities\" style=\"line-height: 2.5\">[Honestly thank you!!, Even with cg I have had undefined frizzy or stringy curls and today was the first day I've felt genuinely happy</br></br>, I can't find your post, but i hope you see this!, You changed my life today 😂</br></br>Routine</br>Argan oil Morocco conditioner stc in shower\n",
       "<mark class=\"entity\" style=\"background: linear-gradient(90deg, #aa9cfc, #fc9ce7); padding: 0.45em 0.6em; margin: 0 0.25em; line-height: 1; border-radius: 0.35em; box-decoration-break: clone; -webkit-box-decoration-break: clone\">\n",
       "    \n",
       "\n",
       "Little\n",
       "    <span style=\"font-size: 0.8em; font-weight: bold; line-height: 1; border-radius: 0.35em; text-transform: uppercase; vertical-align: middle; margin-left: 0.5rem\">ORG</span>\n",
       "</mark>\n",
       " angels leave in immediately after</br></br>Praying hands eco style olive oil gel</br></br>\n",
       "<mark class=\"entity\" style=\"background: #bfeeb7; padding: 0.45em 0.6em; margin: 0 0.25em; line-height: 1; border-radius: 0.35em; box-decoration-break: clone; -webkit-box-decoration-break: clone\">\n",
       "    Plop 5\n",
       "    <span style=\"font-size: 0.8em; font-weight: bold; line-height: 1; border-radius: 0.35em; text-transform: uppercase; vertical-align: middle; margin-left: 0.5rem\">PRODUCT</span>\n",
       "</mark>\n",
       " mins</br></br>Diffuse until 60% dry</br></br>Praying hands gel again and scrunch up the ends\n",
       "<mark class=\"entity\" style=\"background: #aa9cfc; padding: 0.45em 0.6em; margin: 0 0.25em; line-height: 1; border-radius: 0.35em; box-decoration-break: clone; -webkit-box-decoration-break: clone\">\n",
       "    \n",
       "\n",
       "Leave\n",
       "    <span style=\"font-size: 0.8em; font-weight: bold; line-height: 1; border-radius: 0.35em; text-transform: uppercase; vertical-align: middle; margin-left: 0.5rem\">PERSON</span>\n",
       "</mark>\n",
       " till 100% dry and sotc]</div>"
      ],
      "text/plain": [
       "<IPython.core.display.HTML object>"
      ]
     },
     "metadata": {},
     "output_type": "display_data"
    },
    {
     "data": {
      "text/html": [
       "<div class=\"entities\" style=\"line-height: 2.5\">[Just a week ago I was super bummed with my results., Today is a game changer!, I added a leave in and bought a diffuser. </br></br>, Routine today:, Wash with shea moisture argan oil & almond milk shampoo, squish to condish with bounce curl super smooth cream conditioner, apply giovanni leave in conditioner with rope and pulse method, scrunch in kinky curly curling custard, squeeze the ever living daylights out of my hair to get all water out, plop for 15 min and diffuse 90%, air dry then scrunch the crunch. \n",
       "\n",
       "\n",
       "]</div>"
      ],
      "text/plain": [
       "<IPython.core.display.HTML object>"
      ]
     },
     "metadata": {},
     "output_type": "display_data"
    },
    {
     "data": {
      "text/html": [
       "<div class=\"entities\" style=\"line-height: 2.5\">[I wash my hair at night with \n",
       "<mark class=\"entity\" style=\"background: linear-gradient(90deg, #aa9cfc, #fc9ce7); padding: 0.45em 0.6em; margin: 0 0.25em; line-height: 1; border-radius: 0.35em; box-decoration-break: clone; -webkit-box-decoration-break: clone\">\n",
       "    Shea Moisture\n",
       "    <span style=\"font-size: 0.8em; font-weight: bold; line-height: 1; border-radius: 0.35em; text-transform: uppercase; vertical-align: middle; margin-left: 0.5rem\">ORG</span>\n",
       "</mark>\n",
       " coconut & hibiscus shampoo., \n",
       "<mark class=\"entity\" style=\"background: #aa9cfc; padding: 0.45em 0.6em; margin: 0 0.25em; line-height: 1; border-radius: 0.35em; box-decoration-break: clone; -webkit-box-decoration-break: clone\">\n",
       "    Detangle\n",
       "    <span style=\"font-size: 0.8em; font-weight: bold; line-height: 1; border-radius: 0.35em; text-transform: uppercase; vertical-align: middle; margin-left: 0.5rem\">PERSON</span>\n",
       "</mark>\n",
       " with \n",
       "<mark class=\"entity\" style=\"background: #aa9cfc; padding: 0.45em 0.6em; margin: 0 0.25em; line-height: 1; border-radius: 0.35em; box-decoration-break: clone; -webkit-box-decoration-break: clone\">\n",
       "    Maui Moisture\n",
       "    <span style=\"font-size: 0.8em; font-weight: bold; line-height: 1; border-radius: 0.35em; text-transform: uppercase; vertical-align: middle; margin-left: 0.5rem\">PERSON</span>\n",
       "</mark>\n",
       " conditioner, the hydration one in a blue bottle. \n",
       "<mark class=\"entity\" style=\"background: #aa9cfc; padding: 0.45em 0.6em; margin: 0 0.25em; line-height: 1; border-radius: 0.35em; box-decoration-break: clone; -webkit-box-decoration-break: clone\">\n",
       "    \n",
       "\n",
       "\n",
       "\n",
       "    <span style=\"font-size: 0.8em; font-weight: bold; line-height: 1; border-radius: 0.35em; text-transform: uppercase; vertical-align: middle; margin-left: 0.5rem\">PERSON</span>\n",
       "</mark>\n",
       ", \n",
       "<mark class=\"entity\" style=\"background: linear-gradient(90deg, #aa9cfc, #fc9ce7); padding: 0.45em 0.6em; margin: 0 0.25em; line-height: 1; border-radius: 0.35em; box-decoration-break: clone; -webkit-box-decoration-break: clone\">\n",
       "    Shea Moisture\n",
       "    <span style=\"font-size: 0.8em; font-weight: bold; line-height: 1; border-radius: 0.35em; text-transform: uppercase; vertical-align: middle; margin-left: 0.5rem\">ORG</span>\n",
       "</mark>\n",
       " curl defining cream in coconut and hibiscus, French braid and go to bed. \n",
       "<mark class=\"entity\" style=\"background: #aa9cfc; padding: 0.45em 0.6em; margin: 0 0.25em; line-height: 1; border-radius: 0.35em; box-decoration-break: clone; -webkit-box-decoration-break: clone\">\n",
       "    \n",
       "\n",
       "\n",
       "\n",
       "    <span style=\"font-size: 0.8em; font-weight: bold; line-height: 1; border-radius: 0.35em; text-transform: uppercase; vertical-align: middle; margin-left: 0.5rem\">PERSON</span>\n",
       "</mark>\n",
       ", Wake up, take out braids, soak hair in the sink., Scrunch with enough \n",
       "<mark class=\"entity\" style=\"background: linear-gradient(90deg, #aa9cfc, #fc9ce7); padding: 0.45em 0.6em; margin: 0 0.25em; line-height: 1; border-radius: 0.35em; box-decoration-break: clone; -webkit-box-decoration-break: clone\">\n",
       "    LA Looks\n",
       "    <span style=\"font-size: 0.8em; font-weight: bold; line-height: 1; border-radius: 0.35em; text-transform: uppercase; vertical-align: middle; margin-left: 0.5rem\">ORG</span>\n",
       "</mark>\n",
       " sport gel to kill a man, and plop for 20 minuets., After plop, scrunch with microfiber towel and air dry. \n",
       "<mark class=\"entity\" style=\"background: #aa9cfc; padding: 0.45em 0.6em; margin: 0 0.25em; line-height: 1; border-radius: 0.35em; box-decoration-break: clone; -webkit-box-decoration-break: clone\">\n",
       "    \n",
       "\n",
       "\n",
       "\n",
       "    <span style=\"font-size: 0.8em; font-weight: bold; line-height: 1; border-radius: 0.35em; text-transform: uppercase; vertical-align: middle; margin-left: 0.5rem\">PERSON</span>\n",
       "</mark>\n",
       ", My reset wash is tea tree oil shampoo!]</div>"
      ],
      "text/plain": [
       "<IPython.core.display.HTML object>"
      ]
     },
     "metadata": {},
     "output_type": "display_data"
    },
    {
     "data": {
      "text/html": [
       "<div class=\"entities\" style=\"line-height: 2.5\">[Routine (breaks a few CG rules...)</br></br>-wash with small amount of L’Oréal curly shampoo\n",
       "-condition with tresseme, leave in for 10ish minutes\n",
       "-comb with conditioner in hair with wire tooth comb\n",
       "-S2C\n",
       ", -apply Cantu curl defining cream immediately after shower like scrunching \n",
       ", -plop 10 minutes \n",
       ", -Air dry!]</div>"
      ],
      "text/plain": [
       "<IPython.core.display.HTML object>"
      ]
     },
     "metadata": {},
     "output_type": "display_data"
    },
    {
     "data": {
      "text/html": [
       "<div class=\"entities\" style=\"line-height: 2.5\">[Following the CG method would help you reduce frizz and improve curl definition, there's a great [beginner's routine and guide](https://www.reddit.com/r/curlyhair/comments/8klm9t/new_curlies_start_here/) in this sub, there is also an [infographic \n",
       "<mark class=\"entity\" style=\"background: linear-gradient(90deg, #aa9cfc, #fc9ce7); padding: 0.45em 0.6em; margin: 0 0.25em; line-height: 1; border-radius: 0.35em; box-decoration-break: clone; -webkit-box-decoration-break: clone\">\n",
       "    version!](https://i.imgur.com\n",
       "    <span style=\"font-size: 0.8em; font-weight: bold; line-height: 1; border-radius: 0.35em; text-transform: uppercase; vertical-align: middle; margin-left: 0.5rem\">ORG</span>\n",
       "</mark>\n",
       "/FA7kPST.png), This means you would have to ditch the Perfecte Krul and look for products that contain no sulphates, silicones etc (you check this by pasting the ingredient list in the [Curlsbot](https://www.curlsbot.com)). \n",
       "<mark class=\"entity\" style=\"background: linear-gradient(90deg, #aa9cfc, #fc9ce7); padding: 0.45em 0.6em; margin: 0 0.25em; line-height: 1; border-radius: 0.35em; box-decoration-break: clone; -webkit-box-decoration-break: clone\">\n",
       "      \n",
       "\n",
       "    <span style=\"font-size: 0.8em; font-weight: bold; line-height: 1; border-radius: 0.35em; text-transform: uppercase; vertical-align: middle; margin-left: 0.5rem\">ORG</span>\n",
       "</mark>\n",
       ", Blow drying with a diffuser attachment on low speed and low/medium heat is a good idea if you'd like to speed up the drying process.\n",
       "\n",
       ", There are plenty of techniques and curly hair care tips out there, so it's easy to get overwhelmed if you're just starting out!]</div>"
      ],
      "text/plain": [
       "<IPython.core.display.HTML object>"
      ]
     },
     "metadata": {},
     "output_type": "display_data"
    },
    {
     "data": {
      "text/html": [
       "<div class=\"entities\" style=\"line-height: 2.5\">[Are you using conditioner?  , if not, that's probably the first step.  , And then either mousse or gel to add definition.  , Don't worry if your hair gets 'crunchy' after putting in your products, you will scrunch that out once it's dry!]</div>"
      ],
      "text/plain": [
       "<IPython.core.display.HTML object>"
      ]
     },
     "metadata": {},
     "output_type": "display_data"
    },
    {
     "data": {
      "text/html": [
       "<div class=\"entities\" style=\"line-height: 2.5\">[I really only wash it every few days and put in this stuff: https://www.internetdrogisterij.nl/p/andrelon-creme-perfecte-krul-200ml-856434.html?gclid=Cj0KCQiA7briBRD7ARIsABhX8aC9x5PbjTObVebyr2yOERYc5FW4N6A8tZ55jYFOnS7oZAUvn3gRtEAaAgKaEALw_wcB</br></br>Would blow drying be any good?, I'd like to increase my curl definition and not have it be so fluffy all the time., I'm of Guyanese descent, if it matters.]</div>"
      ],
      "text/plain": [
       "<IPython.core.display.HTML object>"
      ]
     },
     "metadata": {},
     "output_type": "display_data"
    },
    {
     "data": {
      "text/html": [
       "<div class=\"entities\" style=\"line-height: 2.5\">[I used Selsun blue anti dandruff for my clarifying wash., it has sulfates but no silicones, and has been working for my dandruff. </br></br>, I bought a silicon hair scrub for co-washing and to remove dirt and oil from my scalp., it really helps, instead of just using my fingers to scrub my scalp. </br></br>, I used shea moisture coconut and hibiscus conditioner for day 2's co-wash and conditioning and day 3's co-wash, and l'oreal botanicals camellina masque for day 3's conditioning. </br></br>, hope you can see the difference in my curls in my dark hair!, and hopefully my hair stays like this tmr morning after my sleep!]</div>"
      ],
      "text/plain": [
       "<IPython.core.display.HTML object>"
      ]
     },
     "metadata": {},
     "output_type": "display_data"
    },
    {
     "name": "stderr",
     "output_type": "stream",
     "text": [
      "/Users/tozturk/anaconda3/lib/python3.6/runpy.py:193: UserWarning: [W006] No entities to visualize found in Doc object. If this is surprising to you, make sure the Doc was processed using a model that supports named entity recognition, and check the `doc.ents` property manually if necessary.\n",
      "  \"__main__\", mod_spec)\n"
     ]
    },
    {
     "data": {
      "text/html": [
       "<div class=\"entities\" style=\"line-height: 2.5\">[I don’t really have advice for the straight pieces as I have similar issues, but would be concerned that longterm your hair will sustain damage from not conditioning and using a harsh shampoo., Have you tried some of the lighter conditioners?]</div>"
      ],
      "text/plain": [
       "<IPython.core.display.HTML object>"
      ]
     },
     "metadata": {},
     "output_type": "display_data"
    },
    {
     "data": {
      "text/html": [
       "<div class=\"entities\" style=\"line-height: 2.5\">[Routine:, Aveda blue malva shampoo as clarifying shampoo (left over from the bleach blonde era)</br></br>, No conditioner because it kills my curls\n",
       "<mark class=\"entity\" style=\"background: #aa9cfc; padding: 0.45em 0.6em; margin: 0 0.25em; line-height: 1; border-radius: 0.35em; box-decoration-break: clone; -webkit-box-decoration-break: clone\">\n",
       "    \n",
       "\n",
       "Jessie's\n",
       "    <span style=\"font-size: 0.8em; font-weight: bold; line-height: 1; border-radius: 0.35em; text-transform: uppercase; vertical-align: middle; margin-left: 0.5rem\">PERSON</span>\n",
       "</mark>\n",
       " multicultural curls\n",
       "<mark class=\"entity\" style=\"background: #aa9cfc; padding: 0.45em 0.6em; margin: 0 0.25em; line-height: 1; border-radius: 0.35em; box-decoration-break: clone; -webkit-box-decoration-break: clone\">\n",
       "    \n",
       "\n",
       "Sea\n",
       "    <span style=\"font-size: 0.8em; font-weight: bold; line-height: 1; border-radius: 0.35em; text-transform: uppercase; vertical-align: middle; margin-left: 0.5rem\">PERSON</span>\n",
       "</mark>\n",
       " salt volumizing spray\n",
       "<mark class=\"entity\" style=\"background: linear-gradient(90deg, #aa9cfc, #fc9ce7); padding: 0.45em 0.6em; margin: 0 0.25em; line-height: 1; border-radius: 0.35em; box-decoration-break: clone; -webkit-box-decoration-break: clone\">\n",
       "    \n",
       "\n",
       "Diffuse\n",
       "\n",
       "&\n",
       "    <span style=\"font-size: 0.8em; font-weight: bold; line-height: 1; border-radius: 0.35em; text-transform: uppercase; vertical-align: middle; margin-left: 0.5rem\">ORG</span>\n",
       "</mark>\n",
       "#x200B;\n",
       "<mark class=\"entity\" style=\"background: #aa9cfc; padding: 0.45em 0.6em; margin: 0 0.25em; line-height: 1; border-radius: 0.35em; box-decoration-break: clone; -webkit-box-decoration-break: clone\">\n",
       "    \n",
       "\n",
       "Grown\n",
       "    <span style=\"font-size: 0.8em; font-weight: bold; line-height: 1; border-radius: 0.35em; text-transform: uppercase; vertical-align: middle; margin-left: 0.5rem\">PERSON</span>\n",
       "</mark>\n",
       " out from a buzzcut and currently a hot mess]</div>"
      ],
      "text/plain": [
       "<IPython.core.display.HTML object>"
      ]
     },
     "metadata": {},
     "output_type": "display_data"
    },
    {
     "data": {
      "text/html": [
       "<div class=\"entities\" style=\"line-height: 2.5\">[Routine: wash and condition weekly with \n",
       "<mark class=\"entity\" style=\"background: #aa9cfc; padding: 0.45em 0.6em; margin: 0 0.25em; line-height: 1; border-radius: 0.35em; box-decoration-break: clone; -webkit-box-decoration-break: clone\">\n",
       "    Aussie\n",
       "    <span style=\"font-size: 0.8em; font-weight: bold; line-height: 1; border-radius: 0.35em; text-transform: uppercase; vertical-align: middle; margin-left: 0.5rem\">PERSON</span>\n",
       "</mark>\n",
       " moist, deep condition with tgin honey hair mask, leave in is Mielle pomegranate and honey leave in, I oil my hair with a mix of castor and olive oil, then seal it with \n",
       "<mark class=\"entity\" style=\"background: linear-gradient(90deg, #aa9cfc, #fc9ce7); padding: 0.45em 0.6em; margin: 0 0.25em; line-height: 1; border-radius: 0.35em; box-decoration-break: clone; -webkit-box-decoration-break: clone\">\n",
       "    Shea\n",
       "    <span style=\"font-size: 0.8em; font-weight: bold; line-height: 1; border-radius: 0.35em; text-transform: uppercase; vertical-align: middle; margin-left: 0.5rem\">ORG</span>\n",
       "</mark>\n",
       " butter]</div>"
      ],
      "text/plain": [
       "<IPython.core.display.HTML object>"
      ]
     },
     "metadata": {},
     "output_type": "display_data"
    },
    {
     "data": {
      "text/html": [
       "<div class=\"entities\" style=\"line-height: 2.5\">[Hi everyone this is my first \n",
       "<mark class=\"entity\" style=\"background: linear-gradient(90deg, #aa9cfc, #fc9ce7); padding: 0.45em 0.6em; margin: 0 0.25em; line-height: 1; border-radius: 0.35em; box-decoration-break: clone; -webkit-box-decoration-break: clone\">\n",
       "    Reddit\n",
       "    <span style=\"font-size: 0.8em; font-weight: bold; line-height: 1; border-radius: 0.35em; text-transform: uppercase; vertical-align: middle; margin-left: 0.5rem\">ORG</span>\n",
       "</mark>\n",
       " post., I have been using \n",
       "<mark class=\"entity\" style=\"background: linear-gradient(90deg, #aa9cfc, #fc9ce7); padding: 0.45em 0.6em; margin: 0 0.25em; line-height: 1; border-radius: 0.35em; box-decoration-break: clone; -webkit-box-decoration-break: clone\">\n",
       "    the CGM for a couple of weeks\n",
       "    <span style=\"font-size: 0.8em; font-weight: bold; line-height: 1; border-radius: 0.35em; text-transform: uppercase; vertical-align: middle; margin-left: 0.5rem\">ORG</span>\n",
       "</mark>\n",
       " now., My hair always looks nice the first two days or so, but this is what happens by the 3rd day., It’s really flat and greasy looking on top. </br></br>, I have been only using conditioner and the recommended blue LA looks gel., With a watered down gel spray as a refresh., I cowash my hair at night and then after using product on soaked hair use 3 large clips to put my hair up overnight., Then in the morning I only need to diffuse for about 5 minutes.  , I used to always use hairspray but have stopped. </br></br>, Can anyone offer me any help or tips to help?, I am also curious to know what curl type I have., Thanks in advance! \n",
       "]</div>"
      ],
      "text/plain": [
       "<IPython.core.display.HTML object>"
      ]
     },
     "metadata": {},
     "output_type": "display_data"
    },
    {
     "data": {
      "text/html": [
       "<div class=\"entities\" style=\"line-height: 2.5\">[Oh funny, I was going to say the opposite!, Some of the finer haired or looser curl types can get overloaded with moisturizing product., I do a light sudsy shampoo once a week with \n",
       "<mark class=\"entity\" style=\"background: linear-gradient(90deg, #aa9cfc, #fc9ce7); padding: 0.45em 0.6em; margin: 0 0.25em; line-height: 1; border-radius: 0.35em; box-decoration-break: clone; -webkit-box-decoration-break: clone\">\n",
       "    Giovanni 50/50\n",
       "    <span style=\"font-size: 0.8em; font-weight: bold; line-height: 1; border-radius: 0.35em; text-transform: uppercase; vertical-align: middle; margin-left: 0.5rem\">ORG</span>\n",
       "</mark>\n",
       ", and I don’t co-wash., Instead I just give my hair a water rinse and squish in some leave in conditioner., Hope you find something that works!]</div>"
      ],
      "text/plain": [
       "<IPython.core.display.HTML object>"
      ]
     },
     "metadata": {},
     "output_type": "display_data"
    },
    {
     "data": {
      "text/html": [
       "<div class=\"entities\" style=\"line-height: 2.5\">[saw a post like this on instagram and i had to try it out! </br></br>, \n",
       "<mark class=\"entity\" style=\"background: linear-gradient(90deg, #aa9cfc, #fc9ce7); padding: 0.45em 0.6em; margin: 0 0.25em; line-height: 1; border-radius: 0.35em; box-decoration-break: clone; -webkit-box-decoration-break: clone\">\n",
       "    FULL\n",
       "    <span style=\"font-size: 0.8em; font-weight: bold; line-height: 1; border-radius: 0.35em; text-transform: uppercase; vertical-align: middle; margin-left: 0.5rem\">ORG</span>\n",
       "</mark>\n",
       " routine as follows: </br></br>wash- cowash with tresemme undone waves, condition with the same.  </br>, detangle in shower with wide tooth comb, squish to condish</br></br>style- apply garnier 1 min mask with praying hands, comb thru, scrunch  </br>apply \n",
       "<mark class=\"entity\" style=\"background: linear-gradient(90deg, #aa9cfc, #fc9ce7); padding: 0.45em 0.6em; margin: 0 0.25em; line-height: 1; border-radius: 0.35em; box-decoration-break: clone; -webkit-box-decoration-break: clone\">\n",
       "    DC b’leave\n",
       "    <span style=\"font-size: 0.8em; font-weight: bold; line-height: 1; border-radius: 0.35em; text-transform: uppercase; vertical-align: middle; margin-left: 0.5rem\">ORG</span>\n",
       "</mark>\n",
       " in with praying hands, scrunch  </br>apply ouidad heat & humidity gel with praying hands, scrunch  </br>apply curls blueberry bliss gel with praying hands, scrunch  </br>then i scrunch for something like 7-10 mins per side., it helps to watch youtube videos while i do this to pass the time😂</br></br>ill usually let it air dry for 10-15 min,  </br>scrunch with tshirt \n",
       "<mark class=\"entity\" style=\"background: linear-gradient(90deg, #aa9cfc, #fc9ce7); padding: 0.45em 0.6em; margin: 0 0.25em; line-height: 1; border-radius: 0.35em; box-decoration-break: clone; -webkit-box-decoration-break: clone\">\n",
       "      \n",
       "\n",
       "    <span style=\"font-size: 0.8em; font-weight: bold; line-height: 1; border-radius: 0.35em; text-transform: uppercase; vertical-align: middle; margin-left: 0.5rem\">ORG</span>\n",
       "</mark>\n",
       "low power, low heat diffuse \n",
       "<mark class=\"entity\" style=\"background: linear-gradient(90deg, #aa9cfc, #fc9ce7); padding: 0.45em 0.6em; margin: 0 0.25em; line-height: 1; border-radius: 0.35em; box-decoration-break: clone; -webkit-box-decoration-break: clone\">\n",
       "       \n",
       "&\n",
       "    <span style=\"font-size: 0.8em; font-weight: bold; line-height: 1; border-radius: 0.35em; text-transform: uppercase; vertical-align: middle; margin-left: 0.5rem\">ORG</span>\n",
       "</mark>\n",
       " finish off with pantene air spray hold #2]</div>"
      ],
      "text/plain": [
       "<IPython.core.display.HTML object>"
      ]
     },
     "metadata": {},
     "output_type": "display_data"
    },
    {
     "data": {
      "text/html": [
       "<div class=\"entities\" style=\"line-height: 2.5\">[A silk scarf seems like it would better serve its purpose on dry hair, I personally don’t see it having any benefit on wet hair., Someone tell me if I’m wrong!, But the microfiber towel seems good, anything should work as long as it’s not something abrasive like terry cloth \n",
       "<mark class=\"entity\" style=\"background: #aa9cfc; padding: 0.45em 0.6em; margin: 0 0.25em; line-height: 1; border-radius: 0.35em; box-decoration-break: clone; -webkit-box-decoration-break: clone\">\n",
       "    😊\n",
       "    <span style=\"font-size: 0.8em; font-weight: bold; line-height: 1; border-radius: 0.35em; text-transform: uppercase; vertical-align: middle; margin-left: 0.5rem\">PERSON</span>\n",
       "</mark>\n",
       " is there a reason why you prefer not to use a t-shirt?]</div>"
      ],
      "text/plain": [
       "<IPython.core.display.HTML object>"
      ]
     },
     "metadata": {},
     "output_type": "display_data"
    },
    {
     "data": {
      "text/html": [
       "<div class=\"entities\" style=\"line-height: 2.5\">[I just started plopping to dry my curls a week ago - so far I think I like it!, Still trial-and-error-ing right now, but I'd agree that 20ish minutes in a very soft t-shirt is accurate., I have a tshirt that's like a super soft stretchy cotton and it works., Have also tried \"Turbie Twist\" towels (microfiber) and they're fine but not the same.]</div>"
      ],
      "text/plain": [
       "<IPython.core.display.HTML object>"
      ]
     },
     "metadata": {},
     "output_type": "display_data"
    },
    {
     "name": "stderr",
     "output_type": "stream",
     "text": [
      "/Users/tozturk/anaconda3/lib/python3.6/runpy.py:193: UserWarning: [W006] No entities to visualize found in Doc object. If this is surprising to you, make sure the Doc was processed using a model that supports named entity recognition, and check the `doc.ents` property manually if necessary.\n",
      "  \"__main__\", mod_spec)\n"
     ]
    },
    {
     "data": {
      "text/html": [
       "<div class=\"entities\" style=\"line-height: 2.5\">[your hair looks totally beautiful and girl it gets better!, maybe if you’re not seeing the results that you want then the products just aren’t for your hair!]</div>"
      ],
      "text/plain": [
       "<IPython.core.display.HTML object>"
      ]
     },
     "metadata": {},
     "output_type": "display_data"
    },
    {
     "data": {
      "text/html": [
       "<div class=\"entities\" style=\"line-height: 2.5\">[Washed with As I Am conditioner, plopped, scrunched in some gel and diffused., My issue is that although my hair is kinky and VERY frizzy this isn't translating into nice defined waves with \n",
       "<mark class=\"entity\" style=\"background: linear-gradient(90deg, #aa9cfc, #fc9ce7); padding: 0.45em 0.6em; margin: 0 0.25em; line-height: 1; border-radius: 0.35em; box-decoration-break: clone; -webkit-box-decoration-break: clone\">\n",
       "    CGM\n",
       "    <span style=\"font-size: 0.8em; font-weight: bold; line-height: 1; border-radius: 0.35em; text-transform: uppercase; vertical-align: middle; margin-left: 0.5rem\">ORG</span>\n",
       "</mark>\n",
       "., Maybe I'm using the wrong gel?]</div>"
      ],
      "text/plain": [
       "<IPython.core.display.HTML object>"
      ]
     },
     "metadata": {},
     "output_type": "display_data"
    },
    {
     "data": {
      "text/html": [
       "<div class=\"entities\" style=\"line-height: 2.5\">[There is nothing magic about Deva products., In fact, they don't work for everyone., I know when I get a Deva cut I can't wait to get home and wash the products out of my hair. </br></br>, \n",
       "<mark class=\"entity\" style=\"background: linear-gradient(90deg, #aa9cfc, #fc9ce7); padding: 0.45em 0.6em; margin: 0 0.25em; line-height: 1; border-radius: 0.35em; box-decoration-break: clone; -webkit-box-decoration-break: clone\">\n",
       "    IMO\n",
       "    <span style=\"font-size: 0.8em; font-weight: bold; line-height: 1; border-radius: 0.35em; text-transform: uppercase; vertical-align: middle; margin-left: 0.5rem\">ORG</span>\n",
       "</mark>\n",
       " it's more important to really understand your hair's characteristics (porosity is key) and what it likes and doesn't like and find the products that fit it., The easiest way to do that is to start cheap and minimal.]</div>"
      ],
      "text/plain": [
       "<IPython.core.display.HTML object>"
      ]
     },
     "metadata": {},
     "output_type": "display_data"
    },
    {
     "data": {
      "text/html": [
       "<div class=\"entities\" style=\"line-height: 2.5\">[If you want to try some Deva products, \n",
       "<mark class=\"entity\" style=\"background: #aa9cfc; padding: 0.45em 0.6em; margin: 0 0.25em; line-height: 1; border-radius: 0.35em; box-decoration-break: clone; -webkit-box-decoration-break: clone\">\n",
       "    Ulta\n",
       "    <span style=\"font-size: 0.8em; font-weight: bold; line-height: 1; border-radius: 0.35em; text-transform: uppercase; vertical-align: middle; margin-left: 0.5rem\">PERSON</span>\n",
       "</mark>\n",
       " carries the small sizes., Maybe try two or three and see what you like!]</div>"
      ],
      "text/plain": [
       "<IPython.core.display.HTML object>"
      ]
     },
     "metadata": {},
     "output_type": "display_data"
    },
    {
     "data": {
      "text/html": [
       "<div class=\"entities\" style=\"line-height: 2.5\">[I’m wondering the same thing; is it worth it to buy DevaCurl?]</div>"
      ],
      "text/plain": [
       "<IPython.core.display.HTML object>"
      ]
     },
     "metadata": {},
     "output_type": "display_data"
    },
    {
     "name": "stderr",
     "output_type": "stream",
     "text": [
      "/Users/tozturk/anaconda3/lib/python3.6/runpy.py:193: UserWarning: [W006] No entities to visualize found in Doc object. If this is surprising to you, make sure the Doc was processed using a model that supports named entity recognition, and check the `doc.ents` property manually if necessary.\n",
      "  \"__main__\", mod_spec)\n"
     ]
    },
    {
     "data": {
      "text/html": [
       "<div class=\"entities\" style=\"line-height: 2.5\">[As a senior in nursing school, I have really let my curls go., I’m using the cheapest products I can find and my poor curls (pun intended) are really starting to suffer., I’m ready to pamper them!]</div>"
      ],
      "text/plain": [
       "<IPython.core.display.HTML object>"
      ]
     },
     "metadata": {},
     "output_type": "display_data"
    },
    {
     "data": {
      "text/html": [
       "<div class=\"entities\" style=\"line-height: 2.5\">[I've noticed that if I go to bed with wet hair that I can wake up with some waves/slight curls, but it's mostly the hair at the back of my head., About 6 or 7 years ago I was able to get great waves/curls with cheap gel and a diffuser but now that just makes a frizzy mess., Is there any hope for getting nice hair again?, In this picture I had just woken up and showered the night before (did a co-wash for the first time..., thinking I may have done it wrong because my roots looked super greasy this morning)., Thanks in advance for the help!]</div>"
      ],
      "text/plain": [
       "<IPython.core.display.HTML object>"
      ]
     },
     "metadata": {},
     "output_type": "display_data"
    },
    {
     "data": {
      "text/html": [
       "<div class=\"entities\" style=\"line-height: 2.5\">[Let me add this first:, Yes, I went for quite a chop in between, too!, Definitely adds to it!</br></br>, Routine:</br>, \n",
       "<mark class=\"entity\" style=\"background: #aa9cfc; padding: 0.45em 0.6em; margin: 0 0.25em; line-height: 1; border-radius: 0.35em; box-decoration-break: clone; -webkit-box-decoration-break: clone\">\n",
       "    Wash\n",
       "    <span style=\"font-size: 0.8em; font-weight: bold; line-height: 1; border-radius: 0.35em; text-transform: uppercase; vertical-align: middle; margin-left: 0.5rem\">PERSON</span>\n",
       "</mark>\n",
       " with Nature Box Avocado Oil Shampoo, condition with \n",
       "<mark class=\"entity\" style=\"background: #bfeeb7; padding: 0.45em 0.6em; margin: 0 0.25em; line-height: 1; border-radius: 0.35em; box-decoration-break: clone; -webkit-box-decoration-break: clone\">\n",
       "    Alverde Sensitiv Spülung Bio-Echinacea Bio-Jojoba\n",
       "    <span style=\"font-size: 0.8em; font-weight: bold; line-height: 1; border-radius: 0.35em; text-transform: uppercase; vertical-align: middle; margin-left: 0.5rem\">PRODUCT</span>\n",
       "</mark>\n",
       "., \n",
       "<mark class=\"entity\" style=\"background: linear-gradient(90deg, #aa9cfc, #fc9ce7); padding: 0.45em 0.6em; margin: 0 0.25em; line-height: 1; border-radius: 0.35em; box-decoration-break: clone; -webkit-box-decoration-break: clone\">\n",
       "    Detangle\n",
       "    <span style=\"font-size: 0.8em; font-weight: bold; line-height: 1; border-radius: 0.35em; text-transform: uppercase; vertical-align: middle; margin-left: 0.5rem\">ORG</span>\n",
       "</mark>\n",
       " with fingers, use wide-tooth, non-static comb if necessary., Flip hair over, rinse and detangle again.</br></br>, Squish out a little water with bare hands, apply fridge-free flaxseed gel, (I use the one from the blog justtryingtomom and love it, , I make it with \n",
       "<mark class=\"entity\" style=\"background: #bfeeb7; padding: 0.45em 0.6em; margin: 0 0.25em; line-height: 1; border-radius: 0.35em; box-decoration-break: clone; -webkit-box-decoration-break: clone\">\n",
       "    Alverde Styling Gel Bio-Lotusblüte Bio-Violetter Reis\n",
       "    <span style=\"font-size: 0.8em; font-weight: bold; line-height: 1; border-radius: 0.35em; text-transform: uppercase; vertical-align: middle; margin-left: 0.5rem\">PRODUCT</span>\n",
       "</mark>\n",
       ") and immediately plop with a microfiber towel for 30-45 mins., Let air dry and \n",
       "<mark class=\"entity\" style=\"background: linear-gradient(90deg, #aa9cfc, #fc9ce7); padding: 0.45em 0.6em; margin: 0 0.25em; line-height: 1; border-radius: 0.35em; box-decoration-break: clone; -webkit-box-decoration-break: clone\">\n",
       "    SOTC\n",
       "    <span style=\"font-size: 0.8em; font-weight: bold; line-height: 1; border-radius: 0.35em; text-transform: uppercase; vertical-align: middle; margin-left: 0.5rem\">ORG</span>\n",
       "</mark>\n",
       " when fully dry.]</div>"
      ],
      "text/plain": [
       "<IPython.core.display.HTML object>"
      ]
     },
     "metadata": {},
     "output_type": "display_data"
    },
    {
     "data": {
      "text/html": [
       "<div class=\"entities\" style=\"line-height: 2.5\">[I brush my hair out with a wide tooth comb before showering, wet the hair with cool water, cowash with tresemme expert botanique with coconut milk and aloe vera, rinse with cold water., Then I squeeze the excess water out with my hands., I put in about half a teaspoon of cantu coconut curling cream as my leave in starting from the ends of my hair and working it to just at the root., Then I use the same comb as before showering to get out any tangles and to part my hair., Then I separate my bangs and blow dry and straighten them., Then I use about a tablespoon of family dollars version of the \n",
       "<mark class=\"entity\" style=\"background: linear-gradient(90deg, #aa9cfc, #fc9ce7); padding: 0.45em 0.6em; margin: 0 0.25em; line-height: 1; border-radius: 0.35em; box-decoration-break: clone; -webkit-box-decoration-break: clone\">\n",
       "    Xtreme\n",
       "    <span style=\"font-size: 0.8em; font-weight: bold; line-height: 1; border-radius: 0.35em; text-transform: uppercase; vertical-align: middle; margin-left: 0.5rem\">ORG</span>\n",
       "</mark>\n",
       " sport gel., I scrunch my hair from the ends up to my roots using my hands, then I let it air dry., I am so excited that my hair is looking so much better since starting this routine!, I only \"wash\" my hair twice a week, same as before starting with CG approved products.]</div>"
      ],
      "text/plain": [
       "<IPython.core.display.HTML object>"
      ]
     },
     "metadata": {},
     "output_type": "display_data"
    },
    {
     "data": {
      "text/html": [
       "<div class=\"entities\" style=\"line-height: 2.5\">[I use both a curl cream and gel in cooler months. \n",
       "<mark class=\"entity\" style=\"background: linear-gradient(90deg, #aa9cfc, #fc9ce7); padding: 0.45em 0.6em; margin: 0 0.25em; line-height: 1; border-radius: 0.35em; box-decoration-break: clone; -webkit-box-decoration-break: clone\">\n",
       "     \n",
       "    <span style=\"font-size: 0.8em; font-weight: bold; line-height: 1; border-radius: 0.35em; text-transform: uppercase; vertical-align: middle; margin-left: 0.5rem\">ORG</span>\n",
       "</mark>\n",
       ", In summer just gel.    , Find the curl cream too heavy in the summer and not effective.  , I have been wanting to try a mousse but have not yet.]</div>"
      ],
      "text/plain": [
       "<IPython.core.display.HTML object>"
      ]
     },
     "metadata": {},
     "output_type": "display_data"
    },
    {
     "data": {
      "text/html": [
       "<div class=\"entities\" style=\"line-height: 2.5\">[I use both., I use the cantu coconut curling creme for hydration and a bit of hold., And the gel for defining  and hold.]</div>"
      ],
      "text/plain": [
       "<IPython.core.display.HTML object>"
      ]
     },
     "metadata": {},
     "output_type": "display_data"
    },
    {
     "data": {
      "text/html": [
       "<div class=\"entities\" style=\"line-height: 2.5\">[Routine:\n",
       "-cowash with \n",
       "<mark class=\"entity\" style=\"background: linear-gradient(90deg, #aa9cfc, #fc9ce7); padding: 0.45em 0.6em; margin: 0 0.25em; line-height: 1; border-radius: 0.35em; box-decoration-break: clone; -webkit-box-decoration-break: clone\">\n",
       "    Tresemme Botanique\n",
       "    <span style=\"font-size: 0.8em; font-weight: bold; line-height: 1; border-radius: 0.35em; text-transform: uppercase; vertical-align: middle; margin-left: 0.5rem\">ORG</span>\n",
       "</mark>\n",
       ", comb with wide tooth comb, S2C\n",
       "-rinse out as much conditioner as possible\n",
       "-squeeze out enough water, so it's not dripping, squeeze out a bit more with cotton t-shirt\n",
       "-apply light/medium amounts of \n",
       "<mark class=\"entity\" style=\"background: linear-gradient(90deg, #aa9cfc, #fc9ce7); padding: 0.45em 0.6em; margin: 0 0.25em; line-height: 1; border-radius: 0.35em; box-decoration-break: clone; -webkit-box-decoration-break: clone\">\n",
       "    Shea Moisture Strengthen & Restore\n",
       "    <span style=\"font-size: 0.8em; font-weight: bold; line-height: 1; border-radius: 0.35em; text-transform: uppercase; vertical-align: middle; margin-left: 0.5rem\">ORG</span>\n",
       "</mark>\n",
       ", Leave-In (amount usually depends on how the humidity is that day) by raking and then prayer hands\n",
       "-rake in a light amount of \n",
       "<mark class=\"entity\" style=\"background: linear-gradient(90deg, #aa9cfc, #fc9ce7); padding: 0.45em 0.6em; margin: 0 0.25em; line-height: 1; border-radius: 0.35em; box-decoration-break: clone; -webkit-box-decoration-break: clone\">\n",
       "    KCCC\n",
       "    <span style=\"font-size: 0.8em; font-weight: bold; line-height: 1; border-radius: 0.35em; text-transform: uppercase; vertical-align: middle; margin-left: 0.5rem\">ORG</span>\n",
       "</mark>\n",
       " while head is upside-down, flip back up, let hair decide where my side part will be that day\n",
       ", -finger style some of the curls that don't want to cooperate\n",
       ", -airdry, \n",
       "<mark class=\"entity\" style=\"background: linear-gradient(90deg, #aa9cfc, #fc9ce7); padding: 0.45em 0.6em; margin: 0 0.25em; line-height: 1; border-radius: 0.35em; box-decoration-break: clone; -webkit-box-decoration-break: clone\">\n",
       "    SOTC\n",
       "    <span style=\"font-size: 0.8em; font-weight: bold; line-height: 1; border-radius: 0.35em; text-transform: uppercase; vertical-align: middle; margin-left: 0.5rem\">ORG</span>\n",
       "</mark>\n",
       " once it is mostly dry\n",
       ", \n",
       "<mark class=\"entity\" style=\"background: linear-gradient(90deg, #aa9cfc, #fc9ce7); padding: 0.45em 0.6em; margin: 0 0.25em; line-height: 1; border-radius: 0.35em; box-decoration-break: clone; -webkit-box-decoration-break: clone\">\n",
       "    -get\n",
       "    <span style=\"font-size: 0.8em; font-weight: bold; line-height: 1; border-radius: 0.35em; text-transform: uppercase; vertical-align: middle; margin-left: 0.5rem\">ORG</span>\n",
       "</mark>\n",
       " compliments daily, 😏\n",
       "\n",
       ", I have been having \n",
       "<mark class=\"entity\" style=\"background: linear-gradient(90deg, #aa9cfc, #fc9ce7); padding: 0.45em 0.6em; margin: 0 0.25em; line-height: 1; border-radius: 0.35em; box-decoration-break: clone; -webkit-box-decoration-break: clone\">\n",
       "    HUGE\n",
       "    <span style=\"font-size: 0.8em; font-weight: bold; line-height: 1; border-radius: 0.35em; text-transform: uppercase; vertical-align: middle; margin-left: 0.5rem\">ORG</span>\n",
       "</mark>\n",
       " issues with the \n",
       "<mark class=\"entity\" style=\"background: #aa9cfc; padding: 0.45em 0.6em; margin: 0 0.25em; line-height: 1; border-radius: 0.35em; box-decoration-break: clone; -webkit-box-decoration-break: clone\">\n",
       "    LA Looks\n",
       "    <span style=\"font-size: 0.8em; font-weight: bold; line-height: 1; border-radius: 0.35em; text-transform: uppercase; vertical-align: middle; margin-left: 0.5rem\">PERSON</span>\n",
       "</mark>\n",
       " gel and just thought I was doing all the wrong things., I was plopping my hair but kept getting frizz so I cut that out., My hair is curly enough as it is, plopping made them turn into shrinky-dink curls that had frizz., I needed none of that! </br></br>, I'm still working on trying to get my curls to clump just a touch more without turning into huge tendrils, but this is such an improvement already!\n",
       "<mark class=\"entity\" style=\"background: #aa9cfc; padding: 0.45em 0.6em; margin: 0 0.25em; line-height: 1; border-radius: 0.35em; box-decoration-break: clone; -webkit-box-decoration-break: clone\">\n",
       "    \n",
       "\n",
       "\n",
       "\n",
       "    <span style=\"font-size: 0.8em; font-weight: bold; line-height: 1; border-radius: 0.35em; text-transform: uppercase; vertical-align: middle; margin-left: 0.5rem\">PERSON</span>\n",
       "</mark>\n",
       ", Edit: damn, you mobile formatting!!!]</div>"
      ],
      "text/plain": [
       "<IPython.core.display.HTML object>"
      ]
     },
     "metadata": {},
     "output_type": "display_data"
    },
    {
     "data": {
      "text/html": [
       "<div class=\"entities\" style=\"line-height: 2.5\">[I have protein sensitive hair. </br></br>, My stats: \n",
       "\n",
       "<mark class=\"entity\" style=\"background: #aa9cfc; padding: 0.45em 0.6em; margin: 0 0.25em; line-height: 1; border-radius: 0.35em; box-decoration-break: clone; -webkit-box-decoration-break: clone\">\n",
       "    Latina \n",
       "\n",
       "    <span style=\"font-size: 0.8em; font-weight: bold; line-height: 1; border-radius: 0.35em; text-transform: uppercase; vertical-align: middle; margin-left: 0.5rem\">PERSON</span>\n",
       "</mark>\n",
       ", \n",
       "<mark class=\"entity\" style=\"background: linear-gradient(90deg, #aa9cfc, #fc9ce7); padding: 0.45em 0.6em; margin: 0 0.25em; line-height: 1; border-radius: 0.35em; box-decoration-break: clone; -webkit-box-decoration-break: clone\">\n",
       "    Curls\n",
       "    <span style=\"font-size: 0.8em; font-weight: bold; line-height: 1; border-radius: 0.35em; text-transform: uppercase; vertical-align: middle; margin-left: 0.5rem\">ORG</span>\n",
       "</mark>\n",
       " are 3b when wet or moist \n",
       ", After air drying in Bantu knots and brushing, my hair is 2b/2c\n",
       "<mark class=\"entity\" style=\"background: linear-gradient(90deg, #aa9cfc, #fc9ce7); padding: 0.45em 0.6em; margin: 0 0.25em; line-height: 1; border-radius: 0.35em; box-decoration-break: clone; -webkit-box-decoration-break: clone\">\n",
       "    \n",
       "Hair\n",
       "    <span style=\"font-size: 0.8em; font-weight: bold; line-height: 1; border-radius: 0.35em; text-transform: uppercase; vertical-align: middle; margin-left: 0.5rem\">ORG</span>\n",
       "</mark>\n",
       " strand texture is mixed between straight strands and brittle “bumpy” strands\n",
       "\n",
       "How my hair reacts to protein: \n",
       ", Products with keratin make my hair dry or don’t have an effect at all (depends on concentration of keratin) </br></br>Products with “silk” protein: \n",
       "<mark class=\"entity\" style=\"background: linear-gradient(90deg, #aa9cfc, #fc9ce7); padding: 0.45em 0.6em; margin: 0 0.25em; line-height: 1; border-radius: 0.35em; box-decoration-break: clone; -webkit-box-decoration-break: clone\">\n",
       "    \n",
       "Products\n",
       "    <span style=\"font-size: 0.8em; font-weight: bold; line-height: 1; border-radius: 0.35em; text-transform: uppercase; vertical-align: middle; margin-left: 0.5rem\">ORG</span>\n",
       "</mark>\n",
       " with this protein make my hair extra frizzy</br></br>All in all being protein sensitive just means the added protein will dry out your hair., If you use a protein product on your daughters hair and is she protein sensitive, the worst that will happen is that she will have a really bad hair day!, \n",
       "<mark class=\"entity\" style=\"background: #aa9cfc; padding: 0.45em 0.6em; margin: 0 0.25em; line-height: 1; border-radius: 0.35em; box-decoration-break: clone; -webkit-box-decoration-break: clone\">\n",
       "    Lol\n",
       "\n",
       "\n",
       "    <span style=\"font-size: 0.8em; font-weight: bold; line-height: 1; border-radius: 0.35em; text-transform: uppercase; vertical-align: middle; margin-left: 0.5rem\">PERSON</span>\n",
       "</mark>\n",
       "Also watch out for coconut oil!, A lot of protein sensitive people also say coconut oil doesn’t agree with them., Personally coconut oil makes my hair and skin dry.]</div>"
      ],
      "text/plain": [
       "<IPython.core.display.HTML object>"
      ]
     },
     "metadata": {},
     "output_type": "display_data"
    },
    {
     "data": {
      "text/html": [
       "<div class=\"entities\" style=\"line-height: 2.5\">[Routine:, \n",
       "<mark class=\"entity\" style=\"background: linear-gradient(90deg, #aa9cfc, #fc9ce7); padding: 0.45em 0.6em; margin: 0 0.25em; line-height: 1; border-radius: 0.35em; box-decoration-break: clone; -webkit-box-decoration-break: clone\">\n",
       "    Shampoo\n",
       "    <span style=\"font-size: 0.8em; font-weight: bold; line-height: 1; border-radius: 0.35em; text-transform: uppercase; vertical-align: middle; margin-left: 0.5rem\">ORG</span>\n",
       "</mark>\n",
       " once a week, co wash every 3 days, mist in water mixed with a small amount of conditioner in the mornings occasionally adding Cantu curl cream.]</div>"
      ],
      "text/plain": [
       "<IPython.core.display.HTML object>"
      ]
     },
     "metadata": {},
     "output_type": "display_data"
    },
    {
     "data": {
      "text/html": [
       "<div class=\"entities\" style=\"line-height: 2.5\">[I feel like my hair maybe comes out better when not applying gel to sopping wet hair., I'm still experimenting, but I think I may get more coverage when it's been squeezed/scrunched out a bit first., Although the more I do that, the more I seem to invite frizz.]</div>"
      ],
      "text/plain": [
       "<IPython.core.display.HTML object>"
      ]
     },
     "metadata": {},
     "output_type": "display_data"
    },
    {
     "name": "stderr",
     "output_type": "stream",
     "text": [
      "/Users/tozturk/anaconda3/lib/python3.6/runpy.py:193: UserWarning: [W006] No entities to visualize found in Doc object. If this is surprising to you, make sure the Doc was processed using a model that supports named entity recognition, and check the `doc.ents` property manually if necessary.\n",
      "  \"__main__\", mod_spec)\n"
     ]
    },
    {
     "data": {
      "text/html": [
       "<div class=\"entities\" style=\"line-height: 2.5\">[Squeezing out some water before applying gel is pretty common for low porosity folks, so go ahead and try it!  ]</div>"
      ],
      "text/plain": [
       "<IPython.core.display.HTML object>"
      ]
     },
     "metadata": {},
     "output_type": "display_data"
    },
    {
     "data": {
      "text/html": [
       "<div class=\"entities\" style=\"line-height: 2.5\">[This is my problem right now too., I have put gel in wet and damp but somehow not in every section., I put gel in my dry hair today to compensate but I’m guessing that’s why there’s white dandruff looking flakes comping from my ends., \n",
       "<mark class=\"entity\" style=\"background: linear-gradient(90deg, #aa9cfc, #fc9ce7); padding: 0.45em 0.6em; margin: 0 0.25em; line-height: 1; border-radius: 0.35em; box-decoration-break: clone; -webkit-box-decoration-break: clone\">\n",
       "    IDK\n",
       "    <span style=\"font-size: 0.8em; font-weight: bold; line-height: 1; border-radius: 0.35em; text-transform: uppercase; vertical-align: middle; margin-left: 0.5rem\">ORG</span>\n",
       "</mark>\n",
       ", will be following to see what people say though.]</div>"
      ],
      "text/plain": [
       "<IPython.core.display.HTML object>"
      ]
     },
     "metadata": {},
     "output_type": "display_data"
    },
    {
     "data": {
      "text/html": [
       "<div class=\"entities\" style=\"line-height: 2.5\">[I wanted to try CG to get some extra volume, and help keep my hair from flattening down by the roots without causing too much damage from blow drying every day., Also my hair was feeling dry, and would get greasy after a day, so my curls would only last 24 hours., I like the added volume so far, but am not sure about the texture??, I wasn't able to crunch out cleanly and prefer the natural shape/texture of my natural spirals more., This is my first time using gel. \n",
       "<mark class=\"entity\" style=\"background: #aa9cfc; padding: 0.45em 0.6em; margin: 0 0.25em; line-height: 1; border-radius: 0.35em; box-decoration-break: clone; -webkit-box-decoration-break: clone\">\n",
       "      \n",
       "\n",
       "\n",
       "\n",
       "    <span style=\"font-size: 0.8em; font-weight: bold; line-height: 1; border-radius: 0.35em; text-transform: uppercase; vertical-align: middle; margin-left: 0.5rem\">PERSON</span>\n",
       "</mark>\n",
       ", Routine, Day 1:  </br>Suave, \n",
       "<mark class=\"entity\" style=\"background: #aa9cfc; padding: 0.45em 0.6em; margin: 0 0.25em; line-height: 1; border-radius: 0.35em; box-decoration-break: clone; -webkit-box-decoration-break: clone\">\n",
       "    Clarifying Shampoo\n",
       "    <span style=\"font-size: 0.8em; font-weight: bold; line-height: 1; border-radius: 0.35em; text-transform: uppercase; vertical-align: middle; margin-left: 0.5rem\">PERSON</span>\n",
       "</mark>\n",
       " wash,  As \n",
       "<mark class=\"entity\" style=\"background: #bfeeb7; padding: 0.45em 0.6em; margin: 0 0.25em; line-height: 1; border-radius: 0.35em; box-decoration-break: clone; -webkit-box-decoration-break: clone\">\n",
       "    I Am Coconut Cowash\n",
       "    <span style=\"font-size: 0.8em; font-weight: bold; line-height: 1; border-radius: 0.35em; text-transform: uppercase; vertical-align: middle; margin-left: 0.5rem\">PRODUCT</span>\n",
       "</mark>\n",
       ", and then I conditioned with the same again and let it set., Rinsed out 80%, and then plopped for about 15 minutes once out of the shower., \n",
       "<mark class=\"entity\" style=\"background: linear-gradient(90deg, #aa9cfc, #fc9ce7); padding: 0.45em 0.6em; margin: 0 0.25em; line-height: 1; border-radius: 0.35em; box-decoration-break: clone; -webkit-box-decoration-break: clone\">\n",
       "    Tried the LA Extreme Sports  Gel\n",
       "    <span style=\"font-size: 0.8em; font-weight: bold; line-height: 1; border-radius: 0.35em; text-transform: uppercase; vertical-align: middle; margin-left: 0.5rem\">ORG</span>\n",
       "</mark>\n",
       " (ahhh, nervous about noodle hair), then diffused on low until mostly dry., Let air dry for the rest., Didn't end up scrunching out until lunch to be SURE it was totally dry.   </br></br></br>, So far I am happy with the volume (especially with a center part, but not keep on the texture yet)., With try for a few more days, but might want to use a styling mouse instead of the gel?, Not sure what my hair texture is, and if that might be better.]</div>"
      ],
      "text/plain": [
       "<IPython.core.display.HTML object>"
      ]
     },
     "metadata": {},
     "output_type": "display_data"
    },
    {
     "data": {
      "text/html": [
       "<div class=\"entities\" style=\"line-height: 2.5\">[i haven't used it personally, but I think it supposed to be light to medium hold.  , If your hair is easily weighed down, you could try using a mousse by itself.  , Innersense foam, I \n",
       "<mark class=\"entity\" style=\"background: linear-gradient(90deg, #aa9cfc, #fc9ce7); padding: 0.45em 0.6em; margin: 0 0.25em; line-height: 1; border-radius: 0.35em; box-decoration-break: clone; -webkit-box-decoration-break: clone\">\n",
       "    Create Lift\n",
       "    <span style=\"font-size: 0.8em; font-weight: bold; line-height: 1; border-radius: 0.35em; text-transform: uppercase; vertical-align: middle; margin-left: 0.5rem\">ORG</span>\n",
       "</mark>\n",
       " is a good high end one, but you could go for \n",
       "<mark class=\"entity\" style=\"background: #aa9cfc; padding: 0.45em 0.6em; margin: 0 0.25em; line-height: 1; border-radius: 0.35em; box-decoration-break: clone; -webkit-box-decoration-break: clone\">\n",
       "    Pantene Curls\n",
       "    <span style=\"font-size: 0.8em; font-weight: bold; line-height: 1; border-radius: 0.35em; text-transform: uppercase; vertical-align: middle; margin-left: 0.5rem\">PERSON</span>\n",
       "</mark>\n",
       " or herbal essences totally twisted mousse too.  , You have to be a little more generous with mouse to get better hold, but it's a nice light product that won't weigh you down.    \n",
       "\n",
       "\n",
       ", The nice thing about the flax seed gel is you can make it yourself and it's cheap, so make it, try it., if it's not good at least you're only out a few bucks.]</div>"
      ],
      "text/plain": [
       "<IPython.core.display.HTML object>"
      ]
     },
     "metadata": {},
     "output_type": "display_data"
    },
    {
     "name": "stderr",
     "output_type": "stream",
     "text": [
      "/Users/tozturk/anaconda3/lib/python3.6/runpy.py:193: UserWarning: [W006] No entities to visualize found in Doc object. If this is surprising to you, make sure the Doc was processed using a model that supports named entity recognition, and check the `doc.ents` property manually if necessary.\n",
      "  \"__main__\", mod_spec)\n"
     ]
    },
    {
     "data": {
      "text/html": [
       "<div class=\"entities\" style=\"line-height: 2.5\">[Finding out your porosity will help you determine which products are too heavy for your hair., Curl type really doesn't matter., Porosity makes the biggest difference! 😊]</div>"
      ],
      "text/plain": [
       "<IPython.core.display.HTML object>"
      ]
     },
     "metadata": {},
     "output_type": "display_data"
    },
    {
     "data": {
      "text/html": [
       "<div class=\"entities\" style=\"line-height: 2.5\">[Today I washed with shea moisture for low porosity., Conditioned with shea moisture fir low porosity, quick rinse, flip upside down and add more conditioner and squish to condish., Rinse upside down but kept pumping/squishing., Today I tried miss jessie's jelly soft curls., \n",
       "<mark class=\"entity\" style=\"background: #aa9cfc; padding: 0.45em 0.6em; margin: 0 0.25em; line-height: 1; border-radius: 0.35em; box-decoration-break: clone; -webkit-box-decoration-break: clone\">\n",
       "    Plopped\n",
       "    <span style=\"font-size: 0.8em; font-weight: bold; line-height: 1; border-radius: 0.35em; text-transform: uppercase; vertical-align: middle; margin-left: 0.5rem\">PERSON</span>\n",
       "</mark>\n",
       " for 15 min., Diffused for 5 min or so.</br></br>, I get the same results with devacurl low poo, one condition and light defining gel., With la looks blue gel.  , There's a step or a product I'm missing and I need help figuring it out....</br></br>, I've tried cowash and it hasnt worked...yet.  , plus I often have to use a solution on my scalp at night for serious itchiness so its good to wash it out in the morning.\n",
       "]</div>"
      ],
      "text/plain": [
       "<IPython.core.display.HTML object>"
      ]
     },
     "metadata": {},
     "output_type": "display_data"
    },
    {
     "data": {
      "text/html": [
       "<div class=\"entities\" style=\"line-height: 2.5\">[I'm only on day 2 of the CG method, but my hair is already so frizzy again!, It was great the first day, but I'm not sure why my hair is so dry/ frizzy.\n",
       "\n",
       ", Routine:, I cleansed and then conditioned with the recommended tresemme conditioner., Then I scrunched in heaps of hair gel into my wet hair., Dried with a cotton tshirt.]</div>"
      ],
      "text/plain": [
       "<IPython.core.display.HTML object>"
      ]
     },
     "metadata": {},
     "output_type": "display_data"
    },
    {
     "data": {
      "text/html": [
       "<div class=\"entities\" style=\"line-height: 2.5\">[So first off, diffuse on cool or warm and you should be fine!, If it's not too hot for your skin, it's probably not too hot for your hair (so if warm is a little too warm for your hands or head, do cool.), Second, the ingredient in heat protectants that protects your hair is silicones, I've yet to hear of any other ingredient that can effectively protect the hair from heat damage., I diffuse pretty frequently on warm or cool and I haven't noticed any problems at all., I hope this helps!]</div>"
      ],
      "text/plain": [
       "<IPython.core.display.HTML object>"
      ]
     },
     "metadata": {},
     "output_type": "display_data"
    },
    {
     "data": {
      "text/html": [
       "<div class=\"entities\" style=\"line-height: 2.5\">[I dealt with some degree of pyramid for most of my life until I started getting Deva cuts. \", Regular\" hairstylists just don't get it, and even if they say they do, they still cut it exactly the same way they'd cut straight hair., Curl by curl cutting is the only way to go, \n",
       "<mark class=\"entity\" style=\"background: linear-gradient(90deg, #aa9cfc, #fc9ce7); padding: 0.45em 0.6em; margin: 0 0.25em; line-height: 1; border-radius: 0.35em; box-decoration-break: clone; -webkit-box-decoration-break: clone\">\n",
       "    IMO\n",
       "    <span style=\"font-size: 0.8em; font-weight: bold; line-height: 1; border-radius: 0.35em; text-transform: uppercase; vertical-align: middle; margin-left: 0.5rem\">ORG</span>\n",
       "</mark>\n",
       ". </br></br>, If you're brave, I know a lot of people have had success cutting their own with the unicorn method on \n",
       "<mark class=\"entity\" style=\"background: linear-gradient(90deg, #aa9cfc, #fc9ce7); padding: 0.45em 0.6em; margin: 0 0.25em; line-height: 1; border-radius: 0.35em; box-decoration-break: clone; -webkit-box-decoration-break: clone\">\n",
       "    YouTube\n",
       "    <span style=\"font-size: 0.8em; font-weight: bold; line-height: 1; border-radius: 0.35em; text-transform: uppercase; vertical-align: middle; margin-left: 0.5rem\">ORG</span>\n",
       "</mark>\n",
       ".]</div>"
      ],
      "text/plain": [
       "<IPython.core.display.HTML object>"
      ]
     },
     "metadata": {},
     "output_type": "display_data"
    },
    {
     "data": {
      "text/html": [
       "<div class=\"entities\" style=\"line-height: 2.5\">[Routine </br></br></br>-Wash once a week with \n",
       "<mark class=\"entity\" style=\"background: linear-gradient(90deg, #aa9cfc, #fc9ce7); padding: 0.45em 0.6em; margin: 0 0.25em; line-height: 1; border-radius: 0.35em; box-decoration-break: clone; -webkit-box-decoration-break: clone\">\n",
       "    Shea\n",
       "    <span style=\"font-size: 0.8em; font-weight: bold; line-height: 1; border-radius: 0.35em; text-transform: uppercase; vertical-align: middle; margin-left: 0.5rem\">ORG</span>\n",
       "</mark>\n",
       " moisture shampoo, otherwise conditioner only when i shower.\n",
       "<mark class=\"entity\" style=\"background: #aa9cfc; padding: 0.45em 0.6em; margin: 0 0.25em; line-height: 1; border-radius: 0.35em; box-decoration-break: clone; -webkit-box-decoration-break: clone\">\n",
       "    \n",
       "\n",
       "\n",
       "\n",
       "    <span style=\"font-size: 0.8em; font-weight: bold; line-height: 1; border-radius: 0.35em; text-transform: uppercase; vertical-align: middle; margin-left: 0.5rem\">PERSON</span>\n",
       "</mark>\n",
       "-Then soak with matching shea moisture conditioner while finishing up in the shower, (I'm currently rotating through all the different sets to see what works best, i have wicked dandruff \n",
       "<mark class=\"entity\" style=\"background: #aa9cfc; padding: 0.45em 0.6em; margin: 0 0.25em; line-height: 1; border-radius: 0.35em; box-decoration-break: clone; -webkit-box-decoration-break: clone\">\n",
       "    😥\n",
       "    <span style=\"font-size: 0.8em; font-weight: bold; line-height: 1; border-radius: 0.35em; text-transform: uppercase; vertical-align: middle; margin-left: 0.5rem\">PERSON</span>\n",
       "</mark>\n",
       "!) </br></br>, -squeeze/scrunch out excess water-rake/praying hands/scrunch in \n",
       "<mark class=\"entity\" style=\"background: linear-gradient(90deg, #aa9cfc, #fc9ce7); padding: 0.45em 0.6em; margin: 0 0.25em; line-height: 1; border-radius: 0.35em; box-decoration-break: clone; -webkit-box-decoration-break: clone\">\n",
       "    Design Essentials Natural Curl Enhancing Mousse(3\n",
       "    <span style=\"font-size: 0.8em; font-weight: bold; line-height: 1; border-radius: 0.35em; text-transform: uppercase; vertical-align: middle; margin-left: 0.5rem\">ORG</span>\n",
       "</mark>\n",
       " pumps) mixed with a dollop of \n",
       "<mark class=\"entity\" style=\"background: #aa9cfc; padding: 0.45em 0.6em; margin: 0 0.25em; line-height: 1; border-radius: 0.35em; box-decoration-break: clone; -webkit-box-decoration-break: clone\">\n",
       "    Eco Argan\n",
       "    <span style=\"font-size: 0.8em; font-weight: bold; line-height: 1; border-radius: 0.35em; text-transform: uppercase; vertical-align: middle; margin-left: 0.5rem\">PERSON</span>\n",
       "</mark>\n",
       " oil \n",
       "<mark class=\"entity\" style=\"background: #aa9cfc; padding: 0.45em 0.6em; margin: 0 0.25em; line-height: 1; border-radius: 0.35em; box-decoration-break: clone; -webkit-box-decoration-break: clone\">\n",
       "    Gel\n",
       "\n",
       "\n",
       "\n",
       "    <span style=\"font-size: 0.8em; font-weight: bold; line-height: 1; border-radius: 0.35em; text-transform: uppercase; vertical-align: middle; margin-left: 0.5rem\">PERSON</span>\n",
       "</mark>\n",
       "-plop until just hardly damp in a Jersey tshirt</br></br></br></br>-seal with amika blowout spray, occasionally diffuse with \n",
       "<mark class=\"entity\" style=\"background: linear-gradient(90deg, #aa9cfc, #fc9ce7); padding: 0.45em 0.6em; margin: 0 0.25em; line-height: 1; border-radius: 0.35em; box-decoration-break: clone; -webkit-box-decoration-break: clone\">\n",
       "    The Curly Co.\n",
       "    <span style=\"font-size: 0.8em; font-weight: bold; line-height: 1; border-radius: 0.35em; text-transform: uppercase; vertical-align: middle; margin-left: 0.5rem\">ORG</span>\n",
       "</mark>\n",
       " Diffuser but most often i air dry</br></br>-To revitalize second,  third, ect day hair; rehydrate and deflatten with a diluted sea salt hair spray using a misting spray bottle and scrunching\n",
       "]</div>"
      ],
      "text/plain": [
       "<IPython.core.display.HTML object>"
      ]
     },
     "metadata": {},
     "output_type": "display_data"
    },
    {
     "data": {
      "text/html": [
       "<div class=\"entities\" style=\"line-height: 2.5\">[The part that isn't getting a cast might not be getting as much gel as the rest., Although if you're happy with the hold after \n",
       "<mark class=\"entity\" style=\"background: linear-gradient(90deg, #aa9cfc, #fc9ce7); padding: 0.45em 0.6em; margin: 0 0.25em; line-height: 1; border-radius: 0.35em; box-decoration-break: clone; -webkit-box-decoration-break: clone\">\n",
       "    SOTC\n",
       "    <span style=\"font-size: 0.8em; font-weight: bold; line-height: 1; border-radius: 0.35em; text-transform: uppercase; vertical-align: middle; margin-left: 0.5rem\">ORG</span>\n",
       "</mark>\n",
       " etc, then I wouldn't worry about it., If it gets frizzier than the rest, try a different application technique \n",
       "\n",
       "I used to struggle to get even gel coverage, I started applying it in sections a little at a time, moving my head into different positions and pulsing it in., That seems to help.]</div>"
      ],
      "text/plain": [
       "<IPython.core.display.HTML object>"
      ]
     },
     "metadata": {},
     "output_type": "display_data"
    },
    {
     "data": {
      "text/html": [
       "<div class=\"entities\" style=\"line-height: 2.5\">[according to the [holy grail list](https://docs.google.com/document/d/1Dlc52yoWdMo4p7RWcVERJS_Lo5NSeDCtV2gWyTBllAw/edit), both those gels contain a water-soluble silicone (it's up to you whether you consider that acceptable)., in the future, you can put ingredients lists through [curlsbot](https://www.curlsbot.com/) and/or [\n",
       "<mark class=\"entity\" style=\"background: linear-gradient(90deg, #aa9cfc, #fc9ce7); padding: 0.45em 0.6em; margin: 0 0.25em; line-height: 1; border-radius: 0.35em; box-decoration-break: clone; -webkit-box-decoration-break: clone\">\n",
       "    isitcg](http://www.isitcg.com/\n",
       "    <span style=\"font-size: 0.8em; font-weight: bold; line-height: 1; border-radius: 0.35em; text-transform: uppercase; vertical-align: middle; margin-left: 0.5rem\">ORG</span>\n",
       "</mark>\n",
       ") and they will tell you whether it's CG approved!\n",
       "\n",
       "however, i've personally never used them so i have no idea if they are any good]</div>"
      ],
      "text/plain": [
       "<IPython.core.display.HTML object>"
      ]
     },
     "metadata": {},
     "output_type": "display_data"
    },
    {
     "data": {
      "text/html": [
       "<div class=\"entities\" style=\"line-height: 2.5\">[I use totally twisted gel to embrace my natural curls., It’s not amazing for the “apply a gallon to your head, diffuse, and sotc” method, as it is lighter and not as extreme as others., It really brings out my natural thin curls when I let it air dry.]</div>"
      ],
      "text/plain": [
       "<IPython.core.display.HTML object>"
      ]
     },
     "metadata": {},
     "output_type": "display_data"
    },
    {
     "data": {
      "text/html": [
       "<div class=\"entities\" style=\"line-height: 2.5\">[First week of really embracing my natural hair... so still trying to get down a routine that works, but here's what I did!</br></br>\\- Shampoo that has \n",
       "<mark class=\"entity\" style=\"background: linear-gradient(90deg, #aa9cfc, #fc9ce7); padding: 0.45em 0.6em; margin: 0 0.25em; line-height: 1; border-radius: 0.35em; box-decoration-break: clone; -webkit-box-decoration-break: clone\">\n",
       "    ALS\n",
       "    <span style=\"font-size: 0.8em; font-weight: bold; line-height: 1; border-radius: 0.35em; text-transform: uppercase; vertical-align: middle; margin-left: 0.5rem\">ORG</span>\n",
       "</mark>\n",
       " which I know is not totally CG, but has been good for my hair for clarifying (\n",
       "<mark class=\"entity\" style=\"background: #aa9cfc; padding: 0.45em 0.6em; margin: 0 0.25em; line-height: 1; border-radius: 0.35em; box-decoration-break: clone; -webkit-box-decoration-break: clone\">\n",
       "    Blousey\n",
       "    <span style=\"font-size: 0.8em; font-weight: bold; line-height: 1; border-radius: 0.35em; text-transform: uppercase; vertical-align: middle; margin-left: 0.5rem\">PERSON</span>\n",
       "</mark>\n",
       " by \n",
       "<mark class=\"entity\" style=\"background: #aa9cfc; padding: 0.45em 0.6em; margin: 0 0.25em; line-height: 1; border-radius: 0.35em; box-decoration-break: clone; -webkit-box-decoration-break: clone\">\n",
       "    Lush\n",
       "    <span style=\"font-size: 0.8em; font-weight: bold; line-height: 1; border-radius: 0.35em; text-transform: uppercase; vertical-align: middle; margin-left: 0.5rem\">PERSON</span>\n",
       "</mark>\n",
       ")  </br>\\- Squish to condish with \n",
       "<mark class=\"entity\" style=\"background: #bfeeb7; padding: 0.45em 0.6em; margin: 0 0.25em; line-height: 1; border-radius: 0.35em; box-decoration-break: clone; -webkit-box-decoration-break: clone\">\n",
       "    Garnier Fructic\n",
       "    <span style=\"font-size: 0.8em; font-weight: bold; line-height: 1; border-radius: 0.35em; text-transform: uppercase; vertical-align: middle; margin-left: 0.5rem\">PRODUCT</span>\n",
       "</mark>\n",
       " \n",
       "<mark class=\"entity\" style=\"background: linear-gradient(90deg, #aa9cfc, #fc9ce7); padding: 0.45em 0.6em; margin: 0 0.25em; line-height: 1; border-radius: 0.35em; box-decoration-break: clone; -webkit-box-decoration-break: clone\">\n",
       "    HydraPurify\n",
       "    <span style=\"font-size: 0.8em; font-weight: bold; line-height: 1; border-radius: 0.35em; text-transform: uppercase; vertical-align: middle; margin-left: 0.5rem\">ORG</span>\n",
       "</mark>\n",
       " (silicone free)</br></br>\\- Hair moisturizer - R&B (\n",
       "<mark class=\"entity\" style=\"background: #aa9cfc; padding: 0.45em 0.6em; margin: 0 0.25em; line-height: 1; border-radius: 0.35em; box-decoration-break: clone; -webkit-box-decoration-break: clone\">\n",
       "    Lush\n",
       "    <span style=\"font-size: 0.8em; font-weight: bold; line-height: 1; border-radius: 0.35em; text-transform: uppercase; vertical-align: middle; margin-left: 0.5rem\">PERSON</span>\n",
       "</mark>\n",
       ") for my ends, and \n",
       "<mark class=\"entity\" style=\"background: linear-gradient(90deg, #aa9cfc, #fc9ce7); padding: 0.45em 0.6em; margin: 0 0.25em; line-height: 1; border-radius: 0.35em; box-decoration-break: clone; -webkit-box-decoration-break: clone\">\n",
       "    Hair Custard\n",
       "    <span style=\"font-size: 0.8em; font-weight: bold; line-height: 1; border-radius: 0.35em; text-transform: uppercase; vertical-align: middle; margin-left: 0.5rem\">ORG</span>\n",
       "</mark>\n",
       " (\n",
       "<mark class=\"entity\" style=\"background: #aa9cfc; padding: 0.45em 0.6em; margin: 0 0.25em; line-height: 1; border-radius: 0.35em; box-decoration-break: clone; -webkit-box-decoration-break: clone\">\n",
       "    Lush\n",
       "    <span style=\"font-size: 0.8em; font-weight: bold; line-height: 1; border-radius: 0.35em; text-transform: uppercase; vertical-align: middle; margin-left: 0.5rem\">PERSON</span>\n",
       "</mark>\n",
       ") scrunched in.</br></br>\\- Today was the first day I plopped - about an hour, and what a difference!</br></br>, \n",
       "<mark class=\"entity\" style=\"background: linear-gradient(90deg, #aa9cfc, #fc9ce7); padding: 0.45em 0.6em; margin: 0 0.25em; line-height: 1; border-radius: 0.35em; box-decoration-break: clone; -webkit-box-decoration-break: clone\">\n",
       "    Next\n",
       "    <span style=\"font-size: 0.8em; font-weight: bold; line-height: 1; border-radius: 0.35em; text-transform: uppercase; vertical-align: middle; margin-left: 0.5rem\">ORG</span>\n",
       "</mark>\n",
       " I'm going to experiment with gels, as with the above the waves/curls don't super last. \n",
       "<mark class=\"entity\" style=\"background: linear-gradient(90deg, #aa9cfc, #fc9ce7); padding: 0.45em 0.6em; margin: 0 0.25em; line-height: 1; border-radius: 0.35em; box-decoration-break: clone; -webkit-box-decoration-break: clone\">\n",
       "    \n",
       "\n",
       ", &#x200B\n",
       "    <span style=\"font-size: 0.8em; font-weight: bold; line-height: 1; border-radius: 0.35em; text-transform: uppercase; vertical-align: middle; margin-left: 0.5rem\">ORG</span>\n",
       "</mark>\n",
       ";</br></br>My hair is also quite thin- as you can see in the second photo with the back of my head, and is also quite evident in my \"before\" photo... this is due to an autoimmune condition, and is definitely something I've been struggling with, so I'm hopeful with healthier hair, , it'll make a difference :)</br></br>, [before hair](https://imgur.com/a/\n",
       "<mark class=\"entity\" style=\"background: #aa9cfc; padding: 0.45em 0.6em; margin: 0 0.25em; line-height: 1; border-radius: 0.35em; box-decoration-break: clone; -webkit-box-decoration-break: clone\">\n",
       "    PXf9GWH\n",
       "    <span style=\"font-size: 0.8em; font-weight: bold; line-height: 1; border-radius: 0.35em; text-transform: uppercase; vertical-align: middle; margin-left: 0.5rem\">PERSON</span>\n",
       "</mark>\n",
       ")]</div>"
      ],
      "text/plain": [
       "<IPython.core.display.HTML object>"
      ]
     },
     "metadata": {},
     "output_type": "display_data"
    },
    {
     "data": {
      "text/html": [
       "<div class=\"entities\" style=\"line-height: 2.5\">[Do you oil your scalp at all?, I try to massage oil into my scalp and roots at least once every few days.]</div>"
      ],
      "text/plain": [
       "<IPython.core.display.HTML object>"
      ]
     },
     "metadata": {},
     "output_type": "display_data"
    },
    {
     "data": {
      "text/html": [
       "<div class=\"entities\" style=\"line-height: 2.5\">[I’m using the products from the quick start routine, VO5 to clarify (and wash build up every couple of weeks, co-poo with tresseme, and blue la looks gels)., I co-poo every 2-3 days upside down and squish to condish., While still in the shower with soaking wet hair, I squish in Eden Bodyworks coconut \n",
       "<mark class=\"entity\" style=\"background: #aa9cfc; padding: 0.45em 0.6em; margin: 0 0.25em; line-height: 1; border-radius: 0.35em; box-decoration-break: clone; -webkit-box-decoration-break: clone\">\n",
       "    Shea\n",
       "    <span style=\"font-size: 0.8em; font-weight: bold; line-height: 1; border-radius: 0.35em; text-transform: uppercase; vertical-align: middle; margin-left: 0.5rem\">PERSON</span>\n",
       "</mark>\n",
       " leave-in conditioner, (bought it on markdown, but it is CG friendly) and, the gel., I plop for about 15-30 minutes in a t-shirt and then diffuse until about 80-90% dry., Once it’s fully dry, I scrunch out the crunch.]</div>"
      ],
      "text/plain": [
       "<IPython.core.display.HTML object>"
      ]
     },
     "metadata": {},
     "output_type": "display_data"
    },
    {
     "data": {
      "text/html": [
       "<div class=\"entities\" style=\"line-height: 2.5\">[I was so excited to try \n",
       "<mark class=\"entity\" style=\"background: linear-gradient(90deg, #aa9cfc, #fc9ce7); padding: 0.45em 0.6em; margin: 0 0.25em; line-height: 1; border-radius: 0.35em; box-decoration-break: clone; -webkit-box-decoration-break: clone\">\n",
       "    the LUS Love Ur Curls\n",
       "    <span style=\"font-size: 0.8em; font-weight: bold; line-height: 1; border-radius: 0.35em; text-transform: uppercase; vertical-align: middle; margin-left: 0.5rem\">ORG</span>\n",
       "</mark>\n",
       " products!, I followed the instructions exactly, used the shampoo and conditioner in the shower and rinsed it all out., I applied the Curly All in One styler in sections with a squirt bottle of water, as the company demonstrates online., Then I let air dry.</br></br>, I was VERY happy with the results..., At first., But as you can see, 4 hours later I had lost pretty much all of it., I didn't even go outside or do anything strenuous!, I didn't lay down or smush it, either.\n",
       "\n",
       ", Any ideas on what I could do to KEEP the results in my \"before\" picture?]</div>"
      ],
      "text/plain": [
       "<IPython.core.display.HTML object>"
      ]
     },
     "metadata": {},
     "output_type": "display_data"
    },
    {
     "name": "stderr",
     "output_type": "stream",
     "text": [
      "/Users/tozturk/anaconda3/lib/python3.6/runpy.py:193: UserWarning: [W006] No entities to visualize found in Doc object. If this is surprising to you, make sure the Doc was processed using a model that supports named entity recognition, and check the `doc.ents` property manually if necessary.\n",
      "  \"__main__\", mod_spec)\n"
     ]
    },
    {
     "data": {
      "text/html": [
       "<div class=\"entities\" style=\"line-height: 2.5\">[Maybe add a gel on top?]</div>"
      ],
      "text/plain": [
       "<IPython.core.display.HTML object>"
      ]
     },
     "metadata": {},
     "output_type": "display_data"
    },
    {
     "data": {
      "text/html": [
       "<div class=\"entities\" style=\"line-height: 2.5\">[Do you have fine hair by any chance?, The same thing happens to me no matter what I use and even if I later products., My hair is super fine and within hours it just drops the curl., I’m currently trying to figure it out (it’s extremely frustrating)., I’m wondering if my conditioner is too heavy.]</div>"
      ],
      "text/plain": [
       "<IPython.core.display.HTML object>"
      ]
     },
     "metadata": {},
     "output_type": "display_data"
    },
    {
     "data": {
      "text/html": [
       "<div class=\"entities\" style=\"line-height: 2.5\">[I was gifted no poo for Christmas and my hair gets greasy after 2 days, when before I could go a week without getting greasy between washes., Clearly I'm going to keep using it because it's great otherwise, but what I do is mix in a bit of shea moisture shampoo to add some suds and help it lather., Still not perfect, greasy around day 4, but by then I usually am washing it anyway.]</div>"
      ],
      "text/plain": [
       "<IPython.core.display.HTML object>"
      ]
     },
     "metadata": {},
     "output_type": "display_data"
    },
    {
     "data": {
      "text/html": [
       "<div class=\"entities\" style=\"line-height: 2.5\">[Current routine: Deva curl wash and conditioner, Deva curl gel and Maui moisture curl smoothie., I usually wash in the morning and plop while I get ready for work., I’m hoping this will let me go more than my usual two days without washing!]</div>"
      ],
      "text/plain": [
       "<IPython.core.display.HTML object>"
      ]
     },
     "metadata": {},
     "output_type": "display_data"
    },
    {
     "data": {
      "text/html": [
       "<div class=\"entities\" style=\"line-height: 2.5\">[How long has it been since you switched products?, I know my curls don’t like product changes and sometimes it takes a month or so for my hair to get used to things., If I use something and my hair still doesn’t like it after a month then I determine the product isn’t for me.]</div>"
      ],
      "text/plain": [
       "<IPython.core.display.HTML object>"
      ]
     },
     "metadata": {},
     "output_type": "display_data"
    },
    {
     "data": {
      "text/html": [
       "<div class=\"entities\" style=\"line-height: 2.5\">[People on this sub often clarify once or twice a month, but after going into shea moisture products, I noticed my hair not as curly/wavy as well., I started clarifying once a week, and it helped me \n",
       "<mark class=\"entity\" style=\"background: linear-gradient(90deg, #aa9cfc, #fc9ce7); padding: 0.45em 0.6em; margin: 0 0.25em; line-height: 1; border-radius: 0.35em; box-decoration-break: clone; -webkit-box-decoration-break: clone\">\n",
       "    TREMENDOUSLY\n",
       "    <span style=\"font-size: 0.8em; font-weight: bold; line-height: 1; border-radius: 0.35em; text-transform: uppercase; vertical-align: middle; margin-left: 0.5rem\">ORG</span>\n",
       "</mark>\n",
       "., I know it’s not traditionally done that way, but you could have build up since those products are slightly heavier and it might just be build up., I clarified the first time and my hair reacted well., When it started going back to the way it was again after two washes, thought what the heck and clarified again and my hair was back to normal., Doesn’t hurt to try.]</div>"
      ],
      "text/plain": [
       "<IPython.core.display.HTML object>"
      ]
     },
     "metadata": {},
     "output_type": "display_data"
    },
    {
     "data": {
      "text/html": [
       "<div class=\"entities\" style=\"line-height: 2.5\">[Your shampoo and conditioner, and how you style have everything to do with this cat.</br></br>, \n",
       "<mark class=\"entity\" style=\"background: #aa9cfc; padding: 0.45em 0.6em; margin: 0 0.25em; line-height: 1; border-radius: 0.35em; box-decoration-break: clone; -webkit-box-decoration-break: clone\">\n",
       "    Deva Curl\n",
       "    <span style=\"font-size: 0.8em; font-weight: bold; line-height: 1; border-radius: 0.35em; text-transform: uppercase; vertical-align: middle; margin-left: 0.5rem\">PERSON</span>\n",
       "</mark>\n",
       ", no poo shampoo, and deva curl one conditioner., I only wash my hair every 4 days or so, but I use the conditioner (and leave it in) every day., I also use the styling cream, which does wonders., I also use an old t-shirt to help dry my hair., The curly girl method works for either gender, so use that.</br></br>, I started taking better care of my hair the last couple of years, and get compliments on it almost every day., The girls love the curls cat, take care of that shit.]</div>"
      ],
      "text/plain": [
       "<IPython.core.display.HTML object>"
      ]
     },
     "metadata": {},
     "output_type": "display_data"
    },
    {
     "data": {
      "text/html": [
       "<div class=\"entities\" style=\"line-height: 2.5\">[I use the Black Orchid Diffuser with a \n",
       "<mark class=\"entity\" style=\"background: linear-gradient(90deg, #aa9cfc, #fc9ce7); padding: 0.45em 0.6em; margin: 0 0.25em; line-height: 1; border-radius: 0.35em; box-decoration-break: clone; -webkit-box-decoration-break: clone\">\n",
       "    DevaDryer\n",
       "    <span style=\"font-size: 0.8em; font-weight: bold; line-height: 1; border-radius: 0.35em; text-transform: uppercase; vertical-align: middle; margin-left: 0.5rem\">ORG</span>\n",
       "</mark>\n",
       "., I did have to buy a \"\n",
       "<mark class=\"entity\" style=\"background: #aa9cfc; padding: 0.45em 0.6em; margin: 0 0.25em; line-height: 1; border-radius: 0.35em; box-decoration-break: clone; -webkit-box-decoration-break: clone\">\n",
       "    Fernco P1059\n",
       "    <span style=\"font-size: 0.8em; font-weight: bold; line-height: 1; border-radius: 0.35em; text-transform: uppercase; vertical-align: middle; margin-left: 0.5rem\">PERSON</span>\n",
       "</mark>\n",
       "-150 1 1/2 inch by 1 1/2 inch \n",
       "<mark class=\"entity\" style=\"background: #aa9cfc; padding: 0.45em 0.6em; margin: 0 0.25em; line-height: 1; border-radius: 0.35em; box-decoration-break: clone; -webkit-box-decoration-break: clone\">\n",
       "    Rubber Flexible\n",
       "    <span style=\"font-size: 0.8em; font-weight: bold; line-height: 1; border-radius: 0.35em; text-transform: uppercase; vertical-align: middle; margin-left: 0.5rem\">PERSON</span>\n",
       "</mark>\n",
       " Coupling Repair Fitting\" at \n",
       "<mark class=\"entity\" style=\"background: linear-gradient(90deg, #aa9cfc, #fc9ce7); padding: 0.45em 0.6em; margin: 0 0.25em; line-height: 1; border-radius: 0.35em; box-decoration-break: clone; -webkit-box-decoration-break: clone\">\n",
       "    Amazon\n",
       "    <span style=\"font-size: 0.8em; font-weight: bold; line-height: 1; border-radius: 0.35em; text-transform: uppercase; vertical-align: middle; margin-left: 0.5rem\">ORG</span>\n",
       "</mark>\n",
       " to get it to work., The end of the diffuser is too large without some kind of adapter.]</div>"
      ],
      "text/plain": [
       "<IPython.core.display.HTML object>"
      ]
     },
     "metadata": {},
     "output_type": "display_data"
    },
    {
     "name": "stderr",
     "output_type": "stream",
     "text": [
      "/Users/tozturk/anaconda3/lib/python3.6/runpy.py:193: UserWarning: [W006] No entities to visualize found in Doc object. If this is surprising to you, make sure the Doc was processed using a model that supports named entity recognition, and check the `doc.ents` property manually if necessary.\n",
      "  \"__main__\", mod_spec)\n"
     ]
    },
    {
     "data": {
      "text/html": [
       "<div class=\"entities\" style=\"line-height: 2.5\">[I think you'd pull off bangs!, Also I think pastel pink or silver-blue wild look super good]</div>"
      ],
      "text/plain": [
       "<IPython.core.display.HTML object>"
      ]
     },
     "metadata": {},
     "output_type": "display_data"
    },
    {
     "name": "stderr",
     "output_type": "stream",
     "text": [
      "/Users/tozturk/anaconda3/lib/python3.6/runpy.py:193: UserWarning: [W006] No entities to visualize found in Doc object. If this is surprising to you, make sure the Doc was processed using a model that supports named entity recognition, and check the `doc.ents` property manually if necessary.\n",
      "  \"__main__\", mod_spec)\n"
     ]
    },
    {
     "data": {
      "text/html": [
       "<div class=\"entities\" style=\"line-height: 2.5\">[Looks great!, And whatever styling product you put in it looks awesome too]</div>"
      ],
      "text/plain": [
       "<IPython.core.display.HTML object>"
      ]
     },
     "metadata": {},
     "output_type": "display_data"
    },
    {
     "name": "stderr",
     "output_type": "stream",
     "text": [
      "/Users/tozturk/anaconda3/lib/python3.6/runpy.py:193: UserWarning: [W006] No entities to visualize found in Doc object. If this is surprising to you, make sure the Doc was processed using a model that supports named entity recognition, and check the `doc.ents` property manually if necessary.\n",
      "  \"__main__\", mod_spec)\n"
     ]
    },
    {
     "data": {
      "text/html": [
       "<div class=\"entities\" style=\"line-height: 2.5\">[What hair product do u use]</div>"
      ],
      "text/plain": [
       "<IPython.core.display.HTML object>"
      ]
     },
     "metadata": {},
     "output_type": "display_data"
    },
    {
     "name": "stderr",
     "output_type": "stream",
     "text": [
      "/Users/tozturk/anaconda3/lib/python3.6/runpy.py:193: UserWarning: [W006] No entities to visualize found in Doc object. If this is surprising to you, make sure the Doc was processed using a model that supports named entity recognition, and check the `doc.ents` property manually if necessary.\n",
      "  \"__main__\", mod_spec)\n"
     ]
    },
    {
     "data": {
      "text/html": [
       "<div class=\"entities\" style=\"line-height: 2.5\">[It sounds like you accidentally plopped your hair., Plopping is what curly haired folks do to get intense, long lasting curl definition without frizz., It works by sort of incubating your hair in the warmth of your scalp, slowly absorbing excess water and product so that hair stays hydrated while product infuses deep into the hair strands., Women normally do this with a t-shirt or microfiber towels, but a lot of guys get great results from beanies like yours. \n",
       "\n",
       ", What's your hair texture like?, I wonder if you would benefit from the rest of the curly hair method.]</div>"
      ],
      "text/plain": [
       "<IPython.core.display.HTML object>"
      ]
     },
     "metadata": {},
     "output_type": "display_data"
    },
    {
     "name": "stderr",
     "output_type": "stream",
     "text": [
      "/Users/tozturk/anaconda3/lib/python3.6/runpy.py:193: UserWarning: [W006] No entities to visualize found in Doc object. If this is surprising to you, make sure the Doc was processed using a model that supports named entity recognition, and check the `doc.ents` property manually if necessary.\n",
      "  \"__main__\", mod_spec)\n"
     ]
    },
    {
     "data": {
      "text/html": [
       "<div class=\"entities\" style=\"line-height: 2.5\">[How necessary it is really depends on your hair type, but if you have the option always use conditioner.\n",
       "\n",
       ", I have fairly dry hair, so sometimes I'll skip shampooing and just do a thorough rinse and condition.]</div>"
      ],
      "text/plain": [
       "<IPython.core.display.HTML object>"
      ]
     },
     "metadata": {},
     "output_type": "display_data"
    },
    {
     "data": {
      "text/html": [
       "<div class=\"entities\" style=\"line-height: 2.5\">[It depends on your hair type but conditioner gives you a noticeable difference in how your hair feels and looks., A good shampoo and conditioner that’s sulfate free doesn’t have to be expensive., For example \n",
       "<mark class=\"entity\" style=\"background: linear-gradient(90deg, #aa9cfc, #fc9ce7); padding: 0.45em 0.6em; margin: 0 0.25em; line-height: 1; border-radius: 0.35em; box-decoration-break: clone; -webkit-box-decoration-break: clone\">\n",
       "    Costco\n",
       "    <span style=\"font-size: 0.8em; font-weight: bold; line-height: 1; border-radius: 0.35em; text-transform: uppercase; vertical-align: middle; margin-left: 0.5rem\">ORG</span>\n",
       "</mark>\n",
       "’s \n",
       "<mark class=\"entity\" style=\"background: linear-gradient(90deg, #aa9cfc, #fc9ce7); padding: 0.45em 0.6em; margin: 0 0.25em; line-height: 1; border-radius: 0.35em; box-decoration-break: clone; -webkit-box-decoration-break: clone\">\n",
       "    Kirkland Signature Salon\n",
       "    <span style=\"font-size: 0.8em; font-weight: bold; line-height: 1; border-radius: 0.35em; text-transform: uppercase; vertical-align: middle; margin-left: 0.5rem\">ORG</span>\n",
       "</mark>\n",
       " line is known to be pretty much if not exactly Pureology., Also if you aren’t a member there, OGX brand is very reasonable and sulfate free., This can be found at \n",
       "<mark class=\"entity\" style=\"background: linear-gradient(90deg, #aa9cfc, #fc9ce7); padding: 0.45em 0.6em; margin: 0 0.25em; line-height: 1; border-radius: 0.35em; box-decoration-break: clone; -webkit-box-decoration-break: clone\">\n",
       "    Target\n",
       "    <span style=\"font-size: 0.8em; font-weight: bold; line-height: 1; border-radius: 0.35em; text-transform: uppercase; vertical-align: middle; margin-left: 0.5rem\">ORG</span>\n",
       "</mark>\n",
       ".]</div>"
      ],
      "text/plain": [
       "<IPython.core.display.HTML object>"
      ]
     },
     "metadata": {},
     "output_type": "display_data"
    },
    {
     "name": "stderr",
     "output_type": "stream",
     "text": [
      "/Users/tozturk/anaconda3/lib/python3.6/runpy.py:193: UserWarning: [W006] No entities to visualize found in Doc object. If this is surprising to you, make sure the Doc was processed using a model that supports named entity recognition, and check the `doc.ents` property manually if necessary.\n",
      "  \"__main__\", mod_spec)\n"
     ]
    },
    {
     "data": {
      "text/html": [
       "<div class=\"entities\" style=\"line-height: 2.5\">[still use conditioner.  , moisturizing shampoo helps with keep moisture in the hair, though may contain silicones that essentially just coat the hair and feels like it is moisturized.  , any shampoo strips the oils from the hair and, and you need the conditioner to replace those oils back in the hair.\n",
       "\n",
       ", costco brand is good like above commenter said.]</div>"
      ],
      "text/plain": [
       "<IPython.core.display.HTML object>"
      ]
     },
     "metadata": {},
     "output_type": "display_data"
    },
    {
     "data": {
      "text/html": [
       "<div class=\"entities\" style=\"line-height: 2.5\">[I know you said that you’d miss the length on top but length on top does not equal volume., This is kind of counter intuitive but it makes sense in that length weighs down your hair., A reasonably conservative amount of volume will give you a more slender and less round facial appearance., Get something that tapers on the sides (I wouldn’t do something as tight a skin fade), and then something shorter and textured on top where you blow dry up., Blow drying and a paste would work wonders., Here’s an example of what I am thinking., [This would look great on \n",
       "<mark class=\"entity\" style=\"background: linear-gradient(90deg, #aa9cfc, #fc9ce7); padding: 0.45em 0.6em; margin: 0 0.25em; line-height: 1; border-radius: 0.35em; box-decoration-break: clone; -webkit-box-decoration-break: clone\">\n",
       "    you.](https://goo.gl/images\n",
       "    <span style=\"font-size: 0.8em; font-weight: bold; line-height: 1; border-radius: 0.35em; text-transform: uppercase; vertical-align: middle; margin-left: 0.5rem\">ORG</span>\n",
       "</mark>\n",
       "/WVrYja)]</div>"
      ],
      "text/plain": [
       "<IPython.core.display.HTML object>"
      ]
     },
     "metadata": {},
     "output_type": "display_data"
    },
    {
     "name": "stderr",
     "output_type": "stream",
     "text": [
      "/Users/tozturk/anaconda3/lib/python3.6/runpy.py:193: UserWarning: [W006] No entities to visualize found in Doc object. If this is surprising to you, make sure the Doc was processed using a model that supports named entity recognition, and check the `doc.ents` property manually if necessary.\n",
      "  \"__main__\", mod_spec)\n"
     ]
    },
    {
     "data": {
      "text/html": [
       "<div class=\"entities\" style=\"line-height: 2.5\">[it can definitely cause dandruff., usually dandruff is caused by your scalp being too oily rather than dry though., it may just not be doing as good a job as your scalp is used to at removing oils]</div>"
      ],
      "text/plain": [
       "<IPython.core.display.HTML object>"
      ]
     },
     "metadata": {},
     "output_type": "display_data"
    },
    {
     "data": {
      "text/html": [
       "<div class=\"entities\" style=\"line-height: 2.5\">[To make this haircut work, a barber or stylist will need to translate this cut to fit your bone structure., My assumption is that your bone structure and hair type is different from the picture., I’d focus more on taking inspiration from this image than trying to “copy and paste, ” this haircut.</br></br>, Is there a barber or stylist in your area that’s putting out this kind of work?, In my experience in, salons like \n",
       "<mark class=\"entity\" style=\"background: linear-gradient(90deg, #aa9cfc, #fc9ce7); padding: 0.45em 0.6em; margin: 0 0.25em; line-height: 1; border-radius: 0.35em; box-decoration-break: clone; -webkit-box-decoration-break: clone\">\n",
       "    Great Clips\n",
       "    <span style=\"font-size: 0.8em; font-weight: bold; line-height: 1; border-radius: 0.35em; text-transform: uppercase; vertical-align: middle; margin-left: 0.5rem\">ORG</span>\n",
       "</mark>\n",
       " are awesome for guys that aren’t picky about the outcome of their hair., Ten dollar chop shops are all about quantity over quality., This doesn’t mean that everyone that cuts hair at a lower price point won’t give you a good haircut., Do some research, ask around and find someone specific you can trust with your hair., Let me know if I can help further!</br></br>, Source: I’ve specialized in men’s grooming for 15 years. \n",
       "\n",
       "]</div>"
      ],
      "text/plain": [
       "<IPython.core.display.HTML object>"
      ]
     },
     "metadata": {},
     "output_type": "display_data"
    }
   ],
   "source": [
    "for i in df.body[0:100]:\n",
    "    entities = nlp(i)\n",
    "    #pp.pprint([(X.text, X.label_) for X in doc.ents])\n",
    "    labels = [x.label_ for x in entities.ents]\n",
    "    Counter(labels)\n",
    "    sentences = [x for x in entities.sents]\n",
    "    colors = {'ORG': 'linear-gradient(90deg, #aa9cfc, #fc9ce7)'}\n",
    "    options = {'ents': ['ORG','PERSON','PRODUCT'], 'colors': colors}\n",
    "    displacy.render(nlp(str(sentences)), jupyter=True, style='ent', options = options)\n",
    "    \n",
    "    \n",
    "    TRAIN_DATA = [\n",
    "    (i1, {\"entities\": [(35, 72, \"ORG\"), (75, 101, \"ORG\")]}),\n",
    "    (i2, {\"entities\": [(113, 142, \"ORG\"), (308, 337, \"ORG\"), (152, 200, \"ORG\"), (202, 245, \"ORG\"),\n",
    "                       (308,357, \"ORG\"), (483, 510, \"ORG\"), (519, 541, \"ORG\"), (729, 769, \"ORG\")]}),\n",
    "    (i3, {\"entities\": [(353, 377, \"ORG\"), (760, 776, \"ORG\"), (799, 809, \"ORG\"),\n",
    "                      (814, 826, \"ORG\")]}), \n",
    "]"
   ]
  },
  {
   "cell_type": "code",
   "execution_count": null,
   "metadata": {},
   "outputs": [],
   "source": [
    "TRAIN_DATA = [\n",
    "    (i1, {\"entities\": [(35, 72, \"ORG\"), (75, 101, \"ORG\")]}),\n",
    "    (i2, {\"entities\": [(113, 142, \"ORG\"), (308, 337, \"ORG\"), (152, 200, \"ORG\"), (202, 245, \"ORG\"),\n",
    "                       (308,357, \"ORG\"), (483, 510, \"ORG\"), (519, 541, \"ORG\"), (729, 769, \"ORG\")]}),\n",
    "    (i3, {\"entities\": [(353, 377, \"ORG\"), (760, 776, \"ORG\"), (799, 809, \"ORG\"),\n",
    "                      (814, 826, \"ORG\")]}), \n",
    "]"
   ]
  },
  {
   "cell_type": "code",
   "execution_count": 46,
   "metadata": {},
   "outputs": [
    {
     "data": {
      "text/plain": [
       "[('Great Clips', 1), ('Ten dollar', 1), ('15 years', 1)]"
      ]
     },
     "execution_count": 46,
     "metadata": {},
     "output_type": "execute_result"
    }
   ],
   "source": [
    "Counter(items).most_common(5)"
   ]
  },
  {
   "cell_type": "code",
   "execution_count": 47,
   "metadata": {},
   "outputs": [
    {
     "name": "stdout",
     "output_type": "stream",
     "text": [
      "I’d focus more on taking inspiration from this image than trying to “copy and paste\n"
     ]
    }
   ],
   "source": [
    "sentences = [x for x in entities.sents]\n",
    "print(sentences[2])"
   ]
  },
  {
   "cell_type": "code",
   "execution_count": 87,
   "metadata": {},
   "outputs": [],
   "source": [
    "text = (\"Kinky Curly Curling Custard.... There are no words for how grateful I am\")"
   ]
  },
  {
   "cell_type": "code",
   "execution_count": 88,
   "metadata": {},
   "outputs": [
    {
     "data": {
      "text/html": [
       "<div class=\"entities\" style=\"line-height: 2.5\">[\n",
       "<mark class=\"entity\" style=\"background: linear-gradient(90deg, #aa9cfc, #fc9ce7); padding: 0.45em 0.6em; margin: 0 0.25em; line-height: 1; border-radius: 0.35em; box-decoration-break: clone; -webkit-box-decoration-break: clone\">\n",
       "    Kinky Curly Curling Custard\n",
       "    <span style=\"font-size: 0.8em; font-weight: bold; line-height: 1; border-radius: 0.35em; text-transform: uppercase; vertical-align: middle; margin-left: 0.5rem\">ORG</span>\n",
       "</mark>\n",
       "...., There are no words for how grateful I am]</div>"
      ],
      "text/plain": [
       "<IPython.core.display.HTML object>"
      ]
     },
     "metadata": {},
     "output_type": "display_data"
    }
   ],
   "source": [
    "entities = nlp(text)\n",
    "labels = [x.label_ for x in entities.ents]\n",
    "Counter(labels)\n",
    "sentences = [x for x in entities.sents]\n",
    "colors = {'ORG': 'linear-gradient(90deg, #aa9cfc, #fc9ce7)'}\n",
    "options = {'ents': ['ORG','PERSON','PRODUCT'], 'colors': colors}\n",
    "displacy.render(nlp(str(sentences)), jupyter=True, style='ent', options = options)"
   ]
  },
  {
   "cell_type": "code",
   "execution_count": null,
   "metadata": {},
   "outputs": [],
   "source": []
  },
  {
   "cell_type": "code",
   "execution_count": 93,
   "metadata": {},
   "outputs": [],
   "source": [
    "text2 = \"I use Eufora color but I pulled through an ashy level 8 glaze on the pieces I didn’t highlight\""
   ]
  },
  {
   "cell_type": "code",
   "execution_count": 99,
   "metadata": {},
   "outputs": [
    {
     "data": {
      "text/html": [
       "<div class=\"entities\" style=\"line-height: 2.5\">[I use \n",
       "<mark class=\"entity\" style=\"background: #aa9cfc; padding: 0.45em 0.6em; margin: 0 0.25em; line-height: 1; border-radius: 0.35em; box-decoration-break: clone; -webkit-box-decoration-break: clone\">\n",
       "    Eufora\n",
       "    <span style=\"font-size: 0.8em; font-weight: bold; line-height: 1; border-radius: 0.35em; text-transform: uppercase; vertical-align: middle; margin-left: 0.5rem\">PERSON</span>\n",
       "</mark>\n",
       " color but I pulled through an ashy level 8 glaze on the pieces I didn’t highlight]</div>"
      ],
      "text/plain": [
       "<IPython.core.display.HTML object>"
      ]
     },
     "metadata": {},
     "output_type": "display_data"
    }
   ],
   "source": [
    "entities = nlp(text2)\n",
    "labels = [x.label_ for x in entities.ents]\n",
    "Counter(labels)\n",
    "sentences = [x for x in entities.sents]\n",
    "colors = {'ORG': 'linear-gradient(90deg, #aa9cfc, #fc9ce7)'}\n",
    "options = {'ents': ['ORG','PERSON','PRODUCT'], 'colors': colors}\n",
    "displacy.render(nlp(str(sentences)), jupyter=True, style='ent', options = options)"
   ]
  },
  {
   "cell_type": "code",
   "execution_count": 97,
   "metadata": {},
   "outputs": [],
   "source": [
    "text3 = \"So my routine is just co-washing with the cheapest paraben-free silicone-free conditioner Suave Moisture Milk. Then side part (with a five-head I can't center-part), then scrunch in Renpure Coconut Cream (also cheap). Then finish off with scrunching in LA Looks #10 and just airdrying. 3 hours later I lightly scrunch out the crunch with just my hands. That's it!\""
   ]
  },
  {
   "cell_type": "code",
   "execution_count": 98,
   "metadata": {},
   "outputs": [
    {
     "data": {
      "text/html": [
       "<div class=\"entities\" style=\"line-height: 2.5\">[So my routine is just co-washing with the cheapest paraben-free silicone-free conditioner Suave Moisture Milk., Then side part (with a five-head I can't center-part), then scrunch in Renpure Coconut Cream (also cheap)., Then finish off with scrunching in \n",
       "<mark class=\"entity\" style=\"background: linear-gradient(90deg, #aa9cfc, #fc9ce7); padding: 0.45em 0.6em; margin: 0 0.25em; line-height: 1; border-radius: 0.35em; box-decoration-break: clone; -webkit-box-decoration-break: clone\">\n",
       "    LA Looks\n",
       "    <span style=\"font-size: 0.8em; font-weight: bold; line-height: 1; border-radius: 0.35em; text-transform: uppercase; vertical-align: middle; margin-left: 0.5rem\">ORG</span>\n",
       "</mark>\n",
       " #10 and just airdrying., 3 hours later I lightly scrunch out the crunch with just my hands., That's it!]</div>"
      ],
      "text/plain": [
       "<IPython.core.display.HTML object>"
      ]
     },
     "metadata": {},
     "output_type": "display_data"
    }
   ],
   "source": [
    "entities = nlp(text3)\n",
    "labels = [x.label_ for x in entities.ents]\n",
    "Counter(labels)\n",
    "sentences = [x for x in entities.sents]\n",
    "colors = {'ORG': 'linear-gradient(90deg, #aa9cfc, #fc9ce7)'}\n",
    "options = {'ents': ['ORG','PERSON','PRODUCT'], 'colors': colors}\n",
    "displacy.render(nlp(str(sentences)), jupyter=True, style='ent', options = options)"
   ]
  },
  {
   "cell_type": "code",
   "execution_count": 100,
   "metadata": {},
   "outputs": [],
   "source": [
    "text5 = \"I use the Hask Keratin shampoo and conditioner, while my hair is air drying I put in the Giovanni Frizz Be Gone serum \""
   ]
  },
  {
   "cell_type": "code",
   "execution_count": 101,
   "metadata": {},
   "outputs": [
    {
     "data": {
      "text/html": [
       "<div class=\"entities\" style=\"line-height: 2.5\">[I use the \n",
       "<mark class=\"entity\" style=\"background: #aa9cfc; padding: 0.45em 0.6em; margin: 0 0.25em; line-height: 1; border-radius: 0.35em; box-decoration-break: clone; -webkit-box-decoration-break: clone\">\n",
       "    Hask Keratin\n",
       "    <span style=\"font-size: 0.8em; font-weight: bold; line-height: 1; border-radius: 0.35em; text-transform: uppercase; vertical-align: middle; margin-left: 0.5rem\">PERSON</span>\n",
       "</mark>\n",
       " shampoo and conditioner, while my hair is air drying I put in \n",
       "<mark class=\"entity\" style=\"background: linear-gradient(90deg, #aa9cfc, #fc9ce7); padding: 0.45em 0.6em; margin: 0 0.25em; line-height: 1; border-radius: 0.35em; box-decoration-break: clone; -webkit-box-decoration-break: clone\">\n",
       "    the Giovanni Frizz\n",
       "    <span style=\"font-size: 0.8em; font-weight: bold; line-height: 1; border-radius: 0.35em; text-transform: uppercase; vertical-align: middle; margin-left: 0.5rem\">ORG</span>\n",
       "</mark>\n",
       ", Be Gone serum]</div>"
      ],
      "text/plain": [
       "<IPython.core.display.HTML object>"
      ]
     },
     "metadata": {},
     "output_type": "display_data"
    }
   ],
   "source": [
    "entities = nlp(text5)\n",
    "labels = [x.label_ for x in entities.ents]\n",
    "Counter(labels)\n",
    "sentences = [x for x in entities.sents]\n",
    "colors = {'ORG': 'linear-gradient(90deg, #aa9cfc, #fc9ce7)'}\n",
    "options = {'ents': ['ORG','PERSON','PRODUCT'], 'colors': colors}\n",
    "displacy.render(nlp(str(sentences)), jupyter=True, style='ent', options = options)"
   ]
  },
  {
   "cell_type": "code",
   "execution_count": 102,
   "metadata": {},
   "outputs": [],
   "source": [
    "text6 = \"Routine today: wash with SM coconut daily shampoo & shampoo brush, apply Giovanni Smooth as Silk conditioner. \""
   ]
  },
  {
   "cell_type": "code",
   "execution_count": 104,
   "metadata": {},
   "outputs": [
    {
     "data": {
      "text/html": [
       "<div class=\"entities\" style=\"line-height: 2.5\">[Routine today: wash with \n",
       "<mark class=\"entity\" style=\"background: linear-gradient(90deg, #aa9cfc, #fc9ce7); padding: 0.45em 0.6em; margin: 0 0.25em; line-height: 1; border-radius: 0.35em; box-decoration-break: clone; -webkit-box-decoration-break: clone\">\n",
       "    SM\n",
       "    <span style=\"font-size: 0.8em; font-weight: bold; line-height: 1; border-radius: 0.35em; text-transform: uppercase; vertical-align: middle; margin-left: 0.5rem\">ORG</span>\n",
       "</mark>\n",
       " coconut daily shampoo & shampoo brush, apply \n",
       "<mark class=\"entity\" style=\"background: #aa9cfc; padding: 0.45em 0.6em; margin: 0 0.25em; line-height: 1; border-radius: 0.35em; box-decoration-break: clone; -webkit-box-decoration-break: clone\">\n",
       "    Giovanni Smooth\n",
       "    <span style=\"font-size: 0.8em; font-weight: bold; line-height: 1; border-radius: 0.35em; text-transform: uppercase; vertical-align: middle; margin-left: 0.5rem\">PERSON</span>\n",
       "</mark>\n",
       " as Silk conditioner.]</div>"
      ],
      "text/plain": [
       "<IPython.core.display.HTML object>"
      ]
     },
     "metadata": {},
     "output_type": "display_data"
    }
   ],
   "source": [
    "entities = nlp(text6)\n",
    "labels = [x.label_ for x in entities.ents]\n",
    "Counter(labels)\n",
    "sentences = [x for x in entities.sents]\n",
    "colors = {'ORG': 'linear-gradient(90deg, #aa9cfc, #fc9ce7)'}\n",
    "options = {'ents': ['ORG','PERSON','PRODUCT'], 'colors': colors}\n",
    "displacy.render(nlp(str(sentences)), jupyter=True, style='ent', options = options)"
   ]
  },
  {
   "cell_type": "code",
   "execution_count": 105,
   "metadata": {},
   "outputs": [],
   "source": [
    "X"
   ]
  },
  {
   "cell_type": "code",
   "execution_count": null,
   "metadata": {},
   "outputs": [],
   "source": []
  }
 ],
 "metadata": {
  "kernelspec": {
   "display_name": "Python 3",
   "language": "python",
   "name": "python3"
  },
  "language_info": {
   "codemirror_mode": {
    "name": "ipython",
    "version": 3
   },
   "file_extension": ".py",
   "mimetype": "text/x-python",
   "name": "python",
   "nbconvert_exporter": "python",
   "pygments_lexer": "ipython3",
   "version": "3.6.8"
  }
 },
 "nbformat": 4,
 "nbformat_minor": 2
}
